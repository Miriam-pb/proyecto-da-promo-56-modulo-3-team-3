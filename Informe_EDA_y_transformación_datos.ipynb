{
 "cells": [
  {
   "cell_type": "markdown",
   "id": "42edc34d",
   "metadata": {},
   "source": [
    "# PROYECTO OPTIMIZACIÓN DEL TALENTO PARA ABC CORPORATION\n",
    "\n",
    "Con el objetivo de reducir la rotación de empleados y mejorar la satisfacción en el trabajo, la empresa ABC Corporation nos han contratado para desarrollar un proyecto de análisis de datos. Nuestra misión es identificar factores clave que influyen en la satisfacción en el trabajo y, en última instancia, en la retención de empleados.\n",
    "\n",
    "En este proyecto, presentaremos los resultados de nuestro análisis exploratorio de datos y analizaremos los resultados para proporcionar a ABC Corporation información valiosa que informe sus decisiones estratégicas.\n",
    "\n",
    "La empresa se distingue por tener un equipo multidisciplinario que abarca expertos en UX/UI, marketing, analistas, científicos de datos y otros campos relevantes. Esta diversidad permite una sinergia única entre conocimientos técnicos especializados y perspectivas variadas, lo que les permite ofrecer soluciones personalizadas adaptadas a las necesidades individuales de cada cliente.\n",
    "\n",
    "## ANÁLISIS EXPLORATORIO DE LOS DATOS: INFORME EDA\n",
    "\n",
    "Las columnas que encontramos en el DataFrame del archivo \"hr_raw_data.csv\" son:\n",
    "\n",
    "- age: Edad del empleado.\n",
    "\n",
    "- attrition: Indica si el empleado dejó la empresa (Yes, No).\n",
    "\n",
    "- businesstravel: Frecuencia de viajes laborales (travel_rarely, travel_frequently, non-travel).\n",
    "\n",
    "- dailyrate: Tarifa diaria estimada para clientes, calculada en base al salario.\n",
    "\n",
    "- department: Departamento en el que trabaja el empleado (Research & Development, Sales, Human Resources).\n",
    "\n",
    "- distancefromhome: Distancia en millas o kilómetros desde el hogar al trabajo.\n",
    "\n",
    "- education: Nivel educativo del empleado en escala numérica (1, 2, 3, 4, 5).\n",
    "\n",
    "- educationfield: Campo de estudio académico del empleado (Human Resources, Life Sciences, Marketing, Medical, Technical Degree, Other).\n",
    "\n",
    "- employeecount: Valor constante de \"1\", indicando un solo empleado por registro.\n",
    "\n",
    "- employeenumber: Número de identificación del empleado.\n",
    "\n",
    "- environmentsatisfaction: Nivel de satisfacción con el ambiente laboral (1, 2, 3, 4).\n",
    "\n",
    "- gender: Género del empleado (male, female).\n",
    "\n",
    "- hourlyrate: Tarifa por hora calculada.\n",
    "\n",
    "- jobinvolvement: Nivel de compromiso del empleado en el trabajo (1, 2, 3, 4).\n",
    "\n",
    "- joblevel: Nivel jerárquico del puesto del empleado (1, 2, 3, 4, 5).\n",
    "\n",
    "- jobrole: Función o rol específico del empleado.\n",
    "\n",
    "- jobsatisfaction: Satisfacción general en el puesto (1, 2, 3, 4).\n",
    "\n",
    "- maritalstatus: Estado civil (Married, Divorced, Single).\n",
    "\n",
    "- monthlyincome: Ingreso mensual estimado en base al salario anual.\n",
    "\n",
    "- monthlyrate: Tarifa mensual estimada en función de la tarifa diaria.\n",
    "\n",
    "- numcompaniesworked: Número de empresas previas en las que ha trabajado (0, 1, 2, 3, 4, 5, 6, 7, 8, 9).\n",
    "\n",
    "- over18: Indica si el empleado tiene más de 18 años (Y).\n",
    "\n",
    "- overtime: Indica si el empleado trabaja horas extras (Yes, No).\n",
    "\n",
    "- percentsalaryhike: Incremento porcentual en el salario.\n",
    "\n",
    "- performancerating: Evaluación de desempeño en una escala numérica (1, 2, 3, 4).\n",
    "\n",
    "- relationshipsatisfaction: Satisfacción con relaciones interpersonales en el trabajo (1, 2, 3, 4).\n",
    "\n",
    "- standardhours: Clasificación de jornada (Full Time, Part Time).\n",
    "\n",
    "- stockoptionlevel: Nivel de opciones sobre acciones asignadas (0, 1, 2, 3).\n",
    "\n",
    "- totalworkingyears: Años totales de experiencia laboral.\n",
    "\n",
    "- trainingtimeslastyear: Número de sesiones de entrenamiento en el último año (0, 1, 2, 3, 4, 5, 6).\n",
    "\n",
    "- worklifebalance: Nivel de balance entre vida personal y laboral (1, 2, 3, 4).\n",
    "\n",
    "- yearsatcompany: Años en la empresa actual.\n",
    "\n",
    "- yearsincurrentrole: Años en el rol actual.\n",
    "\n",
    "- yearssincelastpromotion: Años desde la última promoción recibida.\n",
    "\n",
    "- yearswithcurrmanager: Años trabajando con el mismo gerente.\n",
    "\n",
    "- sameasmonthlyincome: Ingreso mensual estimado en base al salario anual.\n",
    "\n",
    "- datebirth: Año de nacimiento del empleado.\n",
    "\n",
    "- salary: Salario anual calculado para el empleado.\n",
    "\n",
    "- roledepartament: Combinación de rol y departamento.\n",
    "\n",
    "- numberchildren: Número de hijos del empleado (no está disponible en ningún caso).\n",
    "\n",
    "- remotework: Indica si el empleado trabaja de forma remota (Yes, No)."
   ]
  },
  {
   "cell_type": "markdown",
   "id": "df888e8f",
   "metadata": {},
   "source": [
    "## INFORME DE TRANSFORMACIÓN DE LOS DATOS\n",
    "\n",
    "Incluye la limpieza de datos, la normalización, la conversión de tipos de datos y la aplicación de reglas empresariales específicas. Las transformaciones se han realizado mediante funciones de Python aplicados a los datos extraídos.\n",
    "\n",
    "En los casos en los que hemos podido resolver qué eran los nulos, hemos procedido a su limpieza. \n",
    "\n",
    "Sin embargo, hay casos en los que ésto no ha sido posible y hemos preferido realizar una revisión más específica de esas columnas que se desarrollará en el Informe de Nulos."
   ]
  },
  {
   "cell_type": "code",
   "execution_count": null,
   "id": "093a5a48",
   "metadata": {},
   "outputs": [],
   "source": [
    "# Importamos las librerias a utilizar\n",
    "import pandas as pd\n",
    "import numpy as np\n",
    "\n",
    "\n",
    "# Configuración para poder visualizar todas las columnas del DataFrame\n",
    "# -----------------------------------------------------------------------\n",
    "pd.set_option('display.max_columns', None)"
   ]
  },
  {
   "cell_type": "code",
   "execution_count": 2,
   "id": "e80df8d2",
   "metadata": {},
   "outputs": [
    {
     "data": {
      "text/html": [
       "<div>\n",
       "<style scoped>\n",
       "    .dataframe tbody tr th:only-of-type {\n",
       "        vertical-align: middle;\n",
       "    }\n",
       "\n",
       "    .dataframe tbody tr th {\n",
       "        vertical-align: top;\n",
       "    }\n",
       "\n",
       "    .dataframe thead th {\n",
       "        text-align: right;\n",
       "    }\n",
       "</style>\n",
       "<table border=\"1\" class=\"dataframe\">\n",
       "  <thead>\n",
       "    <tr style=\"text-align: right;\">\n",
       "      <th></th>\n",
       "      <th>age</th>\n",
       "      <th>attrition</th>\n",
       "      <th>businesstravel</th>\n",
       "      <th>dailyrate</th>\n",
       "      <th>department</th>\n",
       "      <th>distancefromhome</th>\n",
       "      <th>education</th>\n",
       "      <th>educationfield</th>\n",
       "      <th>employeecount</th>\n",
       "      <th>employeenumber</th>\n",
       "      <th>environmentsatisfaction</th>\n",
       "      <th>gender</th>\n",
       "      <th>hourlyrate</th>\n",
       "      <th>jobinvolvement</th>\n",
       "      <th>joblevel</th>\n",
       "      <th>jobrole</th>\n",
       "      <th>jobsatisfaction</th>\n",
       "      <th>maritalstatus</th>\n",
       "      <th>monthlyincome</th>\n",
       "      <th>monthlyrate</th>\n",
       "      <th>numcompaniesworked</th>\n",
       "      <th>over18</th>\n",
       "      <th>overtime</th>\n",
       "      <th>percentsalaryhike</th>\n",
       "      <th>performancerating</th>\n",
       "      <th>relationshipsatisfaction</th>\n",
       "      <th>standardhours</th>\n",
       "      <th>stockoptionlevel</th>\n",
       "      <th>totalworkingyears</th>\n",
       "      <th>trainingtimeslastyear</th>\n",
       "      <th>worklifebalance</th>\n",
       "      <th>yearsatcompany</th>\n",
       "      <th>yearsincurrentrole</th>\n",
       "      <th>yearssincelastpromotion</th>\n",
       "      <th>yearswithcurrmanager</th>\n",
       "      <th>sameasmonthlyincome</th>\n",
       "      <th>datebirth</th>\n",
       "      <th>salary</th>\n",
       "      <th>roledepartament</th>\n",
       "      <th>numberchildren</th>\n",
       "      <th>remotework</th>\n",
       "    </tr>\n",
       "  </thead>\n",
       "  <tbody>\n",
       "    <tr>\n",
       "      <th>0</th>\n",
       "      <td>51</td>\n",
       "      <td>No</td>\n",
       "      <td>NaN</td>\n",
       "      <td>2015.722222</td>\n",
       "      <td>NaN</td>\n",
       "      <td>6</td>\n",
       "      <td>3</td>\n",
       "      <td>NaN</td>\n",
       "      <td>1</td>\n",
       "      <td>1</td>\n",
       "      <td>1</td>\n",
       "      <td>0</td>\n",
       "      <td>NaN</td>\n",
       "      <td>3</td>\n",
       "      <td>5</td>\n",
       "      <td>resEArch DIREcToR</td>\n",
       "      <td>3</td>\n",
       "      <td>NaN</td>\n",
       "      <td>16280,83$</td>\n",
       "      <td>42330,17$</td>\n",
       "      <td>7</td>\n",
       "      <td>Y</td>\n",
       "      <td>No</td>\n",
       "      <td>13</td>\n",
       "      <td>3,0</td>\n",
       "      <td>3</td>\n",
       "      <td>Full Time</td>\n",
       "      <td>0</td>\n",
       "      <td>NaN</td>\n",
       "      <td>5</td>\n",
       "      <td>3,0</td>\n",
       "      <td>20</td>\n",
       "      <td>NaN</td>\n",
       "      <td>15</td>\n",
       "      <td>15</td>\n",
       "      <td>16280,83$</td>\n",
       "      <td>1972</td>\n",
       "      <td>195370,00$</td>\n",
       "      <td>NaN</td>\n",
       "      <td>NaN</td>\n",
       "      <td>Yes</td>\n",
       "    </tr>\n",
       "    <tr>\n",
       "      <th>1</th>\n",
       "      <td>52</td>\n",
       "      <td>No</td>\n",
       "      <td>NaN</td>\n",
       "      <td>2063.388889</td>\n",
       "      <td>NaN</td>\n",
       "      <td>1</td>\n",
       "      <td>4</td>\n",
       "      <td>Life Sciences</td>\n",
       "      <td>1</td>\n",
       "      <td>2</td>\n",
       "      <td>3</td>\n",
       "      <td>0</td>\n",
       "      <td>NaN</td>\n",
       "      <td>2</td>\n",
       "      <td>5</td>\n",
       "      <td>ManAGeR</td>\n",
       "      <td>3</td>\n",
       "      <td>NaN</td>\n",
       "      <td>NaN</td>\n",
       "      <td>43331,17$</td>\n",
       "      <td>0</td>\n",
       "      <td>NaN</td>\n",
       "      <td>NaN</td>\n",
       "      <td>14</td>\n",
       "      <td>3,0</td>\n",
       "      <td>1</td>\n",
       "      <td>NaN</td>\n",
       "      <td>1</td>\n",
       "      <td>34,0</td>\n",
       "      <td>5</td>\n",
       "      <td>3,0</td>\n",
       "      <td>33</td>\n",
       "      <td>NaN</td>\n",
       "      <td>11</td>\n",
       "      <td>9</td>\n",
       "      <td>NaN</td>\n",
       "      <td>1971</td>\n",
       "      <td>199990,00$</td>\n",
       "      <td>NaN</td>\n",
       "      <td>NaN</td>\n",
       "      <td>1</td>\n",
       "    </tr>\n",
       "  </tbody>\n",
       "</table>\n",
       "</div>"
      ],
      "text/plain": [
       "  age attrition businesstravel    dailyrate department  distancefromhome  \\\n",
       "0  51        No            NaN  2015.722222        NaN                 6   \n",
       "1  52        No            NaN  2063.388889        NaN                 1   \n",
       "\n",
       "   education educationfield  employeecount  employeenumber  \\\n",
       "0          3            NaN              1               1   \n",
       "1          4  Life Sciences              1               2   \n",
       "\n",
       "   environmentsatisfaction  gender  hourlyrate  jobinvolvement  joblevel  \\\n",
       "0                        1       0         NaN               3         5   \n",
       "1                        3       0         NaN               2         5   \n",
       "\n",
       "               jobrole  jobsatisfaction maritalstatus monthlyincome  \\\n",
       "0   resEArch DIREcToR                 3           NaN     16280,83$   \n",
       "1             ManAGeR                 3           NaN           NaN   \n",
       "\n",
       "  monthlyrate  numcompaniesworked over18 overtime  percentsalaryhike  \\\n",
       "0   42330,17$                   7      Y       No                 13   \n",
       "1   43331,17$                   0    NaN      NaN                 14   \n",
       "\n",
       "  performancerating  relationshipsatisfaction standardhours  stockoptionlevel  \\\n",
       "0               3,0                         3     Full Time                 0   \n",
       "1               3,0                         1           NaN                 1   \n",
       "\n",
       "  totalworkingyears  trainingtimeslastyear worklifebalance  yearsatcompany  \\\n",
       "0               NaN                      5             3,0              20   \n",
       "1              34,0                      5             3,0              33   \n",
       "\n",
       "  yearsincurrentrole  yearssincelastpromotion  yearswithcurrmanager  \\\n",
       "0                NaN                       15                    15   \n",
       "1                NaN                       11                     9   \n",
       "\n",
       "  sameasmonthlyincome  datebirth      salary roledepartament  numberchildren  \\\n",
       "0           16280,83$       1972  195370,00$             NaN             NaN   \n",
       "1                 NaN       1971  199990,00$             NaN             NaN   \n",
       "\n",
       "  remotework  \n",
       "0        Yes  \n",
       "1          1  "
      ]
     },
     "execution_count": 2,
     "metadata": {},
     "output_type": "execute_result"
    }
   ],
   "source": [
    "df = pd.read_csv(\"hr_raw_data.csv\", index_col=0)\n",
    "df.head(2)"
   ]
  },
  {
   "cell_type": "code",
   "execution_count": 3,
   "id": "37b76415",
   "metadata": {},
   "outputs": [
    {
     "name": "stdout",
     "output_type": "stream",
     "text": [
      "El número de filas que tenemos es 1678, y el número de columnas es 41\n"
     ]
    }
   ],
   "source": [
    "print(f\"El número de filas que tenemos es {df.shape[0]}, y el número de columnas es {df.shape[1]}\")"
   ]
  },
  {
   "cell_type": "markdown",
   "id": "9a36ba5d",
   "metadata": {},
   "source": [
    "Vamos a realizar la transformación columna por columna.\n",
    "\n",
    "#### COLUMNA AGE: Edad del empleado\n",
    "\n",
    "- Índice 0 \n",
    "- Datos de tipo objeto cuando deberían ser integer\n",
    "- Encontramos errores pues algunos valores aparecen expresados en palabras"
   ]
  },
  {
   "cell_type": "code",
   "execution_count": 4,
   "id": "36f9a7fd",
   "metadata": {},
   "outputs": [
    {
     "data": {
      "text/plain": [
       "array([51, 52, 42, 47, 46, 48, 59, 41, 56, 38, 55, 40, 58, 35, 45, 33, 36,\n",
       "       34, 53, 43, 60, 32, 37, 49, 39, 50, 44, 30, 29, 31, 54, 57, 27, 28,\n",
       "       26, 25, 24, 23, 22, 21, 20, 19, 18])"
      ]
     },
     "execution_count": 4,
     "metadata": {},
     "output_type": "execute_result"
    }
   ],
   "source": [
    "# cambiamos los valores por numeros: \n",
    "df['age'] = df['age'].str.replace('forty-seven', '47')\n",
    "df['age'] = df['age'].str.replace('fifty-eight', '58')\n",
    "df['age'] = df['age'].str.replace('thirty-six', '36')\n",
    "df['age'] = df['age'].str.replace('fifty-five', '55')\n",
    "df['age'] = df['age'].str.replace('fifty-two', '52')\n",
    "df['age'] = df['age'].str.replace('thirty-one', '31')\n",
    "df['age'] = df['age'].str.replace('thirty', '30')\n",
    "df['age'] = df['age'].str.replace('twenty-six', '26')\n",
    "df['age'] = df['age'].str.replace('thirty-seven', '37')\n",
    "df['age'] = df['age'].str.replace('thirty-two', '32')\n",
    "df['age'] = df['age'].str.replace('twenty-four', '24')\n",
    "df['age'] = df['age'].str.replace('30-seven', '37')\n",
    "df['age'] = df['age'].str.replace('30-two', '32')\n",
    "\n",
    "# por ultimo cambiamos el tipo:\n",
    "df['age'] = df['age'].astype(int)\n",
    "\n",
    "# comprobar los unicos\n",
    "df['age'].unique()"
   ]
  },
  {
   "cell_type": "markdown",
   "id": "a1d30796",
   "metadata": {},
   "source": [
    "#### COLUMNA ATTRITION: Indica si el empleado dejó la empresa (Yes/No).\n",
    "\n",
    "- Índice 1\n",
    "- Datos de tipo objeto\n",
    "- No encontramos errores ni nulos"
   ]
  },
  {
   "cell_type": "code",
   "execution_count": 5,
   "id": "bf220296",
   "metadata": {},
   "outputs": [
    {
     "data": {
      "text/plain": [
       "array(['No', 'Yes'], dtype=object)"
      ]
     },
     "execution_count": 5,
     "metadata": {},
     "output_type": "execute_result"
    }
   ],
   "source": [
    "df['attrition'].unique()"
   ]
  },
  {
   "cell_type": "markdown",
   "id": "aaa896b5",
   "metadata": {},
   "source": [
    "#### COLUMNA BUSINESS TRAVEL: Frecuencia de viajes laborales (travel_rarely, travel_frequently, non-travel)\n",
    "\n",
    "- Índice 2\n",
    "- Datos de tipo objeto\n",
    "- Encontramos valores nulos que por ahora no podemos resolver. Se revisarán en el Informe de Nulos"
   ]
  },
  {
   "cell_type": "code",
   "execution_count": 6,
   "id": "077db35a",
   "metadata": {},
   "outputs": [
    {
     "data": {
      "text/plain": [
       "array([nan, 'travel_rarely', 'travel_frequently', 'non-travel'],\n",
       "      dtype=object)"
      ]
     },
     "execution_count": 6,
     "metadata": {},
     "output_type": "execute_result"
    }
   ],
   "source": [
    "df['businesstravel'].unique()"
   ]
  },
  {
   "cell_type": "markdown",
   "id": "7e649877",
   "metadata": {},
   "source": [
    "#### COLUMNA DAILY RATE: Tarifa diaria estimada para clientes, calculada en base al salario\n",
    "\n",
    "- Índice 3\n",
    "- Datos de tipo float (decimal) con muchos decimales. Por comodidad procedemos a su redondeo a 0.01\n",
    "- No encontramos errores ni nulos"
   ]
  },
  {
   "cell_type": "code",
   "execution_count": 7,
   "id": "8676a38c",
   "metadata": {},
   "outputs": [
    {
     "data": {
      "text/plain": [
       "array([2015.72, 2063.39, 1984.25, 1771.4 , 1582.77, 1771.92, 1032.49,\n",
       "        556.26, 1712.18, 1973.98, 2060.71, 1382.75, 1362.52, 2016.55,\n",
       "       1861.37, 1985.7 , 1108.92, 1728.38,  639.79, 2047.5 ,  412.8 ,\n",
       "       1077.87, 1657.4 ,  331.19, 1059.19, 1080.75,  635.76,  487.09,\n",
       "        290.04,  476.15, 1749.74, 1063.32,  557.76,  608.94, 1119.96,\n",
       "        610.17,  685.7 , 1441.66, 1374.29,  689.93,  488.53, 1431.24,\n",
       "       1964.96, 1652.34,  991.82, 1187.54,  444.27, 1758.71,  522.79,\n",
       "        380.92, 2047.71,  238.13,  592.94, 1075.29,  654.85,  242.25,\n",
       "        316.95, 1288.65,  827.46, 1760.98,  922.69, 1988.38,  575.4 ,\n",
       "        277.64,  763.8 ,  910.31,  369.26, 1834.34, 1879.12, 1400.8 ,\n",
       "       1979.92, 1766.66, 1979.61, 1032.57,  824.16,  730.79,  487.29,\n",
       "        351.52,  302.2 , 1241.29, 1591.67,  528.87,  992.44,  516.9 ,\n",
       "       1963.72, 1073.02,  288.17,  585.41, 1980.64,  867.9 ,  345.43,\n",
       "        547.75,  789.7 , 1321.46,  679.51,  259.9 , 1764.18, 1353.65,\n",
       "        323.04,  458.51,  688.59, 1016.48, 1842.8 ,  768.24, 1419.37,\n",
       "       1712.49,  442.1 , 1044.54, 1002.24, 1023.9 , 1160.2 ,  316.64,\n",
       "        953.44,  667.75,  315.2 ,  858.52,  324.28,  885.03,  433.02,\n",
       "       1020.19, 1376.45,  585.72,  300.13,  982.84,  704.17,  456.44,\n",
       "        561.37,  626.68,  634.11,  636.79,  481.62,  578.29,  445.61,\n",
       "        367.71,  645.98,  702.  , 2005.3 ,  601.3 ,  253.29,  521.55,\n",
       "        483.06,  542.39,  218.63,  616.37,  313.03, 1363.14,  865.84,\n",
       "        417.96,  495.75,  282.8 ,  550.64,  973.35,  556.73, 1151.33,\n",
       "        511.75,  907.21, 1979.82,  228.63, 1208.48,  547.24, 1145.55,\n",
       "        684.25,  782.79,  447.26,  616.98,  437.87,  539.4 ,  278.57,\n",
       "        244.11,  240.29,  443.03,  693.85, 1065.28,  458.82, 1118.93,\n",
       "        564.57,  658.77,  776.39,  377.62,  901.75, 1392.75,  360.18,\n",
       "        538.57, 1057.75, 2036.67,  640.61,  731.92,  467.79,  876.98,\n",
       "        478.63,  553.33,  421.06,  369.16, 1787.81, 1113.56, 1119.55,\n",
       "       1079.83,  243.7 ,  664.34,  595.21,  452.42,  419.51,  537.13,\n",
       "        273.93,  265.16,  464.49,  512.57,  531.04,  280.43,  365.13,\n",
       "        564.16,  599.75,  997.39,  531.76,  585.52,  754.62,  525.98,\n",
       "       1400.08,  692.51, 1030.82, 1057.33, 1128.52,  267.53, 1225.51,\n",
       "        835.2 , 1739.11,  468.1 , 1849.3 ,  414.14, 1314.65,  348.32,\n",
       "       1081.48,  438.39,  675.69, 1486.85, 2020.78,  849.85,  331.29,\n",
       "       1723.43,  492.56,  471.3 ,  618.33,  670.53,  356.16,  660.01,\n",
       "        281.15,  373.7 ,  637.62,  647.32,  452.01,  264.02,  566.22,\n",
       "        259.38,  329.75,  352.86,  421.67,  553.84, 1334.67,  435.5 ,\n",
       "        512.06,  433.33,  516.49,  788.15,  670.84, 1395.44,  655.06,\n",
       "        658.25,  320.05,  470.06,  436.43,  501.33,  652.27, 1110.26,\n",
       "        306.74,  536.92, 1795.13, 1742.1 ,  446.02,  531.87,  302.92,\n",
       "       1938.55,  503.8 ,  209.34,  309.11,  957.25,  429.41,  913.4 ,\n",
       "        503.08,  220.9 ,  800.22,  406.1 ,  705.92,  411.56,  508.65,\n",
       "        381.95,  279.09,  458.92,  245.45,  566.12,  289.92,  922.17,\n",
       "       1025.14,  562.71, 1933.49,  564.67, 1393.17, 1397.91, 1874.89,\n",
       "        286.21,  973.87,  543.21,  393.61,  246.48,  412.7 , 1814.22,\n",
       "        584.07,  502.36,  479.66, 1082.92,  285.59,  351.62,  387.42,\n",
       "        225.64,  439.32,  549.51,  565.91,  287.03, 1819.9 ,  625.44,\n",
       "        648.76,  353.27,  432.71,  261.24,  584.59, 1416.17,  423.74,\n",
       "        371.12,  424.56,  647.11,  259.69,  402.79,  949.62,  451.18,\n",
       "        212.95,  250.71,  503.18,  387.94,  207.69,  306.84,  285.38,\n",
       "        348.42,  434.67,  671.98,  442.  ,  229.67,  573.75,  221.21,\n",
       "        554.36,  298.9 ,  548.99,  558.17,  500.4 ,  206.45,  454.38,\n",
       "        406.92,  305.4 , 1954.85,  667.02,  276.82,  207.79,  355.02,\n",
       "       1409.78,  518.04, 1944.22,  488.94, 1098.81,  445.4 ,  208.83,\n",
       "        315.51,  405.37,  456.55,  240.19,  274.13,  612.86,  270.52,\n",
       "        331.4 ,  300.34,  715.1 ,  224.51,  333.25, 1925.75,  287.75,\n",
       "        661.35,  509.79,  410.94,  299.62,  278.16,  224.3 ,  696.94,\n",
       "       1131.31,  262.37, 2002.21,  674.56,  232.97,  228.84,  273.83,\n",
       "       1231.39,  262.68,  401.76,  439.73, 1086.12,  247.62,  379.79,\n",
       "        355.64, 2013.25,  274.34,  912.79,  210.99,  500.5 ,  837.78,\n",
       "        472.23,  557.66,  382.57, 1420.71,  236.99,  252.78,  447.98,\n",
       "        265.37,  670.63,  324.9 ,  549.3 ,  452.11,  263.4 ,  612.13,\n",
       "        454.28, 1128.11,  208.62,  439.11,  369.37,  299.1 ,  573.86,\n",
       "        245.25,  248.03,  288.79,  290.02,  451.6 ,  437.46,  436.12,\n",
       "        404.13,  512.67,  210.68,  291.06, 1027.31,  227.71,  213.57,\n",
       "        287.96,  848.51,  269.29,  591.29,  261.96,  245.14, 1968.67,\n",
       "        283.01,  468.21,  398.98,  214.6 ,  216.25,  477.39,  237.51,\n",
       "        523.2 , 1093.24,  564.06,  247.  ,  374.42,  965.92,  333.15,\n",
       "       1694.33,  582.63,  453.97,  213.16,  566.02,  326.24,  686.21,\n",
       "        505.35,  328.1 , 1160.1 ,  419.82,  659.49,  500.91,  341.71,\n",
       "        321.6 , 1568.46,  266.19,  223.48,  451.29,  567.98,  266.91,\n",
       "       1647.9 ,  237.82,  354.2 ,  358.74,  403.1 ,  355.44,  284.76,\n",
       "        649.38, 1353.24,  370.5 ,  217.18,  402.59,  274.65,  212.75,\n",
       "        568.18,  836.02,  410.43,  557.04, 1077.97,  458.1 ,  274.44,\n",
       "        348.21,  234.1 ,  493.9 ,  289.82, 1119.86,  265.26,  633.7 ,\n",
       "        257.52,  352.75,  258.04,  264.75,  404.44, 1440.73,  674.76,\n",
       "        231.52, 1669.78,  436.74, 1528.43, 1770.37,  239.16,  373.18,\n",
       "        276.92, 1984.77,  456.24,  263.3 ,  276.3 ,  533.52, 1229.43,\n",
       "        967.78,  606.46,  254.63,  425.8 ,  221.62,  400.94,  687.87,\n",
       "        215.63,  215.22,  201.29,  311.79, 1003.27,  349.56,  313.44,\n",
       "        239.57,  301.89,  464.8 ,  292.5 ,  676.1 ,  688.48, 1402.25,\n",
       "        224.61, 2013.66, 1981.16, 1036.7 ,  280.94,  685.49,  326.13,\n",
       "        146.51,  123.81,  540.43, 1030.2 , 1649.97,  244.52,  699.63,\n",
       "        686.42,  294.15,  542.49,  255.46,  235.75,  355.75,  470.27,\n",
       "        175.6 ,  264.54,  523.1 ,  390.  , 1013.59,  193.76,  241.43,\n",
       "        219.45,  209.75,  990.68, 1715.48,  214.91,  104.1 ,  811.06,\n",
       "        272.59,  528.36,  277.95,  525.57,  234.62,  238.75,  245.56,\n",
       "        207.17, 1088.7 ,  233.07,  248.96,  218.83,  255.77, 1361.29,\n",
       "        429.52,  268.25, 1888.4 ,  492.87,  108.54,  253.91,  267.84,\n",
       "        487.81,  758.44,  491.73,  291.67,  294.36,  236.27,  217.39,\n",
       "        228.02, 1360.98, 1884.48,  115.35,  244.73,  292.81, 1863.44,\n",
       "        166.21,  491.94,  131.44,  264.23,  161.26,  659.08,  864.19,\n",
       "        499.47,  213.98,  306.63,  703.13,  277.54, 1812.47,  161.88,\n",
       "        431.99,  341.1 ,  143.72, 1122.85,  295.29,  694.88, 1006.57,\n",
       "        546.21,  251.44,  420.02,  304.98,  479.56,  289.3 ,  251.64,\n",
       "        294.67,  302.61,  112.56,  531.45,  295.39,  294.87,  116.48,\n",
       "       2004.79])"
      ]
     },
     "execution_count": 7,
     "metadata": {},
     "output_type": "execute_result"
    }
   ],
   "source": [
    "df['dailyrate'] = round(df['dailyrate'], 2)\n",
    "df['dailyrate'].unique()"
   ]
  },
  {
   "cell_type": "markdown",
   "id": "798bd599",
   "metadata": {},
   "source": [
    "#### COLUMNA DEPARTMENT: Departamento en el que trabaja el empleado (Research & Development, Sales, Human Resources).\n",
    "\n",
    "- Índice 4\n",
    "- Datos de tipo objeto (string) con espacios al inicio y fin del dato. Por normalización, pasamos los datos a minúsculas.\n",
    "- Encontramos valores nulos que por ahora no podemos resolver. Se revisarán en el Informe de Nulos"
   ]
  },
  {
   "cell_type": "code",
   "execution_count": 8,
   "id": "e7c946aa",
   "metadata": {},
   "outputs": [
    {
     "data": {
      "text/plain": [
       "array([nan, 'research & development', 'sales', 'human resources'],\n",
       "      dtype=object)"
      ]
     },
     "execution_count": 8,
     "metadata": {},
     "output_type": "execute_result"
    }
   ],
   "source": [
    "df['department'] = df['department'].str.lower().str.strip()\n",
    "df['department'].unique()"
   ]
  },
  {
   "cell_type": "markdown",
   "id": "b0fb94b0",
   "metadata": {},
   "source": [
    "#### COLUMNA DISTANCE FROM HOME: Distancia en millas o kilómetros desde el hogar al trabajo.\n",
    "\n",
    "- Índice 5\n",
    "- Datos de tipo integer con algunos datos en negativo\n",
    "- No encontramos errores ni nulos"
   ]
  },
  {
   "cell_type": "code",
   "execution_count": 10,
   "id": "d3a308cf",
   "metadata": {},
   "outputs": [
    {
     "data": {
      "text/plain": [
       "array([ 6,  1,  4,  2,  3, 22, 25,  9,  7, 23, 10, 12, 14, 13, 15,  8, 42,\n",
       "       28, 37,  5, 16, 35, 26, 24, 29, 17, 21, 18, 30, 27, 20, 31, 39, 11,\n",
       "       19, 33, 34, 46, 36, 45, 47, 32, 41, 49, 48, 38, 43, 40, 44])"
      ]
     },
     "execution_count": 10,
     "metadata": {},
     "output_type": "execute_result"
    }
   ],
   "source": [
    "df['distancefromhome'] = df['distancefromhome'].astype(str) \n",
    "df['distancefromhome'] = df['distancefromhome'].str.replace('-','') \n",
    "df['distancefromhome'] = df['distancefromhome'].astype(int)\n",
    "df['distancefromhome'].unique()"
   ]
  },
  {
   "cell_type": "markdown",
   "id": "59997714",
   "metadata": {},
   "source": [
    "### COLUMNA EDUCATION: Nivel educativo del empleado en escala numérica (1, 2, 3, 4, 5).\n",
    "\n",
    "- Índice 6\n",
    "- Datos de tipo integer\n",
    "- No encontramos errores ni nulos"
   ]
  },
  {
   "cell_type": "code",
   "execution_count": 11,
   "id": "42688a48",
   "metadata": {},
   "outputs": [
    {
     "data": {
      "text/plain": [
       "array([3, 4, 2, 1, 5])"
      ]
     },
     "execution_count": 11,
     "metadata": {},
     "output_type": "execute_result"
    }
   ],
   "source": [
    "df['education'].unique()"
   ]
  },
  {
   "cell_type": "markdown",
   "id": "db79fcbc",
   "metadata": {},
   "source": [
    "#### COLUMNA EDUCATION FIELD: Campo de estudio académico del empleado (Human Resources, Life Sciences, Marketing, Medical, Technical Degree, Other).\n",
    "\n",
    "- Índice 7\n",
    "- Datos de tipo objeto (string). Por normalización, pasamos los datos a minúsculas.\n",
    "- Encontramos valores nulos que por ahora no podemos resolver. Se revisarán en el Informe de Nulos"
   ]
  },
  {
   "cell_type": "code",
   "execution_count": 15,
   "id": "002da502",
   "metadata": {},
   "outputs": [
    {
     "data": {
      "text/plain": [
       "array([nan, 'life sciences', 'technical degree', 'medical', 'other',\n",
       "       'marketing', 'human resources'], dtype=object)"
      ]
     },
     "execution_count": 15,
     "metadata": {},
     "output_type": "execute_result"
    }
   ],
   "source": [
    "df['educationfield'] = df['educationfield'].str.lower()\n",
    "df['educationfield'].unique()"
   ]
  },
  {
   "cell_type": "markdown",
   "id": "64ef7c87",
   "metadata": {},
   "source": [
    "#### COLUMNA EMPLOYEE COUNT: Valor constante de \"1\", indicando un solo empleado por registro.\n",
    "\n",
    "- Índice 8\n",
    "- Datos de tipo integer\n",
    "- No encontramos errores ni nulos\n",
    "- Valoramos la eliminación de ésta columna por no dar información relevante"
   ]
  },
  {
   "cell_type": "code",
   "execution_count": 13,
   "id": "6d9824f2",
   "metadata": {},
   "outputs": [
    {
     "data": {
      "text/plain": [
       "array([1])"
      ]
     },
     "execution_count": 13,
     "metadata": {},
     "output_type": "execute_result"
    }
   ],
   "source": [
    "df['employeecount'].unique()"
   ]
  },
  {
   "cell_type": "markdown",
   "id": "54cf4531",
   "metadata": {},
   "source": [
    "#### COLUMNA EMPLOYEE NUMBER: Número de identificación del empleado.\n",
    "\n",
    "- Índice 9\n",
    "- Datos de tipo integer\n",
    "- Encontramos 64 valores duplicados que por ahora no podemos resolver. Se revisarán en el Informe de Nulos"
   ]
  },
  {
   "cell_type": "code",
   "execution_count": 14,
   "id": "83ad77db",
   "metadata": {},
   "outputs": [
    {
     "data": {
      "text/plain": [
       "array([   1,    2,    3, ..., 1612, 1613, 1614], shape=(1614,))"
      ]
     },
     "execution_count": 14,
     "metadata": {},
     "output_type": "execute_result"
    }
   ],
   "source": [
    "df['employeenumber'].unique()"
   ]
  },
  {
   "cell_type": "markdown",
   "id": "f1e33195",
   "metadata": {},
   "source": [
    "#### COLUMNA ENVIRONMENT SATISFACTION: Nivel de satisfacción con el ambiente laboral (1, 2, 3, 4).\n",
    "\n",
    "- Índice 10\n",
    "- Datos de tipo integer\n",
    "- Encontramos valores erróneos (entre 1 y 49 cuando deberían ser 1, 2, 3, 4)"
   ]
  },
  {
   "cell_type": "code",
   "execution_count": null,
   "id": "1385464f",
   "metadata": {},
   "outputs": [],
   "source": []
  },
  {
   "cell_type": "markdown",
   "id": "217d92aa",
   "metadata": {},
   "source": [
    "#### COLUMNA GENDER: Género del empleado (male/female).\n",
    "\n",
    "- Índice 11\n",
    "- Datos de tipo integer. Al modificar los valores (0 y 1 por male y female) pasarán a ser datos tipo objeto (string)"
   ]
  },
  {
   "cell_type": "code",
   "execution_count": null,
   "id": "b5c6b634",
   "metadata": {},
   "outputs": [],
   "source": []
  },
  {
   "cell_type": "markdown",
   "id": "023175c4",
   "metadata": {},
   "source": [
    "#### COLUMNA HourlyRate: Tarifa por hora calculada.\n",
    "\n",
    "- Índice 12\n",
    "- Datos de tipo integer. Por normalización, pasamos los datos a minúsculas.\n",
    "- Encontramos valores nulos que por ahora no podemos resolver. Se revisarán en el Informe de Nulos\n",
    "- No encontramos errores ni nulos\n",
    "- Valoramos la eliminación de ésta columna por no dar información relevante"
   ]
  }
 ],
 "metadata": {
  "kernelspec": {
   "display_name": "Promo_56",
   "language": "python",
   "name": "python3"
  },
  "language_info": {
   "codemirror_mode": {
    "name": "ipython",
    "version": 3
   },
   "file_extension": ".py",
   "mimetype": "text/x-python",
   "name": "python",
   "nbconvert_exporter": "python",
   "pygments_lexer": "ipython3",
   "version": "3.12.11"
  }
 },
 "nbformat": 4,
 "nbformat_minor": 5
}
