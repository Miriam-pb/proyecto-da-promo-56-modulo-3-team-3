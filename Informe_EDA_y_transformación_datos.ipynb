{
 "cells": [
  {
   "cell_type": "markdown",
   "id": "42edc34d",
   "metadata": {},
   "source": [
    "# PROYECTO OPTIMIZACIÓN DEL TALENTO PARA ABC CORPORATION\n",
    "\n",
    "Con el objetivo de reducir la rotación de empleados y mejorar la satisfacción en el trabajo, la empresa ABC Corporation nos han contratado para desarrollar un proyecto de análisis de datos. Nuestra misión es identificar factores clave que influyen en la satisfacción en el trabajo y, en última instancia, en la retención de empleados.\n",
    "\n",
    "En este proyecto, presentaremos los resultados de nuestro análisis exploratorio de datos y analizaremos los resultados para proporcionar a ABC Corporation información valiosa que informe sus decisiones estratégicas.\n",
    "\n",
    "La empresa se distingue por tener un equipo multidisciplinario que abarca expertos en UX/UI, marketing, analistas, científicos de datos y otros campos relevantes. Esta diversidad permite una sinergia única entre conocimientos técnicos especializados y perspectivas variadas, lo que les permite ofrecer soluciones personalizadas adaptadas a las necesidades individuales de cada cliente.\n",
    "\n",
    "## ANÁLISIS EXPLORATORIO DE LOS DATOS: INFORME EDA\n",
    "\n",
    "Las columnas que encontramos en el DataFrame del archivo \"hr_raw_data.csv\" son:\n",
    "\n",
    "- age: Edad del empleado.\n",
    "\n",
    "- attrition: Indica si el empleado dejó la empresa (Yes, No).\n",
    "\n",
    "- businesstravel: Frecuencia de viajes laborales (travel_rarely, travel_frequently, non-travel).\n",
    "\n",
    "- dailyrate: Tarifa diaria estimada para clientes, calculada en base al salario.\n",
    "\n",
    "- department: Departamento en el que trabaja el empleado (Research & Development, Sales, Human Resources).\n",
    "\n",
    "- distancefromhome: Distancia en millas o kilómetros desde el hogar al trabajo.\n",
    "\n",
    "- education: Nivel educativo del empleado en escala numérica (1, 2, 3, 4, 5).\n",
    "\n",
    "- educationfield: Campo de estudio académico del empleado (Human Resources, Life Sciences, Marketing, Medical, Technical Degree, Other).\n",
    "\n",
    "- employeecount: Valor constante de \"1\", indicando un solo empleado por registro.\n",
    "\n",
    "- employeenumber: Número de identificación del empleado.\n",
    "\n",
    "- environmentsatisfaction: Nivel de satisfacción con el ambiente laboral (1, 2, 3, 4).\n",
    "\n",
    "- gender: Género del empleado (male, female).\n",
    "\n",
    "- hourlyrate: Tarifa por hora calculada.\n",
    "\n",
    "- jobinvolvement: Nivel de compromiso del empleado en el trabajo (1, 2, 3, 4).\n",
    "\n",
    "- joblevel: Nivel jerárquico del puesto del empleado (1, 2, 3, 4, 5).\n",
    "\n",
    "- jobrole: Función o rol específico del empleado.\n",
    "\n",
    "- jobsatisfaction: Satisfacción general en el puesto (1, 2, 3, 4).\n",
    "\n",
    "- maritalstatus: Estado civil (Married, Divorced, Single).\n",
    "\n",
    "- monthlyincome: Ingreso mensual estimado en base al salario anual.\n",
    "\n",
    "- monthlyrate: Tarifa mensual estimada en función de la tarifa diaria.\n",
    "\n",
    "- numcompaniesworked: Número de empresas previas en las que ha trabajado (0, 1, 2, 3, 4, 5, 6, 7, 8, 9).\n",
    "\n",
    "- over18: Indica si el empleado tiene más de 18 años (Y).\n",
    "\n",
    "- overtime: Indica si el empleado trabaja horas extras (Yes, No).\n",
    "\n",
    "- percentsalaryhike: Incremento porcentual en el salario.\n",
    "\n",
    "- performancerating: Evaluación de desempeño en una escala numérica (1, 2, 3, 4).\n",
    "\n",
    "- relationshipsatisfaction: Satisfacción con relaciones interpersonales en el trabajo (1, 2, 3, 4).\n",
    "\n",
    "- standardhours: Clasificación de jornada (Full Time, Part Time).\n",
    "\n",
    "- stockoptionlevel: Nivel de opciones sobre acciones asignadas (0, 1, 2, 3).\n",
    "\n",
    "- totalworkingyears: Años totales de experiencia laboral.\n",
    "\n",
    "- trainingtimeslastyear: Número de sesiones de entrenamiento en el último año (0, 1, 2, 3, 4, 5, 6).\n",
    "\n",
    "- worklifebalance: Nivel de balance entre vida personal y laboral (1, 2, 3, 4).\n",
    "\n",
    "- yearsatcompany: Años en la empresa actual.\n",
    "\n",
    "- yearsincurrentrole: Años en el rol actual.\n",
    "\n",
    "- yearssincelastpromotion: Años desde la última promoción recibida.\n",
    "\n",
    "- yearswithcurrmanager: Años trabajando con el mismo gerente.\n",
    "\n",
    "- sameasmonthlyincome: Ingreso mensual estimado en base al salario anual.\n",
    "\n",
    "- datebirth: Año de nacimiento del empleado.\n",
    "\n",
    "- salary: Salario anual calculado para el empleado.\n",
    "\n",
    "- roledepartment: Combinación de rol y departamento.\n",
    "\n",
    "- numberchildren: Número de hijos del empleado (no está disponible en ningún caso).\n",
    "\n",
    "- remotework: Indica si el empleado trabaja de forma remota (Yes, No)."
   ]
  },
  {
   "cell_type": "markdown",
   "id": "df888e8f",
   "metadata": {},
   "source": [
    "## INFORME DE TRANSFORMACIÓN DE LOS DATOS\n",
    "\n",
    "Incluye la limpieza de datos, la normalización, la conversión de tipos de datos y la aplicación de reglas empresariales específicas. Las transformaciones se han realizado mediante funciones de Python aplicados a los datos extraídos.\n",
    "\n",
    "En los casos en los que hemos podido resolver qué eran los nulos, hemos procedido a su limpieza. \n",
    "\n",
    "Sin embargo, hay casos en los que ésto no ha sido posible y hemos preferido realizar una revisión más específica de esas columnas que se desarrollará en el Informe de Nulos."
   ]
  },
  {
   "cell_type": "code",
   "execution_count": 1,
   "id": "093a5a48",
   "metadata": {},
   "outputs": [],
   "source": [
    "# Importamos las librerias a utilizar\n",
    "import pandas as pd\n",
    "import numpy as np\n",
    "\n",
    "\n",
    "# Configuración para poder visualizar todas las columnas del DataFrame\n",
    "# -----------------------------------------------------------------------\n",
    "pd.set_option('display.max_columns', None)"
   ]
  },
  {
   "cell_type": "code",
   "execution_count": 2,
   "id": "e80df8d2",
   "metadata": {},
   "outputs": [
    {
     "data": {
      "text/html": [
       "<div>\n",
       "<style scoped>\n",
       "    .dataframe tbody tr th:only-of-type {\n",
       "        vertical-align: middle;\n",
       "    }\n",
       "\n",
       "    .dataframe tbody tr th {\n",
       "        vertical-align: top;\n",
       "    }\n",
       "\n",
       "    .dataframe thead th {\n",
       "        text-align: right;\n",
       "    }\n",
       "</style>\n",
       "<table border=\"1\" class=\"dataframe\">\n",
       "  <thead>\n",
       "    <tr style=\"text-align: right;\">\n",
       "      <th></th>\n",
       "      <th>age</th>\n",
       "      <th>attrition</th>\n",
       "      <th>businesstravel</th>\n",
       "      <th>dailyrate</th>\n",
       "      <th>department</th>\n",
       "      <th>distancefromhome</th>\n",
       "      <th>education</th>\n",
       "      <th>educationfield</th>\n",
       "      <th>employeecount</th>\n",
       "      <th>employeenumber</th>\n",
       "      <th>environmentsatisfaction</th>\n",
       "      <th>gender</th>\n",
       "      <th>hourlyrate</th>\n",
       "      <th>jobinvolvement</th>\n",
       "      <th>joblevel</th>\n",
       "      <th>jobrole</th>\n",
       "      <th>jobsatisfaction</th>\n",
       "      <th>maritalstatus</th>\n",
       "      <th>monthlyincome</th>\n",
       "      <th>monthlyrate</th>\n",
       "      <th>numcompaniesworked</th>\n",
       "      <th>over18</th>\n",
       "      <th>overtime</th>\n",
       "      <th>percentsalaryhike</th>\n",
       "      <th>performancerating</th>\n",
       "      <th>relationshipsatisfaction</th>\n",
       "      <th>standardhours</th>\n",
       "      <th>stockoptionlevel</th>\n",
       "      <th>totalworkingyears</th>\n",
       "      <th>trainingtimeslastyear</th>\n",
       "      <th>worklifebalance</th>\n",
       "      <th>yearsatcompany</th>\n",
       "      <th>yearsincurrentrole</th>\n",
       "      <th>yearssincelastpromotion</th>\n",
       "      <th>yearswithcurrmanager</th>\n",
       "      <th>sameasmonthlyincome</th>\n",
       "      <th>datebirth</th>\n",
       "      <th>salary</th>\n",
       "      <th>roledepartament</th>\n",
       "      <th>numberchildren</th>\n",
       "      <th>remotework</th>\n",
       "    </tr>\n",
       "  </thead>\n",
       "  <tbody>\n",
       "    <tr>\n",
       "      <th>0</th>\n",
       "      <td>51</td>\n",
       "      <td>No</td>\n",
       "      <td>NaN</td>\n",
       "      <td>2015.722222</td>\n",
       "      <td>NaN</td>\n",
       "      <td>6</td>\n",
       "      <td>3</td>\n",
       "      <td>NaN</td>\n",
       "      <td>1</td>\n",
       "      <td>1</td>\n",
       "      <td>1</td>\n",
       "      <td>0</td>\n",
       "      <td>NaN</td>\n",
       "      <td>3</td>\n",
       "      <td>5</td>\n",
       "      <td>resEArch DIREcToR</td>\n",
       "      <td>3</td>\n",
       "      <td>NaN</td>\n",
       "      <td>16280,83$</td>\n",
       "      <td>42330,17$</td>\n",
       "      <td>7</td>\n",
       "      <td>Y</td>\n",
       "      <td>No</td>\n",
       "      <td>13</td>\n",
       "      <td>3,0</td>\n",
       "      <td>3</td>\n",
       "      <td>Full Time</td>\n",
       "      <td>0</td>\n",
       "      <td>NaN</td>\n",
       "      <td>5</td>\n",
       "      <td>3,0</td>\n",
       "      <td>20</td>\n",
       "      <td>NaN</td>\n",
       "      <td>15</td>\n",
       "      <td>15</td>\n",
       "      <td>16280,83$</td>\n",
       "      <td>1972</td>\n",
       "      <td>195370,00$</td>\n",
       "      <td>NaN</td>\n",
       "      <td>NaN</td>\n",
       "      <td>Yes</td>\n",
       "    </tr>\n",
       "    <tr>\n",
       "      <th>1</th>\n",
       "      <td>52</td>\n",
       "      <td>No</td>\n",
       "      <td>NaN</td>\n",
       "      <td>2063.388889</td>\n",
       "      <td>NaN</td>\n",
       "      <td>1</td>\n",
       "      <td>4</td>\n",
       "      <td>Life Sciences</td>\n",
       "      <td>1</td>\n",
       "      <td>2</td>\n",
       "      <td>3</td>\n",
       "      <td>0</td>\n",
       "      <td>NaN</td>\n",
       "      <td>2</td>\n",
       "      <td>5</td>\n",
       "      <td>ManAGeR</td>\n",
       "      <td>3</td>\n",
       "      <td>NaN</td>\n",
       "      <td>NaN</td>\n",
       "      <td>43331,17$</td>\n",
       "      <td>0</td>\n",
       "      <td>NaN</td>\n",
       "      <td>NaN</td>\n",
       "      <td>14</td>\n",
       "      <td>3,0</td>\n",
       "      <td>1</td>\n",
       "      <td>NaN</td>\n",
       "      <td>1</td>\n",
       "      <td>34,0</td>\n",
       "      <td>5</td>\n",
       "      <td>3,0</td>\n",
       "      <td>33</td>\n",
       "      <td>NaN</td>\n",
       "      <td>11</td>\n",
       "      <td>9</td>\n",
       "      <td>NaN</td>\n",
       "      <td>1971</td>\n",
       "      <td>199990,00$</td>\n",
       "      <td>NaN</td>\n",
       "      <td>NaN</td>\n",
       "      <td>1</td>\n",
       "    </tr>\n",
       "  </tbody>\n",
       "</table>\n",
       "</div>"
      ],
      "text/plain": [
       "  age attrition businesstravel    dailyrate department  distancefromhome  \\\n",
       "0  51        No            NaN  2015.722222        NaN                 6   \n",
       "1  52        No            NaN  2063.388889        NaN                 1   \n",
       "\n",
       "   education educationfield  employeecount  employeenumber  \\\n",
       "0          3            NaN              1               1   \n",
       "1          4  Life Sciences              1               2   \n",
       "\n",
       "   environmentsatisfaction  gender  hourlyrate  jobinvolvement  joblevel  \\\n",
       "0                        1       0         NaN               3         5   \n",
       "1                        3       0         NaN               2         5   \n",
       "\n",
       "               jobrole  jobsatisfaction maritalstatus monthlyincome  \\\n",
       "0   resEArch DIREcToR                 3           NaN     16280,83$   \n",
       "1             ManAGeR                 3           NaN           NaN   \n",
       "\n",
       "  monthlyrate  numcompaniesworked over18 overtime  percentsalaryhike  \\\n",
       "0   42330,17$                   7      Y       No                 13   \n",
       "1   43331,17$                   0    NaN      NaN                 14   \n",
       "\n",
       "  performancerating  relationshipsatisfaction standardhours  stockoptionlevel  \\\n",
       "0               3,0                         3     Full Time                 0   \n",
       "1               3,0                         1           NaN                 1   \n",
       "\n",
       "  totalworkingyears  trainingtimeslastyear worklifebalance  yearsatcompany  \\\n",
       "0               NaN                      5             3,0              20   \n",
       "1              34,0                      5             3,0              33   \n",
       "\n",
       "  yearsincurrentrole  yearssincelastpromotion  yearswithcurrmanager  \\\n",
       "0                NaN                       15                    15   \n",
       "1                NaN                       11                     9   \n",
       "\n",
       "  sameasmonthlyincome  datebirth      salary roledepartament  numberchildren  \\\n",
       "0           16280,83$       1972  195370,00$             NaN             NaN   \n",
       "1                 NaN       1971  199990,00$             NaN             NaN   \n",
       "\n",
       "  remotework  \n",
       "0        Yes  \n",
       "1          1  "
      ]
     },
     "execution_count": 2,
     "metadata": {},
     "output_type": "execute_result"
    }
   ],
   "source": [
    "df = pd.read_csv(\"hr_raw_data.csv\", index_col=0)\n",
    "df.head(2)"
   ]
  },
  {
   "cell_type": "code",
   "execution_count": 3,
   "id": "37b76415",
   "metadata": {},
   "outputs": [
    {
     "name": "stdout",
     "output_type": "stream",
     "text": [
      "El número de filas que tenemos es 1678, y el número de columnas es 41\n"
     ]
    }
   ],
   "source": [
    "print(f\"El número de filas que tenemos es {df.shape[0]}, y el número de columnas es {df.shape[1]}\")"
   ]
  },
  {
   "cell_type": "markdown",
   "id": "9a36ba5d",
   "metadata": {},
   "source": [
    "Vamos a realizar la transformación columna por columna.\n",
    "\n",
    "#### COLUMNA AGE: Edad del empleado\n",
    "\n",
    "- Índice 0 \n",
    "- Datos de tipo objeto cuando deberían ser integer\n",
    "- Encontramos errores pues algunos valores aparecen expresados en palabras"
   ]
  },
  {
   "cell_type": "code",
   "execution_count": 4,
   "id": "36f9a7fd",
   "metadata": {},
   "outputs": [
    {
     "data": {
      "text/plain": [
       "array([51, 52, 42, 47, 46, 48, 59, 41, 56, 38, 55, 40, 58, 35, 45, 33, 36,\n",
       "       34, 53, 43, 60, 32, 37, 49, 39, 50, 44, 30, 29, 31, 54, 57, 27, 28,\n",
       "       26, 25, 24, 23, 22, 21, 20, 19, 18])"
      ]
     },
     "execution_count": 4,
     "metadata": {},
     "output_type": "execute_result"
    }
   ],
   "source": [
    "# cambiamos los valores por numeros: \n",
    "df['age'] = df['age'].str.replace('forty-seven', '47')\n",
    "df['age'] = df['age'].str.replace('fifty-eight', '58')\n",
    "df['age'] = df['age'].str.replace('thirty-six', '36')\n",
    "df['age'] = df['age'].str.replace('fifty-five', '55')\n",
    "df['age'] = df['age'].str.replace('fifty-two', '52')\n",
    "df['age'] = df['age'].str.replace('thirty-one', '31')\n",
    "df['age'] = df['age'].str.replace('thirty', '30')\n",
    "df['age'] = df['age'].str.replace('twenty-six', '26')\n",
    "df['age'] = df['age'].str.replace('thirty-seven', '37')\n",
    "df['age'] = df['age'].str.replace('thirty-two', '32')\n",
    "df['age'] = df['age'].str.replace('twenty-four', '24')\n",
    "df['age'] = df['age'].str.replace('30-seven', '37')\n",
    "df['age'] = df['age'].str.replace('30-two', '32')\n",
    "\n",
    "# por ultimo cambiamos el tipo:\n",
    "df['age'] = df['age'].astype(int)\n",
    "\n",
    "# comprobar los unicos\n",
    "df['age'].unique()"
   ]
  },
  {
   "cell_type": "markdown",
   "id": "a1d30796",
   "metadata": {},
   "source": [
    "#### COLUMNA ATTRITION: Indica si el empleado dejó la empresa (yes, no).\n",
    "\n",
    "- Índice 1\n",
    "- Datos de tipo objeto. Por normalización, pasamos los datos a minúsculas.\n",
    "- No encontramos errores ni nulos"
   ]
  },
  {
   "cell_type": "code",
   "execution_count": 5,
   "id": "bf220296",
   "metadata": {},
   "outputs": [
    {
     "data": {
      "text/plain": [
       "array(['no', 'yes'], dtype=object)"
      ]
     },
     "execution_count": 5,
     "metadata": {},
     "output_type": "execute_result"
    }
   ],
   "source": [
    "df['attrition'] = df['attrition'].str.lower()\n",
    "df['attrition'].unique()"
   ]
  },
  {
   "cell_type": "markdown",
   "id": "aaa896b5",
   "metadata": {},
   "source": [
    "#### COLUMNA BUSINESS TRAVEL: Frecuencia de viajes laborales (travel_rarely, travel_frequently, non-travel)\n",
    "\n",
    "- Índice 2\n",
    "- Datos de tipo objeto\n",
    "- Encontramos valores nulos que por ahora no podemos resolver. Se revisarán en el Informe de Nulos"
   ]
  },
  {
   "cell_type": "code",
   "execution_count": 6,
   "id": "077db35a",
   "metadata": {},
   "outputs": [
    {
     "data": {
      "text/plain": [
       "array([nan, 'travel_rarely', 'travel_frequently', 'non-travel'],\n",
       "      dtype=object)"
      ]
     },
     "execution_count": 6,
     "metadata": {},
     "output_type": "execute_result"
    }
   ],
   "source": [
    "df['businesstravel'].unique()"
   ]
  },
  {
   "cell_type": "markdown",
   "id": "7e649877",
   "metadata": {},
   "source": [
    "#### COLUMNA DAILY RATE: Tarifa diaria estimada para clientes, calculada en base al salario\n",
    "\n",
    "- Índice 3\n",
    "- Datos de tipo float (decimal) con muchos decimales. Por comodidad procedemos a su redondeo a 0.01\n",
    "- No encontramos errores ni nulos"
   ]
  },
  {
   "cell_type": "code",
   "execution_count": 7,
   "id": "8676a38c",
   "metadata": {},
   "outputs": [
    {
     "data": {
      "text/plain": [
       "976      356.16\n",
       "999      556.26\n",
       "1037     290.04\n",
       "1371     232.97\n",
       "21      1032.49\n",
       "1293     433.02\n",
       "414      556.26\n",
       "974      556.26\n",
       "425      556.26\n",
       "1018     468.21\n",
       "Name: dailyrate, dtype: float64"
      ]
     },
     "execution_count": 7,
     "metadata": {},
     "output_type": "execute_result"
    }
   ],
   "source": [
    "df['dailyrate'] = round(df['dailyrate'], 2)\n",
    "df['dailyrate'].sample(10)"
   ]
  },
  {
   "cell_type": "markdown",
   "id": "798bd599",
   "metadata": {},
   "source": [
    "#### COLUMNA DEPARTMENT: Departamento en el que trabaja el empleado (research & development, sales, human resources).\n",
    "\n",
    "- Índice 4\n",
    "- Datos de tipo objeto (string) con espacios al inicio y fin del dato. Por normalización, pasamos los datos a minúsculas.\n",
    "- Encontramos valores nulos que por ahora no podemos resolver. Se revisarán en el Informe de Nulos"
   ]
  },
  {
   "cell_type": "code",
   "execution_count": 8,
   "id": "e7c946aa",
   "metadata": {},
   "outputs": [
    {
     "data": {
      "text/plain": [
       "array([nan, 'research & development', 'sales', 'human resources'],\n",
       "      dtype=object)"
      ]
     },
     "execution_count": 8,
     "metadata": {},
     "output_type": "execute_result"
    }
   ],
   "source": [
    "df['department'] = df['department'].str.lower().str.strip()\n",
    "df['department'].unique()"
   ]
  },
  {
   "cell_type": "markdown",
   "id": "b0fb94b0",
   "metadata": {},
   "source": [
    "#### COLUMNA DISTANCE FROM HOME: Distancia en millas o kilómetros desde el hogar al trabajo.\n",
    "\n",
    "- Índice 5\n",
    "- Datos de tipo integer con algunos datos en negativo\n",
    "- No encontramos errores ni nulos"
   ]
  },
  {
   "cell_type": "code",
   "execution_count": 9,
   "id": "d3a308cf",
   "metadata": {},
   "outputs": [
    {
     "data": {
      "text/plain": [
       "array([ 6,  1,  4,  2,  3, 22, 25,  9,  7, 23, 10, 12, 14, 13, 15,  8, 42,\n",
       "       28, 37,  5, 16, 35, 26, 24, 29, 17, 21, 18, 30, 27, 20, 31, 39, 11,\n",
       "       19, 33, 34, 46, 36, 45, 47, 32, 41, 49, 48, 38, 43, 40, 44])"
      ]
     },
     "execution_count": 9,
     "metadata": {},
     "output_type": "execute_result"
    }
   ],
   "source": [
    "df['distancefromhome'] = df['distancefromhome'].astype(str) \n",
    "df['distancefromhome'] = df['distancefromhome'].str.replace('-','') \n",
    "df['distancefromhome'] = df['distancefromhome'].astype(int)\n",
    "df['distancefromhome'].unique()"
   ]
  },
  {
   "cell_type": "markdown",
   "id": "59997714",
   "metadata": {},
   "source": [
    "### COLUMNA EDUCATION: Nivel educativo del empleado en escala numérica (1, 2, 3, 4, 5).\n",
    "\n",
    "- Índice 6\n",
    "- Datos de tipo integer\n",
    "- No encontramos errores ni nulos"
   ]
  },
  {
   "cell_type": "code",
   "execution_count": 10,
   "id": "42688a48",
   "metadata": {},
   "outputs": [
    {
     "data": {
      "text/plain": [
       "array([3, 4, 2, 1, 5])"
      ]
     },
     "execution_count": 10,
     "metadata": {},
     "output_type": "execute_result"
    }
   ],
   "source": [
    "df['education'].unique()"
   ]
  },
  {
   "cell_type": "markdown",
   "id": "db79fcbc",
   "metadata": {},
   "source": [
    "#### COLUMNA EDUCATION FIELD: Campo de estudio académico del empleado (human resources, life sciences, marketing, medical, technical degree, other).\n",
    "\n",
    "- Índice 7\n",
    "- Datos de tipo objeto (string). Por normalización, pasamos los datos a minúsculas.\n",
    "- Encontramos valores nulos que por ahora no podemos resolver. Se revisarán en el Informe de Nulos"
   ]
  },
  {
   "cell_type": "code",
   "execution_count": 11,
   "id": "002da502",
   "metadata": {},
   "outputs": [
    {
     "data": {
      "text/plain": [
       "array([nan, 'life sciences', 'technical degree', 'medical', 'other',\n",
       "       'marketing', 'human resources'], dtype=object)"
      ]
     },
     "execution_count": 11,
     "metadata": {},
     "output_type": "execute_result"
    }
   ],
   "source": [
    "df['educationfield'] = df['educationfield'].str.lower()\n",
    "df['educationfield'].unique()"
   ]
  },
  {
   "cell_type": "markdown",
   "id": "64ef7c87",
   "metadata": {},
   "source": [
    "#### COLUMNA EMPLOYEE COUNT: Valor constante de \"1\", indicando un solo empleado por registro.\n",
    "\n",
    "- Índice 8\n",
    "- Datos de tipo integer\n",
    "- No encontramos errores ni nulos\n",
    "- Valoramos la eliminación de ésta columna por no dar información relevante"
   ]
  },
  {
   "cell_type": "code",
   "execution_count": 12,
   "id": "6d9824f2",
   "metadata": {},
   "outputs": [
    {
     "data": {
      "text/plain": [
       "array([1])"
      ]
     },
     "execution_count": 12,
     "metadata": {},
     "output_type": "execute_result"
    }
   ],
   "source": [
    "df['employeecount'].unique()"
   ]
  },
  {
   "cell_type": "markdown",
   "id": "54cf4531",
   "metadata": {},
   "source": [
    "#### COLUMNA EMPLOYEE NUMBER: Número de identificación del empleado.\n",
    "\n",
    "- Índice 9\n",
    "- Datos de tipo integer\n",
    "- Encontramos 64 valores duplicados que por ahora no podemos resolver. Se revisarán en el Informe de Nulos"
   ]
  },
  {
   "cell_type": "code",
   "execution_count": 13,
   "id": "83ad77db",
   "metadata": {},
   "outputs": [
    {
     "data": {
      "text/plain": [
       "array([   1,    2,    3, ..., 1612, 1613, 1614], shape=(1614,))"
      ]
     },
     "execution_count": 13,
     "metadata": {},
     "output_type": "execute_result"
    }
   ],
   "source": [
    "df['employeenumber'].unique()"
   ]
  },
  {
   "cell_type": "markdown",
   "id": "f1e33195",
   "metadata": {},
   "source": [
    "#### COLUMNA ENVIRONMENT SATISFACTION: Nivel de satisfacción con el ambiente laboral (1, 2, 3, 4).\n",
    "\n",
    "- Índice 10\n",
    "- Datos de tipo integer. Los pasamos a string para reemplazar con regex los valores que comiencen por 1 a 1, que comiencen por 2 a 2, los que comiencen por 3 a 3 y los que comiencen por 4 a 4, y los volvemos a convertir en integer.\n",
    "- Encontramos valores erróneos (entre 1 y 49 cuando deberían ser 1, 2, 3, 4)"
   ]
  },
  {
   "cell_type": "code",
   "execution_count": 14,
   "id": "1385464f",
   "metadata": {},
   "outputs": [
    {
     "name": "stderr",
     "output_type": "stream",
     "text": [
      "C:\\Users\\krigu\\AppData\\Local\\Temp\\ipykernel_22884\\621340109.py:2: FutureWarning: Downcasting behavior in `replace` is deprecated and will be removed in a future version. To retain the old behavior, explicitly call `result.infer_objects(copy=False)`. To opt-in to the future behavior, set `pd.set_option('future.no_silent_downcasting', True)`\n",
      "  df[\"environmentsatisfaction\"] = df[\"environmentsatisfaction\"].replace({r\"^1\": 1, r\"^2\": 2, r\"^3\": 3, r\"^4\": 4}, regex=True)\n"
     ]
    },
    {
     "data": {
      "text/plain": [
       "array([1, 3, 4, 2])"
      ]
     },
     "execution_count": 14,
     "metadata": {},
     "output_type": "execute_result"
    }
   ],
   "source": [
    "df[\"environmentsatisfaction\"] = df[\"environmentsatisfaction\"].astype(str)\n",
    "df[\"environmentsatisfaction\"] = df[\"environmentsatisfaction\"].replace({r\"^1\": 1, r\"^2\": 2, r\"^3\": 3, r\"^4\": 4}, regex=True)\n",
    "df[\"environmentsatisfaction\"] = df[\"environmentsatisfaction\"].astype(int)\n",
    "df[\"environmentsatisfaction\"].unique()"
   ]
  },
  {
   "cell_type": "markdown",
   "id": "217d92aa",
   "metadata": {},
   "source": [
    "#### COLUMNA GENDER: Género del empleado (male, female).\n",
    "\n",
    "- Índice 11\n",
    "- Datos de tipo integer (aparece como 0, 1). Al modificar los valores (0 y 1 por male y female) pasarán a ser datos tipo objeto (string)"
   ]
  },
  {
   "cell_type": "code",
   "execution_count": 15,
   "id": "b5c6b634",
   "metadata": {},
   "outputs": [
    {
     "data": {
      "text/plain": [
       "array(['male', 'female'], dtype=object)"
      ]
     },
     "execution_count": 15,
     "metadata": {},
     "output_type": "execute_result"
    }
   ],
   "source": [
    "df[\"gender\"] = df[\"gender\"].replace({0: \"male\", 1: \"female\"})\n",
    "df[\"gender\"].unique()"
   ]
  },
  {
   "cell_type": "markdown",
   "id": "023175c4",
   "metadata": {},
   "source": [
    "#### COLUMNA HOURLY RATE: Tarifa por hora calculada.\n",
    "\n",
    "- Índice 12\n",
    "- Datos de tipo float con muchos decimales. No se realizan cambios (redondeo) para permitir un cálculo más preciso a la hora de computar los valores nulos tanto de esta como de otras variables relacionadas.\n",
    "- Encontramos valores nulos que por ahora no podemos resolver. Se revisarán en el Informe de Nulos"
   ]
  },
  {
   "cell_type": "code",
   "execution_count": 18,
   "id": "1faad44a",
   "metadata": {},
   "outputs": [
    {
     "data": {
      "text/plain": [
       "1513     82.668651\n",
       "867            NaN\n",
       "614            NaN\n",
       "540            NaN\n",
       "876     246.748016\n",
       "146     175.100198\n",
       "669            NaN\n",
       "723            NaN\n",
       "197     247.580357\n",
       "1437           NaN\n",
       "Name: hourlyrate, dtype: float64"
      ]
     },
     "execution_count": 18,
     "metadata": {},
     "output_type": "execute_result"
    }
   ],
   "source": [
    "df[\"hourlyrate\"].sample(10)"
   ]
  },
  {
   "cell_type": "markdown",
   "id": "03b3e435",
   "metadata": {},
   "source": [
    "#### COLUMNA JOB INVOLVEMENT: Nivel de compromiso del empleado en el trabajo (1, 2, 3, 4).\n",
    "- Índice 13\n",
    "- Datos de tipo integer.\n",
    "- No encontramos errores ni nulos"
   ]
  },
  {
   "cell_type": "code",
   "execution_count": 19,
   "id": "0d8460e4",
   "metadata": {},
   "outputs": [
    {
     "data": {
      "text/plain": [
       "array([3, 2, 4, 1])"
      ]
     },
     "execution_count": 19,
     "metadata": {},
     "output_type": "execute_result"
    }
   ],
   "source": [
    "df[\"jobinvolvement\"].unique()"
   ]
  },
  {
   "cell_type": "markdown",
   "id": "da929edc",
   "metadata": {},
   "source": [
    "#### COLUMNA JOB LEVEL: Nivel jerárquico del puesto del empleado (1, 2, 3, 4, 5).\n",
    "- Índice 14\n",
    "- Datos de tipo integer.\n",
    "- No encontramos errores ni nulos"
   ]
  },
  {
   "cell_type": "code",
   "execution_count": 20,
   "id": "21b7e9ba",
   "metadata": {},
   "outputs": [
    {
     "data": {
      "text/plain": [
       "array([5, 4, 3, 2, 1])"
      ]
     },
     "execution_count": 20,
     "metadata": {},
     "output_type": "execute_result"
    }
   ],
   "source": [
    "df[\"joblevel\"].unique()"
   ]
  },
  {
   "cell_type": "markdown",
   "id": "88a9882f",
   "metadata": {},
   "source": [
    "#### COLUMNA JOB ROLE: Función o rol específico del empleado.\n",
    "- Índice 15\n",
    "- Datos de tipo objeto (string) con espacios al inicio y fin del dato. Por normalización, pasamos los datos a minúsculas.\n",
    "- No encontramos otros errores ni nulos"
   ]
  },
  {
   "cell_type": "code",
   "execution_count": 21,
   "id": "8fcda221",
   "metadata": {},
   "outputs": [
    {
     "data": {
      "text/plain": [
       "array(['research director', 'manager', 'sales executive',\n",
       "       'manufacturing director', 'research scientist',\n",
       "       'healthcare representative', 'laboratory technician',\n",
       "       'sales representative', 'human resources'], dtype=object)"
      ]
     },
     "execution_count": 21,
     "metadata": {},
     "output_type": "execute_result"
    }
   ],
   "source": [
    "df[\"jobrole\"] = df[\"jobrole\"].str.lower()\n",
    "df[\"jobrole\"] = df[\"jobrole\"].str.strip()\n",
    "df[\"jobrole\"].unique()"
   ]
  },
  {
   "cell_type": "markdown",
   "id": "a32294e9",
   "metadata": {},
   "source": [
    "#### COLUMNA JOB SATISFACTION: Satisfacción general en el puesto (1, 2, 3, 4).\n",
    "- Índice 16\n",
    "- Datos de tipo integer.\n",
    "- No encontramos errores ni nulos."
   ]
  },
  {
   "cell_type": "code",
   "execution_count": 22,
   "id": "0a359620",
   "metadata": {},
   "outputs": [
    {
     "data": {
      "text/plain": [
       "array([3, 4, 1, 2])"
      ]
     },
     "execution_count": 22,
     "metadata": {},
     "output_type": "execute_result"
    }
   ],
   "source": [
    "df[\"jobsatisfaction\"].unique()"
   ]
  },
  {
   "cell_type": "markdown",
   "id": "13dc530c",
   "metadata": {},
   "source": [
    "#### COLUMNA MARITAL STATUS: Estado civil (married, divorced, single).\n",
    "- Índice 17\n",
    "- Datos de tipo objeto, con errores de escritura. Por normalización, pasamos los datos a minúsculas.\n",
    "- Corregimos el error identificado en el valor \"marreid\".\n",
    "- Encontramos valores nulos que no podemos resolver. Se revisarán en el Informe de Nulos."
   ]
  },
  {
   "cell_type": "code",
   "execution_count": 23,
   "id": "16d4e09c",
   "metadata": {},
   "outputs": [
    {
     "data": {
      "text/plain": [
       "array([nan, 'married', 'divorced', 'single'], dtype=object)"
      ]
     },
     "execution_count": 23,
     "metadata": {},
     "output_type": "execute_result"
    }
   ],
   "source": [
    "df[\"maritalstatus\"] = df[\"maritalstatus\"].str.lower()\n",
    "df[\"maritalstatus\"] = df[\"maritalstatus\"].str.replace(\"marreid\", \"married\")\n",
    "df[\"maritalstatus\"].unique()"
   ]
  },
  {
   "cell_type": "markdown",
   "id": "5f347baa",
   "metadata": {},
   "source": [
    "#### COLUMNA MONTHLY INCOME: Ingreso mensual estimado en base al salario anual.\n",
    "- Índice 18\n",
    "- Datos numéicos de tipo string, con coma y dolar ($), cuando deberían ser float. No se realiza redondeo de los valores para permitir un cálculo más preciso a la hora de computar los valores nulos tanto de esta como de otras variables relacionadas.\n",
    "- Encontramos valores nulos que no podemos resolver. Se revisarán en el Informe de Nulos."
   ]
  },
  {
   "cell_type": "code",
   "execution_count": 24,
   "id": "cab5eb64",
   "metadata": {},
   "outputs": [
    {
     "data": {
      "text/plain": [
       "661     8280.00\n",
       "1280    4365.00\n",
       "837     3274.17\n",
       "223     5561.67\n",
       "1566        NaN\n",
       "443     4492.84\n",
       "935     4492.84\n",
       "518     8339.32\n",
       "1641    2690.83\n",
       "871     2342.59\n",
       "Name: monthlyincome, dtype: float64"
      ]
     },
     "execution_count": 24,
     "metadata": {},
     "output_type": "execute_result"
    }
   ],
   "source": [
    "df[\"monthlyincome\"] = df[\"monthlyincome\"].str.replace('$', '', regex=False)\n",
    "df[\"monthlyincome\"] = df[\"monthlyincome\"].str.replace(',', '.', regex=False)\n",
    "df['monthlyincome'] = df['monthlyincome'].astype(float)\n",
    "df['monthlyincome'].sample(10)"
   ]
  },
  {
   "cell_type": "markdown",
   "id": "727861f4",
   "metadata": {},
   "source": [
    "#### COLUMNA MONTHLY RATE: Tarifa mensual estimada en función de la tarifa diaria.\n",
    "- Índice 19\n",
    "- Datos numéicos de tipo string, con coma y dolar ($), cuando deberían ser float. No se realiza redondeo de los valores para permitir un cálculo más preciso a la hora de computar los valores nulos tanto de esta como de otras variables relacionadas.\n",
    "- No encontramos nulos."
   ]
  },
  {
   "cell_type": "code",
   "execution_count": 25,
   "id": "b2a8cfb6",
   "metadata": {},
   "outputs": [
    {
     "data": {
      "text/plain": [
       "1259    2342.59\n",
       "1025    3253.33\n",
       "1174    2342.59\n",
       "679     2342.59\n",
       "911         NaN\n",
       "1265        NaN\n",
       "594     3525.00\n",
       "1415    2241.67\n",
       "372     8339.32\n",
       "377         NaN\n",
       "Name: monthlyincome, dtype: float64"
      ]
     },
     "execution_count": 25,
     "metadata": {},
     "output_type": "execute_result"
    }
   ],
   "source": [
    "df[\"monthlyrate\"] = df[\"monthlyrate\"].str.replace('$', '', regex=False)\n",
    "df[\"monthlyrate\"] = df[\"monthlyrate\"].str.replace(',', '.', regex=False)\n",
    "df['monthlyrate'] = df['monthlyrate'].astype(float)\n",
    "df['monthlyincome'].sample(10)"
   ]
  },
  {
   "cell_type": "markdown",
   "id": "5c379735",
   "metadata": {},
   "source": [
    "#### COLUMNA NUM COMPANIES WORKED: Número de empresas previas en las que ha trabajado (0, 1, 2, 3, 4, 5, 6, 7, 8, 9).\n",
    "- Índice 20\n",
    "- Datos de tipo integer.\n",
    "- No encontramos errores ni nulos."
   ]
  },
  {
   "cell_type": "code",
   "execution_count": 26,
   "id": "e7abdbb8",
   "metadata": {},
   "outputs": [
    {
     "data": {
      "text/plain": [
       "array([7, 0, 1, 3, 2, 4, 8, 9, 5, 6])"
      ]
     },
     "execution_count": 26,
     "metadata": {},
     "output_type": "execute_result"
    }
   ],
   "source": [
    "df['numcompaniesworked'].unique()"
   ]
  },
  {
   "cell_type": "markdown",
   "id": "76f07282",
   "metadata": {},
   "source": [
    "#### COLUMNA OVER 18: Indica si el empleado tiene más de 18 años (y).\n",
    "- Índice 21\n",
    "- Datos de tipo objeto (string) y datos nulos. Por normalización, pasamos los datos a minúsculas.\n",
    "- Comparamos con la columna 'age' que todas las filas son mayores de 18 años, por lo que eliminamos los nulos convirtiéndolos en 'y'\n",
    "- Valoramos la eliminación de ésta columna por no dar información relevante"
   ]
  },
  {
   "cell_type": "code",
   "execution_count": 27,
   "id": "293728e3",
   "metadata": {},
   "outputs": [
    {
     "data": {
      "text/plain": [
       "array(['y'], dtype=object)"
      ]
     },
     "execution_count": 27,
     "metadata": {},
     "output_type": "execute_result"
    }
   ],
   "source": [
    "df['over18'] = df['over18'].fillna('Y').str.lower()\n",
    "df['over18'].unique()"
   ]
  },
  {
   "cell_type": "markdown",
   "id": "e6dd82bf",
   "metadata": {},
   "source": [
    "#### COLUMNA OVER TIME: Indica si el empleado trabaja horas extras (yes, no).\n",
    "\n",
    "- Índice 22\n",
    "- Datos de tipo objeto (string). Por normalización, pasamos los datos a minúsculas.\n",
    "- Encontramos valores nulos que por ahora no podemos resolver. Se revisarán en el Informe de Nulos"
   ]
  },
  {
   "cell_type": "code",
   "execution_count": 28,
   "id": "e09f1db7",
   "metadata": {},
   "outputs": [
    {
     "data": {
      "text/plain": [
       "array(['no', nan, 'yes'], dtype=object)"
      ]
     },
     "execution_count": 28,
     "metadata": {},
     "output_type": "execute_result"
    }
   ],
   "source": [
    "df['overtime'] = df['overtime'].str.lower()\n",
    "df['overtime'].unique()"
   ]
  },
  {
   "cell_type": "markdown",
   "id": "94bfb243",
   "metadata": {},
   "source": [
    "#### COLUMNA PERCENT SALARY HIKE: Incremento porcentual en el salario.\n",
    "- Índice 23\n",
    "- Datos de tipo integer.\n",
    "- No encontramos errores ni nulos."
   ]
  },
  {
   "cell_type": "code",
   "execution_count": 29,
   "id": "ed66812f",
   "metadata": {},
   "outputs": [
    {
     "data": {
      "text/plain": [
       "array([13, 14, 11, 19, 12, 25, 16, 17, 22, 23, 20, 15, 21, 24, 18])"
      ]
     },
     "execution_count": 29,
     "metadata": {},
     "output_type": "execute_result"
    }
   ],
   "source": [
    "df['percentsalaryhike'].unique()"
   ]
  },
  {
   "cell_type": "markdown",
   "id": "22b444bf",
   "metadata": {},
   "source": [
    "#### COLUMNA PERFORMANCE RATING: Evaluación de desempeño en una escala numérica (1, 2, 3, 4).\n",
    "- Índice 24\n",
    "- Datos numéricos de tipo string, con comas, cuando deberían ser integer.\n",
    "- Encontramos valores nulos que por ahora no podemos resolver. Se revisarán en el Informe de Nulos"
   ]
  },
  {
   "cell_type": "code",
   "execution_count": 30,
   "id": "21a0cb99",
   "metadata": {},
   "outputs": [
    {
     "data": {
      "text/plain": [
       "array(['3', '4', nan], dtype=object)"
      ]
     },
     "execution_count": 30,
     "metadata": {},
     "output_type": "execute_result"
    }
   ],
   "source": [
    "df[\"performancerating\"] = df[\"performancerating\"].str.replace(\",0\", \"\")\n",
    "df['performancerating'].unique()"
   ]
  },
  {
   "cell_type": "markdown",
   "id": "9f53f987",
   "metadata": {},
   "source": [
    "#### COLUMNA RELATIONSHIP SATISFACTION: Satisfacción con relaciones interpersonales en el trabajo (1, 2, 3, 4).\n",
    "- Índice 25\n",
    "- Datos de tipo integer.\n",
    "- No encontramos errores ni nulos."
   ]
  },
  {
   "cell_type": "code",
   "execution_count": 31,
   "id": "8722a6b0",
   "metadata": {},
   "outputs": [
    {
     "data": {
      "text/plain": [
       "array([3, 1, 4, 2])"
      ]
     },
     "execution_count": 31,
     "metadata": {},
     "output_type": "execute_result"
    }
   ],
   "source": [
    "df['relationshipsatisfaction'].unique()"
   ]
  },
  {
   "cell_type": "markdown",
   "id": "65071232",
   "metadata": {},
   "source": [
    "#### COLUMNA STANDARD HOURS: Clasificación de jornada (full time, part time).\n",
    "- Índice 26\n",
    "- Datos de tipo object (string). Por normalización, pasamos los datos a minúsculas.\n",
    "- Encontramos valores nulos que por ahora no podemos resolver. Se revisarán en el Informe de Nulos"
   ]
  },
  {
   "cell_type": "code",
   "execution_count": 32,
   "id": "dbd4fe31",
   "metadata": {},
   "outputs": [
    {
     "data": {
      "text/plain": [
       "array(['full time', nan, 'part time'], dtype=object)"
      ]
     },
     "execution_count": 32,
     "metadata": {},
     "output_type": "execute_result"
    }
   ],
   "source": [
    "df['standardhours'] = df['standardhours'].str.lower()\n",
    "df['standardhours'].unique()"
   ]
  },
  {
   "cell_type": "markdown",
   "id": "59688976",
   "metadata": {},
   "source": [
    "#### COLUMNA STOCK OPTION LEVEL: Nivel de opciones sobre acciones asignadas (0, 1, 2, 3).\n",
    "- Índice 27\n",
    "- Datos de tipo integer.\n",
    "- No encontramos errores ni nulos."
   ]
  },
  {
   "cell_type": "code",
   "execution_count": 33,
   "id": "98b805f9",
   "metadata": {},
   "outputs": [
    {
     "data": {
      "text/plain": [
       "array([0, 1, 2, 3])"
      ]
     },
     "execution_count": 33,
     "metadata": {},
     "output_type": "execute_result"
    }
   ],
   "source": [
    "df['stockoptionlevel'].unique()"
   ]
  },
  {
   "cell_type": "markdown",
   "id": "d946d407",
   "metadata": {},
   "source": [
    "#### COLUMNA TOTAL WORKING YEARS: Años totales de experiencia laboral.\n",
    "- Índice 28\n",
    "- Datos numéricos de tipo string, con comas, cuando deberían ser integer.\n",
    "- Encontramos valores nulos que por ahora no podemos resolver. Se revisarán en el Informe de Nulos"
   ]
  },
  {
   "cell_type": "code",
   "execution_count": 34,
   "id": "e247997b",
   "metadata": {},
   "outputs": [
    {
     "data": {
      "text/plain": [
       "array([nan, '34', '22', '28', '20', '21', '33', '40', '18', '25', '15',\n",
       "       '17', '26', '16', '24', '14', '23', '27', '19', '11', '38', '37',\n",
       "       '13', '12', '29', '10', '36', '35', '9', '31', '32', '8', '7',\n",
       "       '30', '6', '5', '4', '3', '2', '1', '0'], dtype=object)"
      ]
     },
     "execution_count": 34,
     "metadata": {},
     "output_type": "execute_result"
    }
   ],
   "source": [
    "df[\"totalworkingyears\"] = df[\"totalworkingyears\"].str.replace(\",0\", \"\")\n",
    "df['totalworkingyears'].unique()"
   ]
  },
  {
   "cell_type": "markdown",
   "id": "a4fe3939",
   "metadata": {},
   "source": [
    "#### COLUMNA TRAINING TIMES LAST YEAR: Número de sesiones de entrenamiento en el último año (0, 1, 2, 3, 4, 5, 6).\n",
    "- Índice 29\n",
    "- Datos de tipo integer.\n",
    "- No encontramos errores ni nulos."
   ]
  },
  {
   "cell_type": "code",
   "execution_count": 35,
   "id": "3199e328",
   "metadata": {},
   "outputs": [
    {
     "data": {
      "text/plain": [
       "array([5, 3, 2, 0, 1, 4, 6])"
      ]
     },
     "execution_count": 35,
     "metadata": {},
     "output_type": "execute_result"
    }
   ],
   "source": [
    "df['trainingtimeslastyear'].unique()"
   ]
  },
  {
   "cell_type": "markdown",
   "id": "6ea14f9a",
   "metadata": {},
   "source": [
    "#### COLUMNA WORK LIFE BALANCE: Nivel de balance entre vida personal y laboral (1, 2, 3, 4).\n",
    "\n",
    "- Índice 30\n",
    "- Datos numéricos de tipo string, con comas, cuando deberían ser integer.\n",
    "- Encontramos valores nulos que por ahora no podemos resolver. Se revisarán en el Informe de Nulos"
   ]
  },
  {
   "cell_type": "code",
   "execution_count": 36,
   "id": "d0278fe6",
   "metadata": {},
   "outputs": [
    {
     "data": {
      "text/plain": [
       "array(['3', nan, '2', '4', '1'], dtype=object)"
      ]
     },
     "execution_count": 36,
     "metadata": {},
     "output_type": "execute_result"
    }
   ],
   "source": [
    "df[\"worklifebalance\"] = df[\"worklifebalance\"].str.replace(\",0\", \"\")\n",
    "df[\"worklifebalance\"].unique()"
   ]
  },
  {
   "cell_type": "markdown",
   "id": "f9906d9d",
   "metadata": {},
   "source": [
    "#### COLUMNA YEARS AT COMPANY: Años en la empresa actual.\n",
    "\n",
    "- Índice 31\n",
    "- Datos de tipo integer.\n",
    "- No encontramos errores ni nulos"
   ]
  },
  {
   "cell_type": "code",
   "execution_count": 37,
   "id": "a014b79f",
   "metadata": {},
   "outputs": [
    {
     "data": {
      "text/plain": [
       "array([20, 33, 22, 19, 21, 18, 24, 31, 26, 16, 23, 15, 17, 32, 14, 13, 25,\n",
       "       12, 11, 37, 40, 36, 27, 29, 10,  9, 30,  8,  7, 34,  6,  5,  4,  2,\n",
       "        3,  1,  0])"
      ]
     },
     "execution_count": 37,
     "metadata": {},
     "output_type": "execute_result"
    }
   ],
   "source": [
    "df[\"yearsatcompany\"].unique()"
   ]
  },
  {
   "cell_type": "markdown",
   "id": "1860889c",
   "metadata": {},
   "source": [
    "#### COLUMNA YEARS IN CURRENT ROLE: Años en el rol actual.\n",
    "\n",
    "- Índice 32\n",
    "- Datos numéricos de tipo string, con comas, cuando deberían ser integer.\n",
    "- Encontramos valores nulos que por ahora no podemos resolver. Se revisarán en el Informe de Nulos"
   ]
  },
  {
   "cell_type": "code",
   "execution_count": 38,
   "id": "0f0d6ee2",
   "metadata": {},
   "outputs": [
    {
     "data": {
      "text/plain": [
       "array([nan, '13', '12', '11', '7', '6', '4', '3', '2', '1', '0'],\n",
       "      dtype=object)"
      ]
     },
     "execution_count": 38,
     "metadata": {},
     "output_type": "execute_result"
    }
   ],
   "source": [
    "df[\"yearsincurrentrole\"] = df[\"yearsincurrentrole\"].str.replace(\",0\", \"\")\n",
    "df[\"yearsincurrentrole\"].unique()"
   ]
  },
  {
   "cell_type": "markdown",
   "id": "2099607d",
   "metadata": {},
   "source": [
    "#### COLUMNA YEARS SINCE LAST PROMOTION: Años desde la última promoción recibida.\n",
    "\n",
    "- Índice 33\n",
    "- Datos de tipo integer.\n",
    "- No encontramos errores ni nulos"
   ]
  },
  {
   "cell_type": "code",
   "execution_count": 39,
   "id": "d1257fb4",
   "metadata": {},
   "outputs": [
    {
     "data": {
      "text/plain": [
       "array([15, 11,  5,  2,  4,  7,  0,  1, 13, 14,  8, 12,  3,  6, 10,  9])"
      ]
     },
     "execution_count": 39,
     "metadata": {},
     "output_type": "execute_result"
    }
   ],
   "source": [
    "df[\"yearssincelastpromotion\"].unique()"
   ]
  },
  {
   "cell_type": "markdown",
   "id": "de5b6d72",
   "metadata": {},
   "source": [
    "#### COLUMNA YEARS WITH CURR MANAGER: Años trabajando con el mismo gerente.\n",
    "\n",
    "- Índice 34\n",
    "- Datos de tipo integer.\n",
    "- No encontramos errores ni nulos"
   ]
  },
  {
   "cell_type": "code",
   "execution_count": 40,
   "id": "6563debf",
   "metadata": {},
   "outputs": [
    {
     "data": {
      "text/plain": [
       "array([15,  9,  6,  8,  7, 11, 10, 12,  4,  0,  5, 17,  2, 14,  1, 13,  3,\n",
       "       16])"
      ]
     },
     "execution_count": 40,
     "metadata": {},
     "output_type": "execute_result"
    }
   ],
   "source": [
    "df[\"yearswithcurrmanager\"].unique()"
   ]
  },
  {
   "cell_type": "markdown",
   "id": "5283a661",
   "metadata": {},
   "source": [
    "#### COLUMNA SAME AS MONTHLY INCOME: Ingreso mensual estimado en base al salario anual.\n",
    "\n",
    "- Índice 35\n",
    "- Datos numéicos de tipo string, con coma y dolar ($), cuando deberían ser float.\n",
    "- Encontramos valores nulos que por ahora no podemos resolver. Se revisarán en el Informe de Nulos\n",
    "- Valoramos la eliminación de ésta columna por no dar información relevante, es un duplicado de la comuna MONTHLY INCOME"
   ]
  },
  {
   "cell_type": "code",
   "execution_count": 41,
   "id": "10641650",
   "metadata": {},
   "outputs": [
    {
     "data": {
      "text/plain": [
       "0       16280.83\n",
       "1            NaN\n",
       "2            NaN\n",
       "3       14307.50\n",
       "4       12783.92\n",
       "          ...   \n",
       "1673     3949.17\n",
       "1674    15943.72\n",
       "1675         NaN\n",
       "1676     8339.32\n",
       "1677         NaN\n",
       "Name: sameasmonthlyincome, Length: 1678, dtype: object"
      ]
     },
     "execution_count": 41,
     "metadata": {},
     "output_type": "execute_result"
    }
   ],
   "source": [
    "df[\"sameasmonthlyincome\"] = df[\"sameasmonthlyincome\"].str.replace(\",\", \".\").str.replace(\"$\", \"\")\n",
    "df[\"sameasmonthlyincome\"]"
   ]
  },
  {
   "cell_type": "markdown",
   "id": "2e67c6e6",
   "metadata": {},
   "source": [
    "#### COLUMNA DATE BIRTH: Año de nacimiento del empleado.\n",
    "\n",
    "- Índice 36\n",
    "- Datos de tipo integer.\n",
    "- No encontramos errores ni nulos"
   ]
  },
  {
   "cell_type": "code",
   "execution_count": 42,
   "id": "18ea6930",
   "metadata": {},
   "outputs": [
    {
     "data": {
      "text/plain": [
       "array([1972, 1971, 1981, 1976, 1977, 1975, 1964, 1982, 1967, 1985, 1968,\n",
       "       1983, 1965, 1988, 1978, 1990, 1987, 1989, 1970, 1980, 1963, 1991,\n",
       "       1986, 1974, 1984, 1973, 1979, 1993, 1994, 1992, 1969, 1966, 1996,\n",
       "       1995, 1997, 1998, 1999, 2000, 2001, 2002, 2003, 2004, 2005])"
      ]
     },
     "execution_count": 42,
     "metadata": {},
     "output_type": "execute_result"
    }
   ],
   "source": [
    "df[\"datebirth\"].unique()"
   ]
  },
  {
   "cell_type": "markdown",
   "id": "c2e1fe9f",
   "metadata": {},
   "source": [
    "#### COLUMNA SALARY: Salario anual calculado para el empleado.\n",
    "\n",
    "- Índice 37\n",
    "- Datos numéicos de tipo string, con coma y dolar ($), cuando deberían ser float.\n",
    "- Encontramos valores nulos que por ahora no podemos resolver. Se revisarán en el Informe de Nulos"
   ]
  },
  {
   "cell_type": "code",
   "execution_count": 43,
   "id": "82bd1780",
   "metadata": {},
   "outputs": [
    {
     "data": {
      "text/plain": [
       "0       195370.00\n",
       "1       199990.00\n",
       "2       192320.00\n",
       "3       171690.00\n",
       "4             NaN\n",
       "          ...    \n",
       "1673          NaN\n",
       "1674    191324.62\n",
       "1675     28111.13\n",
       "1676    100071.84\n",
       "1677     53914.11\n",
       "Name: salary, Length: 1678, dtype: object"
      ]
     },
     "execution_count": 43,
     "metadata": {},
     "output_type": "execute_result"
    }
   ],
   "source": [
    "df[\"salary\"] = df[\"salary\"].str.replace(\",\", \".\").str.replace(\"$\", \"\")\n",
    "df[\"salary\"]"
   ]
  },
  {
   "cell_type": "markdown",
   "id": "a32113ca",
   "metadata": {},
   "source": [
    "#### COLUMNA ROLE DEPARTMENT: Combinación de rol y departamento.\n",
    "\n",
    "- Índice 38\n",
    "- Datos de tipo objeto (string) con espacios al inicio y fin del dato. Por normalización, pasamos los datos a minúsculas.\n",
    "- Encontramos valores nulos que por ahora no podemos resolver. Se revisarán en el Informe de Nulos"
   ]
  },
  {
   "cell_type": "code",
   "execution_count": 44,
   "id": "31bca918",
   "metadata": {},
   "outputs": [
    {
     "data": {
      "text/plain": [
       "array([nan, 'manager  -  research & development',\n",
       "       'healthcare representative  -  research & development',\n",
       "       'sales executive  -  sales',\n",
       "       'laboratory technician  -  research & development',\n",
       "       'manufacturing director  -  research & development',\n",
       "       'research scientist  -  research & development',\n",
       "       'research director  -  research & development',\n",
       "       'human resources  -  human resources', 'manager  -  sales',\n",
       "       'sales representative  -  sales', 'manager  -  human resources'],\n",
       "      dtype=object)"
      ]
     },
     "execution_count": 44,
     "metadata": {},
     "output_type": "execute_result"
    }
   ],
   "source": [
    "df[\"roledepartament\"] = df[\"roledepartament\"].str.lower().str.strip()\n",
    "df[\"roledepartament\"].unique()"
   ]
  },
  {
   "cell_type": "markdown",
   "id": "170ae0f8",
   "metadata": {},
   "source": [
    "#### COLUMNA NUMBER CHILDREN: Número de hijos del empleado.\n",
    "\n",
    "- Índice 39\n",
    "- No hay datos, todo son nulos\n",
    "- Valoramos la eliminación de ésta columna por no dar información relevante."
   ]
  },
  {
   "cell_type": "code",
   "execution_count": 45,
   "id": "483960b2",
   "metadata": {},
   "outputs": [
    {
     "data": {
      "text/plain": [
       "array([nan])"
      ]
     },
     "execution_count": 45,
     "metadata": {},
     "output_type": "execute_result"
    }
   ],
   "source": [
    "df[\"numberchildren\"].unique()"
   ]
  },
  {
   "cell_type": "markdown",
   "id": "a7a25395",
   "metadata": {},
   "source": [
    "#### COLUMNA REMOTE WORK: Indica si el empleado trabaja de forma remota (yes, no).\n",
    "\n",
    "- Índice 40\n",
    "- Datos de tipo string. Por normalización, pasamos los datos a minúsculas.\n",
    "- Los valores erróneos ('Yes', '1', 'False', '0', 'True') los cambiamos a ('yes' o 'no')\n",
    "- No encontramos nulos"
   ]
  },
  {
   "cell_type": "code",
   "execution_count": 47,
   "id": "b31731eb",
   "metadata": {},
   "outputs": [
    {
     "data": {
      "text/plain": [
       "array(['yes', 'no'], dtype=object)"
      ]
     },
     "execution_count": 47,
     "metadata": {},
     "output_type": "execute_result"
    }
   ],
   "source": [
    "df[\"remotework\"] = df[\"remotework\"].str.replace(\"1\", \"yes\").str.replace(\"True\", \"yes\").str.replace(\"0\", \"no\").str.replace(\"False\", \"no\").str.lower()\n",
    "df[\"remotework\"].unique()"
   ]
  },
  {
   "cell_type": "code",
   "execution_count": 48,
   "id": "7629dcd0",
   "metadata": {},
   "outputs": [],
   "source": [
    "df.to_csv(\"datos_limpios.csv\")"
   ]
  }
 ],
 "metadata": {
  "kernelspec": {
   "display_name": "Promo_56",
   "language": "python",
   "name": "python3"
  },
  "language_info": {
   "codemirror_mode": {
    "name": "ipython",
    "version": 3
   },
   "file_extension": ".py",
   "mimetype": "text/x-python",
   "name": "python",
   "nbconvert_exporter": "python",
   "pygments_lexer": "ipython3",
   "version": "3.12.11"
  }
 },
 "nbformat": 4,
 "nbformat_minor": 5
}
