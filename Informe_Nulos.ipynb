{
 "cells": [
  {
   "cell_type": "markdown",
   "id": "0a44dda0",
   "metadata": {},
   "source": [
    "## PROYECTO OPTIMIZACIÓN DEL TALENTO PARA ABC CORPORATION"
   ]
  },
  {
   "cell_type": "markdown",
   "id": "5ed170b2",
   "metadata": {},
   "source": [
    "## INFORME DE VALORES NULOS\n",
    "\n",
    "En este archivo incluimos el estudio de los valores nulos por columna y las decisiones tomadas con respecto a ellos para facilitar el análisis de los datos."
   ]
  },
  {
   "cell_type": "code",
   "execution_count": 12,
   "id": "d4346854",
   "metadata": {},
   "outputs": [],
   "source": [
    "# Importamos las librerias a utilizar\n",
    "import pandas as pd\n",
    "import numpy as np\n",
    "\n",
    "\n",
    "# Configuración para poder visualizar todas las columnas del DataFrame\n",
    "# -----------------------------------------------------------------------\n",
    "pd.set_option('display.max_columns', None)"
   ]
  },
  {
   "cell_type": "code",
   "execution_count": 13,
   "id": "87d2cad9",
   "metadata": {},
   "outputs": [
    {
     "data": {
      "text/html": [
       "<div>\n",
       "<style scoped>\n",
       "    .dataframe tbody tr th:only-of-type {\n",
       "        vertical-align: middle;\n",
       "    }\n",
       "\n",
       "    .dataframe tbody tr th {\n",
       "        vertical-align: top;\n",
       "    }\n",
       "\n",
       "    .dataframe thead th {\n",
       "        text-align: right;\n",
       "    }\n",
       "</style>\n",
       "<table border=\"1\" class=\"dataframe\">\n",
       "  <thead>\n",
       "    <tr style=\"text-align: right;\">\n",
       "      <th></th>\n",
       "      <th>age</th>\n",
       "      <th>attrition</th>\n",
       "      <th>businesstravel</th>\n",
       "      <th>dailyrate</th>\n",
       "      <th>department</th>\n",
       "      <th>distancefromhome</th>\n",
       "      <th>education</th>\n",
       "      <th>educationfield</th>\n",
       "      <th>employeecount</th>\n",
       "      <th>employeenumber</th>\n",
       "      <th>environmentsatisfaction</th>\n",
       "      <th>gender</th>\n",
       "      <th>hourlyrate</th>\n",
       "      <th>jobinvolvement</th>\n",
       "      <th>joblevel</th>\n",
       "      <th>jobrole</th>\n",
       "      <th>jobsatisfaction</th>\n",
       "      <th>maritalstatus</th>\n",
       "      <th>monthlyincome</th>\n",
       "      <th>monthlyrate</th>\n",
       "      <th>numcompaniesworked</th>\n",
       "      <th>over18</th>\n",
       "      <th>overtime</th>\n",
       "      <th>percentsalaryhike</th>\n",
       "      <th>performancerating</th>\n",
       "      <th>relationshipsatisfaction</th>\n",
       "      <th>standardhours</th>\n",
       "      <th>stockoptionlevel</th>\n",
       "      <th>totalworkingyears</th>\n",
       "      <th>trainingtimeslastyear</th>\n",
       "      <th>worklifebalance</th>\n",
       "      <th>yearsatcompany</th>\n",
       "      <th>yearsincurrentrole</th>\n",
       "      <th>yearssincelastpromotion</th>\n",
       "      <th>yearswithcurrmanager</th>\n",
       "      <th>sameasmonthlyincome</th>\n",
       "      <th>datebirth</th>\n",
       "      <th>salary</th>\n",
       "      <th>roledepartament</th>\n",
       "      <th>numberchildren</th>\n",
       "      <th>remotework</th>\n",
       "    </tr>\n",
       "  </thead>\n",
       "  <tbody>\n",
       "    <tr>\n",
       "      <th>0</th>\n",
       "      <td>51</td>\n",
       "      <td>No</td>\n",
       "      <td>NaN</td>\n",
       "      <td>2015.722222</td>\n",
       "      <td>NaN</td>\n",
       "      <td>6</td>\n",
       "      <td>3</td>\n",
       "      <td>NaN</td>\n",
       "      <td>1</td>\n",
       "      <td>1</td>\n",
       "      <td>1</td>\n",
       "      <td>0</td>\n",
       "      <td>NaN</td>\n",
       "      <td>3</td>\n",
       "      <td>5</td>\n",
       "      <td>resEArch DIREcToR</td>\n",
       "      <td>3</td>\n",
       "      <td>NaN</td>\n",
       "      <td>16280,83$</td>\n",
       "      <td>42330,17$</td>\n",
       "      <td>7</td>\n",
       "      <td>Y</td>\n",
       "      <td>No</td>\n",
       "      <td>13</td>\n",
       "      <td>3,0</td>\n",
       "      <td>3</td>\n",
       "      <td>Full Time</td>\n",
       "      <td>0</td>\n",
       "      <td>NaN</td>\n",
       "      <td>5</td>\n",
       "      <td>3,0</td>\n",
       "      <td>20</td>\n",
       "      <td>NaN</td>\n",
       "      <td>15</td>\n",
       "      <td>15</td>\n",
       "      <td>16280,83$</td>\n",
       "      <td>1972</td>\n",
       "      <td>195370,00$</td>\n",
       "      <td>NaN</td>\n",
       "      <td>NaN</td>\n",
       "      <td>Yes</td>\n",
       "    </tr>\n",
       "    <tr>\n",
       "      <th>1</th>\n",
       "      <td>52</td>\n",
       "      <td>No</td>\n",
       "      <td>NaN</td>\n",
       "      <td>2063.388889</td>\n",
       "      <td>NaN</td>\n",
       "      <td>1</td>\n",
       "      <td>4</td>\n",
       "      <td>Life Sciences</td>\n",
       "      <td>1</td>\n",
       "      <td>2</td>\n",
       "      <td>3</td>\n",
       "      <td>0</td>\n",
       "      <td>NaN</td>\n",
       "      <td>2</td>\n",
       "      <td>5</td>\n",
       "      <td>ManAGeR</td>\n",
       "      <td>3</td>\n",
       "      <td>NaN</td>\n",
       "      <td>NaN</td>\n",
       "      <td>43331,17$</td>\n",
       "      <td>0</td>\n",
       "      <td>NaN</td>\n",
       "      <td>NaN</td>\n",
       "      <td>14</td>\n",
       "      <td>3,0</td>\n",
       "      <td>1</td>\n",
       "      <td>NaN</td>\n",
       "      <td>1</td>\n",
       "      <td>34,0</td>\n",
       "      <td>5</td>\n",
       "      <td>3,0</td>\n",
       "      <td>33</td>\n",
       "      <td>NaN</td>\n",
       "      <td>11</td>\n",
       "      <td>9</td>\n",
       "      <td>NaN</td>\n",
       "      <td>1971</td>\n",
       "      <td>199990,00$</td>\n",
       "      <td>NaN</td>\n",
       "      <td>NaN</td>\n",
       "      <td>1</td>\n",
       "    </tr>\n",
       "  </tbody>\n",
       "</table>\n",
       "</div>"
      ],
      "text/plain": [
       "  age attrition businesstravel    dailyrate department  distancefromhome  \\\n",
       "0  51        No            NaN  2015.722222        NaN                 6   \n",
       "1  52        No            NaN  2063.388889        NaN                 1   \n",
       "\n",
       "   education educationfield  employeecount  employeenumber  \\\n",
       "0          3            NaN              1               1   \n",
       "1          4  Life Sciences              1               2   \n",
       "\n",
       "   environmentsatisfaction  gender  hourlyrate  jobinvolvement  joblevel  \\\n",
       "0                        1       0         NaN               3         5   \n",
       "1                        3       0         NaN               2         5   \n",
       "\n",
       "               jobrole  jobsatisfaction maritalstatus monthlyincome  \\\n",
       "0   resEArch DIREcToR                 3           NaN     16280,83$   \n",
       "1             ManAGeR                 3           NaN           NaN   \n",
       "\n",
       "  monthlyrate  numcompaniesworked over18 overtime  percentsalaryhike  \\\n",
       "0   42330,17$                   7      Y       No                 13   \n",
       "1   43331,17$                   0    NaN      NaN                 14   \n",
       "\n",
       "  performancerating  relationshipsatisfaction standardhours  stockoptionlevel  \\\n",
       "0               3,0                         3     Full Time                 0   \n",
       "1               3,0                         1           NaN                 1   \n",
       "\n",
       "  totalworkingyears  trainingtimeslastyear worklifebalance  yearsatcompany  \\\n",
       "0               NaN                      5             3,0              20   \n",
       "1              34,0                      5             3,0              33   \n",
       "\n",
       "  yearsincurrentrole  yearssincelastpromotion  yearswithcurrmanager  \\\n",
       "0                NaN                       15                    15   \n",
       "1                NaN                       11                     9   \n",
       "\n",
       "  sameasmonthlyincome  datebirth      salary roledepartament  numberchildren  \\\n",
       "0           16280,83$       1972  195370,00$             NaN             NaN   \n",
       "1                 NaN       1971  199990,00$             NaN             NaN   \n",
       "\n",
       "  remotework  \n",
       "0        Yes  \n",
       "1          1  "
      ]
     },
     "execution_count": 13,
     "metadata": {},
     "output_type": "execute_result"
    }
   ],
   "source": [
    "df = pd.read_csv(\"hr_raw_data.csv\", index_col=0)\n",
    "df.head(2)"
   ]
  },
  {
   "cell_type": "markdown",
   "id": "ca59c7db",
   "metadata": {},
   "source": [
    "A continuación revisamos los valores nulos por columna."
   ]
  },
  {
   "cell_type": "markdown",
   "id": "c4cfc408",
   "metadata": {},
   "source": [
    "#### COLUMNAS CON VALORES NULOS"
   ]
  },
  {
   "cell_type": "code",
   "execution_count": 14,
   "id": "9f40d7c0",
   "metadata": {},
   "outputs": [
    {
     "data": {
      "text/plain": [
       "businesstravel          801\n",
       "department             1366\n",
       "educationfield          774\n",
       "hourlyrate             1267\n",
       "maritalstatus           675\n",
       "monthlyincome           489\n",
       "over18                  938\n",
       "overtime                696\n",
       "performancerating       200\n",
       "standardhours           351\n",
       "totalworkingyears       549\n",
       "worklifebalance         114\n",
       "yearsincurrentrole     1643\n",
       "sameasmonthlyincome     489\n",
       "salary                  285\n",
       "roledepartament        1366\n",
       "numberchildren         1678\n",
       "dtype: int64"
      ]
     },
     "execution_count": 14,
     "metadata": {},
     "output_type": "execute_result"
    }
   ],
   "source": [
    "df.isnull().sum()[df.isnull().sum() > 0]"
   ]
  },
  {
   "cell_type": "markdown",
   "id": "127494f8",
   "metadata": {},
   "source": [
    "#### COLUMNA BUSINESS TRAVEL: Frecuencia de viajes laborales (travel_rarely, travel_frequently, non-travel)\n",
    "\n",
    "- Índice 2\n",
    "- 801 valores nulos\n",
    "- Imputación por moda (travel_rarely)\n",
    "- No observamos relación con otras columnas (revisamos relación con department, jobrole, distancefromhome, jobinvolvement, joblevel, performancerating, yearsincurrentrole y remotework)"
   ]
  },
  {
   "cell_type": "code",
   "execution_count": null,
   "id": "b9cd17be",
   "metadata": {},
   "outputs": [],
   "source": [
    "df['businesstravel'].fillna(df['businesstravel'].mode()[0], inplace=True)"
   ]
  },
  {
   "cell_type": "markdown",
   "id": "098f5ae2",
   "metadata": {},
   "source": [
    "#### COLUMNA DEPARTMENT: Departamento en el que trabaja el empleado (research & development, sales, human resources).\n",
    "\n",
    "- Índice 4\n",
    "- 1366 valores nulos\n",
    "- Relacionamos la columna con 'jobrole'. Descubrimos que los valores faltantes pertenecen a 'Manager', por lo que los sustituímos por una nueva categoría llamada 'Executive Team'."
   ]
  },
  {
   "cell_type": "code",
   "execution_count": null,
   "id": "1636927e",
   "metadata": {},
   "outputs": [],
   "source": [
    "departamentos = {'sales executive': 'sales', 'research scientist': 'research & development', \n",
    "                 'laboratory technician': 'research & development', 'manufacturing director': 'research & development', \n",
    "                 'healthcare representative': 'research & development', \n",
    "                 'sales representative': 'sales', 'research director': 'research & development',\n",
    "                 'human resources': 'human resources'} # diccionario para rellenar 'deparment' en base a 'jobrole'\n",
    "def department(jobrole):\n",
    "    return departamentos.get(jobrole, None) # funcion para agregar los departamentos o ignorar\n",
    "\n",
    "df['department'] = df['jobrole'].apply(department)\n",
    "df['department'] = df['department'].fillna('Executive Team')"
   ]
  },
  {
   "cell_type": "markdown",
   "id": "1c285fed",
   "metadata": {},
   "source": [
    "#### COLUMNA EDUCATION FIELD: Campo de estudio académico del empleado (human resources, life sciences, marketing, medical, technical degree, other).\n",
    "\n",
    "- Índice 7\n",
    "- 774 valores nulos\n",
    "- No tiene relación con otras columnas. Los sustituimos por 'Unknown'."
   ]
  },
  {
   "cell_type": "code",
   "execution_count": null,
   "id": "ae16df2d",
   "metadata": {},
   "outputs": [],
   "source": [
    "df['educationfield'] = df['educationfield'].fillna(\"unknown\")"
   ]
  },
  {
   "cell_type": "markdown",
   "id": "e23d5f22",
   "metadata": {},
   "source": [
    "#### COLUMNA HOURLY RATE: Tarifa por hora calculada.\n",
    "\n",
    "- Índice 12\n",
    "- 1267 valores nulos\n",
    "- Relación con la columna dailyrate. \n",
    "- Los valores disponibles nos indican que hourlyrate=dailyrate/8, los calculamos:"
   ]
  },
  {
   "cell_type": "code",
   "execution_count": null,
   "id": "9734fa46",
   "metadata": {},
   "outputs": [],
   "source": [
    "df['hourlyrate'] = df['hourlyrate'].fillna(df['dailyrate'] / 8)\n",
    "df[\"hourlyrate\"]=round(df[\"hourlyrate\"], 2)\n",
    "df[\"dailyrate\"]=round(df[\"dailyrate\"], 2)"
   ]
  },
  {
   "cell_type": "markdown",
   "id": "7322b816",
   "metadata": {},
   "source": [
    "#### COLUMNA MARITAL STATUS: Estado civil (married, divorced, single).\n",
    "\n",
    "- Índice 17\n",
    "- 675 valores nulos (30%)\n",
    "- Al no disponer de este dato, lo sustituimos por \"Unknown\""
   ]
  },
  {
   "cell_type": "code",
   "execution_count": null,
   "id": "8898c69d",
   "metadata": {},
   "outputs": [],
   "source": [
    "df['maritalstatus'] = df['maritalstatus'].fillna(\"unknown\")"
   ]
  },
  {
   "cell_type": "markdown",
   "id": "b595bed0",
   "metadata": {},
   "source": [
    "#### COLUMNA MONTHLY INCOME: Ingreso mensual estimado en base al salario anual.\n",
    "\n",
    "- Índice 18\n",
    "- 489 valores nulos\n",
    "- Comprobamos que tiene relación con la columna 'Salary': MonthlyIncome = Salary/12\n",
    "- Rellenamos los valores nulos calculando el ingreso mensual"
   ]
  },
  {
   "cell_type": "code",
   "execution_count": null,
   "id": "8f20a693",
   "metadata": {},
   "outputs": [],
   "source": [
    "df['monthlyincome'] = np.where(df['monthlyincome'].isna(), df['salary'] / 12, df['monthlyincome'])\n",
    "df[\"monthlyincome\"]=round(df[\"monthlyincome\"], 2)\n",
    "df[\"salary\"]=round(df[\"salary\"], 2)"
   ]
  },
  {
   "cell_type": "markdown",
   "id": "820a76f6",
   "metadata": {},
   "source": [
    "#### COLUMNA OVER 18: Indica si el empleado tiene más de 18 años (y).\n",
    "\n",
    "- Índice 21\n",
    "- 938 valores nulos\n",
    "- Nulos modificados por 'y', ya que al comparar con la columna \"age\" comprobamos que todos los empleados son mayores de edad."
   ]
  },
  {
   "cell_type": "code",
   "execution_count": null,
   "id": "c3f3c13e",
   "metadata": {},
   "outputs": [],
   "source": [
    "df['over18'] = df['over18'].fillna('y')"
   ]
  },
  {
   "cell_type": "markdown",
   "id": "22de6e8e",
   "metadata": {},
   "source": [
    "#### COLUMNA OVERTIME: Indica si el empleado trabaja horas extras (yes, no).\n",
    "\n",
    "- Índice 22\n",
    "- 696 valores nulos\n",
    "- Imputación por moda (valor más frecuente ('No'))"
   ]
  },
  {
   "cell_type": "code",
   "execution_count": null,
   "id": "564d5722",
   "metadata": {},
   "outputs": [],
   "source": [
    "df['overtime'] = df['overtime'].fillna('no')"
   ]
  },
  {
   "cell_type": "markdown",
   "id": "a23eb5ed",
   "metadata": {},
   "source": [
    "#### COLUMNA PERFORMANCE RATING: Evaluación de desempeño en una escala numérica (1, 2, 3, 4).\n",
    "\n",
    "- Índice 24\n",
    "- 200 valores nulos\n",
    "- Se trata de una escala ordinal (1-4), pero solo tenemos valores 3.0 y 4.0. \n",
    "- Imputación valores nulos por \"unknown\""
   ]
  },
  {
   "cell_type": "code",
   "execution_count": null,
   "id": "dc16bd6b",
   "metadata": {},
   "outputs": [],
   "source": [
    "df['performancerating'] = df['performancerating'].fillna(\"unknown\")"
   ]
  },
  {
   "cell_type": "markdown",
   "id": "a8b870cf",
   "metadata": {},
   "source": [
    "#### COLUMNA STANDARD HOURS: Clasificación de jornada (full time, part time).\n",
    "\n",
    "- Índice 26\n",
    "- 351 valores nulos\n",
    "- Imputación valores nulos por \"fulltime\" (anteriormente fulltime no se registraba)"
   ]
  },
  {
   "cell_type": "code",
   "execution_count": null,
   "id": "dd16fdfa",
   "metadata": {},
   "outputs": [],
   "source": [
    "df['standardhours'].fillna('fulltime', inplace=True)"
   ]
  },
  {
   "cell_type": "markdown",
   "id": "131686cf",
   "metadata": {},
   "source": [
    "#### COLUMNA TOTAL WORKING YEARS: Años totales de experiencia laboral.\n",
    "\n",
    "- Índice 28\n",
    "- 549 valores nulos\n",
    "- Imputación por la media"
   ]
  },
  {
   "cell_type": "code",
   "execution_count": null,
   "id": "da182a8a",
   "metadata": {},
   "outputs": [],
   "source": [
    "from sklearn.impute import SimpleImputer\n",
    "\n",
    "imputer = SimpleImputer(strategy='mean') \n",
    "df['totalworkingyears'] = imputer.fit_transform(df[['totalworkingyears']])\n",
    "df['totalworkingyears']=df['totalworkingyears'].round(2)"
   ]
  },
  {
   "cell_type": "markdown",
   "id": "0201501a",
   "metadata": {},
   "source": [
    "#### COLUMNA WORK LIFE BALANCE: Nivel de balance entre vida personal y laboral (1, 2, 3, 4).\n",
    "\n",
    "- Índice 30\n",
    "- 114 valores nulos\n",
    "- Imputación por moda (valor más frecuente: 3)"
   ]
  },
  {
   "cell_type": "code",
   "execution_count": null,
   "id": "982545c9",
   "metadata": {},
   "outputs": [],
   "source": [
    "df['worklifebalance'].fillna(df['worklifebalance'].mode()[0], inplace=True)"
   ]
  },
  {
   "cell_type": "markdown",
   "id": "85369a91",
   "metadata": {},
   "source": [
    "#### COLUMNA YEARS IN CURRENT ROLE: Años en el rol actual.\n",
    "\n",
    "- Índice 32\n",
    "- 1643 valores nulos\n",
    "- Para esta columna la imputación no posible ya que no disponemos del dato ni podemos relacionarlo con otras columnas."
   ]
  },
  {
   "cell_type": "markdown",
   "id": "cd7d1fc9",
   "metadata": {},
   "source": [
    "#### COLUMNA SAME AS MONTHLY INCOME: Ingreso mensual estimado en base al salario anual.\n",
    "\n",
    "- Índice 35\n",
    "- 489 valores nulos\n",
    "- Mismo valor que MonthlyIncome. Tiene relación con 'Salary', podría calcularse diviendo el salario entre 12\n",
    "- Valoramos la eliminación de esta columna por dar información duplicada"
   ]
  },
  {
   "cell_type": "markdown",
   "id": "6d672594",
   "metadata": {},
   "source": [
    "#### COLUMNA SALARY: Salario anual calculado para el empleado.\n",
    "\n",
    "- Índice 37\n",
    "- 285 valores nulos\n",
    "- "
   ]
  },
  {
   "cell_type": "markdown",
   "id": "54f044b3",
   "metadata": {},
   "source": [
    "#### COLUMNA ROLE DEPARTMENT: Combinación de rol y departamento.\n",
    "\n",
    "- Índice 38\n",
    "- 1366 valores nulos\n",
    "- Eliminaremos esta columna ya que no aporta información novedosa."
   ]
  },
  {
   "cell_type": "markdown",
   "id": "4a43b892",
   "metadata": {},
   "source": [
    "#### COLUMNA NUMBER CHILDREN: Número de hijos del empleado.\n",
    "\n",
    "- Índice 39\n",
    "- 1678 valores nulos (Todos los datos de esta columna) \n",
    "- Valoramos la eliminación de la columna ya que la información no es relevante.\n",
    "- En caso de que la empresa desee obtener esta información, deberá ser solicitada"
   ]
  },
  {
   "cell_type": "code",
   "execution_count": 15,
   "id": "945a35a0",
   "metadata": {},
   "outputs": [
    {
     "data": {
      "text/plain": [
       "array([nan])"
      ]
     },
     "execution_count": 15,
     "metadata": {},
     "output_type": "execute_result"
    }
   ],
   "source": [
    "df[\"numberchildren\"].unique()"
   ]
  },
  {
   "cell_type": "code",
   "execution_count": null,
   "id": "c4daeed8",
   "metadata": {},
   "outputs": [],
   "source": []
  }
 ],
 "metadata": {
  "kernelspec": {
   "display_name": "base",
   "language": "python",
   "name": "python3"
  },
  "language_info": {
   "codemirror_mode": {
    "name": "ipython",
    "version": 3
   },
   "file_extension": ".py",
   "mimetype": "text/x-python",
   "name": "python",
   "nbconvert_exporter": "python",
   "pygments_lexer": "ipython3",
   "version": "3.12.7"
  }
 },
 "nbformat": 4,
 "nbformat_minor": 5
}
