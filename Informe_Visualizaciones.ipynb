{
 "cells": [
  {
   "cell_type": "markdown",
   "id": "879df89c",
   "metadata": {},
   "source": [
    "## VISUALIZACIÓN DE LOS DATOS\n",
    "\n",
    "El objetivo es proporcionar a ABC Corporation un informe detallado del contexto general de la empresa utilizando visualizaciones en Python junto con análisis descriptivos donde se resaltaremos tendencias, áreas de mejora y fortalezas dentro de la empresa. Este informe permitirá una comprensión más profunda de la situación actual y servirá como base para la toma de decisiones informadas.\n"
   ]
  },
  {
   "cell_type": "code",
   "execution_count": 1,
   "id": "1d9b1099",
   "metadata": {},
   "outputs": [],
   "source": [
    "# importamos las librerías que necesitaremos\n",
    "\n",
    "# Tratamiento de datos\n",
    "# -----------------------------------------------------------------------\n",
    "import pandas as pd\n",
    "import numpy as np\n",
    "\n",
    "# Visualización de datos en gráficas\n",
    "# -----------------------------------------------------------------------\n",
    "import matplotlib.pyplot as plt\n",
    "import seaborn as sns\n",
    "\n",
    "# Evaluar linealidad de las relaciones entre las variables\n",
    "# y la distribución de las variables\n",
    "# ------------------------------------------------------------------------------\n",
    "#import scipy.stats as stats\n",
    "import scipy.stats as stats\n",
    "from scipy.stats import shapiro, poisson, chisquare, expon, kstest\n",
    "\n",
    "\n",
    "# Configuración\n",
    "# -----------------------------------------------------------------------\n",
    "pd.set_option('display.max_columns', None) # para poder visualizar todas las columnas de los DataFrames"
   ]
  },
  {
   "cell_type": "code",
   "execution_count": 2,
   "id": "e2db2876",
   "metadata": {},
   "outputs": [
    {
     "data": {
      "text/html": [
       "<div>\n",
       "<style scoped>\n",
       "    .dataframe tbody tr th:only-of-type {\n",
       "        vertical-align: middle;\n",
       "    }\n",
       "\n",
       "    .dataframe tbody tr th {\n",
       "        vertical-align: top;\n",
       "    }\n",
       "\n",
       "    .dataframe thead th {\n",
       "        text-align: right;\n",
       "    }\n",
       "</style>\n",
       "<table border=\"1\" class=\"dataframe\">\n",
       "  <thead>\n",
       "    <tr style=\"text-align: right;\">\n",
       "      <th></th>\n",
       "      <th>attrition</th>\n",
       "      <th>businesstravel</th>\n",
       "      <th>dailyrate</th>\n",
       "      <th>department</th>\n",
       "      <th>distancefromhome</th>\n",
       "      <th>education</th>\n",
       "      <th>educationfield</th>\n",
       "      <th>employeenumber</th>\n",
       "      <th>environmentsatisfaction</th>\n",
       "      <th>gender</th>\n",
       "      <th>jobinvolvement</th>\n",
       "      <th>joblevel</th>\n",
       "      <th>jobrole</th>\n",
       "      <th>jobsatisfaction</th>\n",
       "      <th>maritalstatus</th>\n",
       "      <th>numcompaniesworked</th>\n",
       "      <th>overtime</th>\n",
       "      <th>percentsalaryhike</th>\n",
       "      <th>performancerating</th>\n",
       "      <th>relationshipsatisfaction</th>\n",
       "      <th>standardhours</th>\n",
       "      <th>stockoptionlevel</th>\n",
       "      <th>totalworkingyears</th>\n",
       "      <th>trainingtimeslastyear</th>\n",
       "      <th>worklifebalance</th>\n",
       "      <th>yearsatcompany</th>\n",
       "      <th>yearsincurrentrole</th>\n",
       "      <th>yearssincelastpromotion</th>\n",
       "      <th>yearswithcurrmanager</th>\n",
       "      <th>datebirth</th>\n",
       "      <th>salary</th>\n",
       "      <th>remotework</th>\n",
       "    </tr>\n",
       "    <tr>\n",
       "      <th>age</th>\n",
       "      <th></th>\n",
       "      <th></th>\n",
       "      <th></th>\n",
       "      <th></th>\n",
       "      <th></th>\n",
       "      <th></th>\n",
       "      <th></th>\n",
       "      <th></th>\n",
       "      <th></th>\n",
       "      <th></th>\n",
       "      <th></th>\n",
       "      <th></th>\n",
       "      <th></th>\n",
       "      <th></th>\n",
       "      <th></th>\n",
       "      <th></th>\n",
       "      <th></th>\n",
       "      <th></th>\n",
       "      <th></th>\n",
       "      <th></th>\n",
       "      <th></th>\n",
       "      <th></th>\n",
       "      <th></th>\n",
       "      <th></th>\n",
       "      <th></th>\n",
       "      <th></th>\n",
       "      <th></th>\n",
       "      <th></th>\n",
       "      <th></th>\n",
       "      <th></th>\n",
       "      <th></th>\n",
       "      <th></th>\n",
       "    </tr>\n",
       "  </thead>\n",
       "  <tbody>\n",
       "    <tr>\n",
       "      <th>51</th>\n",
       "      <td>no</td>\n",
       "      <td>travel_rarely</td>\n",
       "      <td>2015.72</td>\n",
       "      <td>research &amp; development</td>\n",
       "      <td>6</td>\n",
       "      <td>3</td>\n",
       "      <td>unknown</td>\n",
       "      <td>1</td>\n",
       "      <td>1</td>\n",
       "      <td>male</td>\n",
       "      <td>3</td>\n",
       "      <td>5</td>\n",
       "      <td>research director</td>\n",
       "      <td>3</td>\n",
       "      <td>unknown</td>\n",
       "      <td>7</td>\n",
       "      <td>no</td>\n",
       "      <td>13</td>\n",
       "      <td>3.0</td>\n",
       "      <td>3</td>\n",
       "      <td>full time</td>\n",
       "      <td>0</td>\n",
       "      <td>11.36</td>\n",
       "      <td>5</td>\n",
       "      <td>3.0</td>\n",
       "      <td>20</td>\n",
       "      <td>NaN</td>\n",
       "      <td>15</td>\n",
       "      <td>15</td>\n",
       "      <td>1972</td>\n",
       "      <td>195370.0</td>\n",
       "      <td>yes</td>\n",
       "    </tr>\n",
       "    <tr>\n",
       "      <th>52</th>\n",
       "      <td>no</td>\n",
       "      <td>travel_rarely</td>\n",
       "      <td>2063.39</td>\n",
       "      <td>Executive Team</td>\n",
       "      <td>1</td>\n",
       "      <td>4</td>\n",
       "      <td>life sciences</td>\n",
       "      <td>2</td>\n",
       "      <td>3</td>\n",
       "      <td>male</td>\n",
       "      <td>2</td>\n",
       "      <td>5</td>\n",
       "      <td>manager</td>\n",
       "      <td>3</td>\n",
       "      <td>unknown</td>\n",
       "      <td>0</td>\n",
       "      <td>no</td>\n",
       "      <td>14</td>\n",
       "      <td>3.0</td>\n",
       "      <td>1</td>\n",
       "      <td>fulltime</td>\n",
       "      <td>1</td>\n",
       "      <td>34.00</td>\n",
       "      <td>5</td>\n",
       "      <td>3.0</td>\n",
       "      <td>33</td>\n",
       "      <td>NaN</td>\n",
       "      <td>11</td>\n",
       "      <td>9</td>\n",
       "      <td>1971</td>\n",
       "      <td>199990.0</td>\n",
       "      <td>yes</td>\n",
       "    </tr>\n",
       "  </tbody>\n",
       "</table>\n",
       "</div>"
      ],
      "text/plain": [
       "    attrition businesstravel  dailyrate              department  \\\n",
       "age                                                               \n",
       "51         no  travel_rarely    2015.72  research & development   \n",
       "52         no  travel_rarely    2063.39          Executive Team   \n",
       "\n",
       "     distancefromhome  education educationfield  employeenumber  \\\n",
       "age                                                               \n",
       "51                  6          3        unknown               1   \n",
       "52                  1          4  life sciences               2   \n",
       "\n",
       "     environmentsatisfaction gender  jobinvolvement  joblevel  \\\n",
       "age                                                             \n",
       "51                         1   male               3         5   \n",
       "52                         3   male               2         5   \n",
       "\n",
       "               jobrole  jobsatisfaction maritalstatus  numcompaniesworked  \\\n",
       "age                                                                         \n",
       "51   research director                3       unknown                   7   \n",
       "52             manager                3       unknown                   0   \n",
       "\n",
       "    overtime  percentsalaryhike performancerating  relationshipsatisfaction  \\\n",
       "age                                                                           \n",
       "51        no                 13               3.0                         3   \n",
       "52        no                 14               3.0                         1   \n",
       "\n",
       "    standardhours  stockoptionlevel  totalworkingyears  trainingtimeslastyear  \\\n",
       "age                                                                             \n",
       "51      full time                 0              11.36                      5   \n",
       "52       fulltime                 1              34.00                      5   \n",
       "\n",
       "     worklifebalance  yearsatcompany  yearsincurrentrole  \\\n",
       "age                                                        \n",
       "51               3.0              20                 NaN   \n",
       "52               3.0              33                 NaN   \n",
       "\n",
       "     yearssincelastpromotion  yearswithcurrmanager  datebirth    salary  \\\n",
       "age                                                                       \n",
       "51                        15                    15       1972  195370.0   \n",
       "52                        11                     9       1971  199990.0   \n",
       "\n",
       "    remotework  \n",
       "age             \n",
       "51         yes  \n",
       "52         yes  "
      ]
     },
     "execution_count": 2,
     "metadata": {},
     "output_type": "execute_result"
    }
   ],
   "source": [
    "df = pd.read_csv(\"CSV_LIMPIADO.csv\", index_col=0)\n",
    "df.head(2)"
   ]
  },
  {
   "cell_type": "code",
   "execution_count": null,
   "id": "bcf9698e",
   "metadata": {},
   "outputs": [
    {
     "name": "stdout",
     "output_type": "stream",
     "text": [
      "El número de filas que tenemos es 1678, y el número de columnas es 32\n",
      "Nota: La columna Loyalty Number no se cuenta en .shape porque es el índice, pero también forma parte del DataFrame.\n"
     ]
    }
   ],
   "source": [
    "print(f\"El número de filas que tenemos es {df.shape[0]}, y el número de columnas es {df.shape[1]}\")\n",
    "print(\"Nota: La columna Age no se cuenta en .shape porque es el índice, pero también forma parte del DataFrame.\")"
   ]
  },
  {
   "cell_type": "code",
   "execution_count": 4,
   "id": "05e217d6",
   "metadata": {},
   "outputs": [],
   "source": [
    "df = df.reset_index()"
   ]
  },
  {
   "cell_type": "code",
   "execution_count": 5,
   "id": "21b809b1",
   "metadata": {},
   "outputs": [
    {
     "data": {
      "text/html": [
       "<div>\n",
       "<style scoped>\n",
       "    .dataframe tbody tr th:only-of-type {\n",
       "        vertical-align: middle;\n",
       "    }\n",
       "\n",
       "    .dataframe tbody tr th {\n",
       "        vertical-align: top;\n",
       "    }\n",
       "\n",
       "    .dataframe thead th {\n",
       "        text-align: right;\n",
       "    }\n",
       "</style>\n",
       "<table border=\"1\" class=\"dataframe\">\n",
       "  <thead>\n",
       "    <tr style=\"text-align: right;\">\n",
       "      <th></th>\n",
       "      <th>age</th>\n",
       "      <th>attrition</th>\n",
       "      <th>businesstravel</th>\n",
       "      <th>dailyrate</th>\n",
       "      <th>department</th>\n",
       "      <th>distancefromhome</th>\n",
       "      <th>education</th>\n",
       "      <th>educationfield</th>\n",
       "      <th>employeenumber</th>\n",
       "      <th>environmentsatisfaction</th>\n",
       "      <th>gender</th>\n",
       "      <th>jobinvolvement</th>\n",
       "      <th>joblevel</th>\n",
       "      <th>jobrole</th>\n",
       "      <th>jobsatisfaction</th>\n",
       "      <th>maritalstatus</th>\n",
       "      <th>numcompaniesworked</th>\n",
       "      <th>overtime</th>\n",
       "      <th>percentsalaryhike</th>\n",
       "      <th>performancerating</th>\n",
       "      <th>relationshipsatisfaction</th>\n",
       "      <th>standardhours</th>\n",
       "      <th>stockoptionlevel</th>\n",
       "      <th>totalworkingyears</th>\n",
       "      <th>trainingtimeslastyear</th>\n",
       "      <th>worklifebalance</th>\n",
       "      <th>yearsatcompany</th>\n",
       "      <th>yearsincurrentrole</th>\n",
       "      <th>yearssincelastpromotion</th>\n",
       "      <th>yearswithcurrmanager</th>\n",
       "      <th>datebirth</th>\n",
       "      <th>salary</th>\n",
       "      <th>remotework</th>\n",
       "    </tr>\n",
       "  </thead>\n",
       "  <tbody>\n",
       "    <tr>\n",
       "      <th>0</th>\n",
       "      <td>51</td>\n",
       "      <td>no</td>\n",
       "      <td>travel_rarely</td>\n",
       "      <td>2015.72</td>\n",
       "      <td>research &amp; development</td>\n",
       "      <td>6</td>\n",
       "      <td>3</td>\n",
       "      <td>unknown</td>\n",
       "      <td>1</td>\n",
       "      <td>1</td>\n",
       "      <td>male</td>\n",
       "      <td>3</td>\n",
       "      <td>5</td>\n",
       "      <td>research director</td>\n",
       "      <td>3</td>\n",
       "      <td>unknown</td>\n",
       "      <td>7</td>\n",
       "      <td>no</td>\n",
       "      <td>13</td>\n",
       "      <td>3.0</td>\n",
       "      <td>3</td>\n",
       "      <td>full time</td>\n",
       "      <td>0</td>\n",
       "      <td>11.36</td>\n",
       "      <td>5</td>\n",
       "      <td>3.0</td>\n",
       "      <td>20</td>\n",
       "      <td>NaN</td>\n",
       "      <td>15</td>\n",
       "      <td>15</td>\n",
       "      <td>1972</td>\n",
       "      <td>195370.0</td>\n",
       "      <td>yes</td>\n",
       "    </tr>\n",
       "    <tr>\n",
       "      <th>1</th>\n",
       "      <td>52</td>\n",
       "      <td>no</td>\n",
       "      <td>travel_rarely</td>\n",
       "      <td>2063.39</td>\n",
       "      <td>Executive Team</td>\n",
       "      <td>1</td>\n",
       "      <td>4</td>\n",
       "      <td>life sciences</td>\n",
       "      <td>2</td>\n",
       "      <td>3</td>\n",
       "      <td>male</td>\n",
       "      <td>2</td>\n",
       "      <td>5</td>\n",
       "      <td>manager</td>\n",
       "      <td>3</td>\n",
       "      <td>unknown</td>\n",
       "      <td>0</td>\n",
       "      <td>no</td>\n",
       "      <td>14</td>\n",
       "      <td>3.0</td>\n",
       "      <td>1</td>\n",
       "      <td>fulltime</td>\n",
       "      <td>1</td>\n",
       "      <td>34.00</td>\n",
       "      <td>5</td>\n",
       "      <td>3.0</td>\n",
       "      <td>33</td>\n",
       "      <td>NaN</td>\n",
       "      <td>11</td>\n",
       "      <td>9</td>\n",
       "      <td>1971</td>\n",
       "      <td>199990.0</td>\n",
       "      <td>yes</td>\n",
       "    </tr>\n",
       "  </tbody>\n",
       "</table>\n",
       "</div>"
      ],
      "text/plain": [
       "   age attrition businesstravel  dailyrate              department  \\\n",
       "0   51        no  travel_rarely    2015.72  research & development   \n",
       "1   52        no  travel_rarely    2063.39          Executive Team   \n",
       "\n",
       "   distancefromhome  education educationfield  employeenumber  \\\n",
       "0                 6          3        unknown               1   \n",
       "1                 1          4  life sciences               2   \n",
       "\n",
       "   environmentsatisfaction gender  jobinvolvement  joblevel  \\\n",
       "0                        1   male               3         5   \n",
       "1                        3   male               2         5   \n",
       "\n",
       "             jobrole  jobsatisfaction maritalstatus  numcompaniesworked  \\\n",
       "0  research director                3       unknown                   7   \n",
       "1            manager                3       unknown                   0   \n",
       "\n",
       "  overtime  percentsalaryhike performancerating  relationshipsatisfaction  \\\n",
       "0       no                 13               3.0                         3   \n",
       "1       no                 14               3.0                         1   \n",
       "\n",
       "  standardhours  stockoptionlevel  totalworkingyears  trainingtimeslastyear  \\\n",
       "0     full time                 0              11.36                      5   \n",
       "1      fulltime                 1              34.00                      5   \n",
       "\n",
       "   worklifebalance  yearsatcompany  yearsincurrentrole  \\\n",
       "0              3.0              20                 NaN   \n",
       "1              3.0              33                 NaN   \n",
       "\n",
       "   yearssincelastpromotion  yearswithcurrmanager  datebirth    salary  \\\n",
       "0                       15                    15       1972  195370.0   \n",
       "1                       11                     9       1971  199990.0   \n",
       "\n",
       "  remotework  \n",
       "0        yes  \n",
       "1        yes  "
      ]
     },
     "execution_count": 5,
     "metadata": {},
     "output_type": "execute_result"
    }
   ],
   "source": [
    "df.head(2)"
   ]
  },
  {
   "cell_type": "code",
   "execution_count": 7,
   "id": "11b06fee",
   "metadata": {},
   "outputs": [
    {
     "name": "stdout",
     "output_type": "stream",
     "text": [
      "El número de filas que tenemos es 1678, y el número de columnas es 33\n"
     ]
    }
   ],
   "source": [
    "print(f\"El número de filas que tenemos es {df.shape[0]}, y el número de columnas es {df.shape[1]}\")"
   ]
  },
  {
   "cell_type": "markdown",
   "id": "a638c6cb",
   "metadata": {},
   "source": [
    "### ENFOQUE GENERAL DE LA EMPRESA\n",
    "\n",
    "Se valorarán datos demográficos de los 1614 empleados de la empresa ABC Corporation en el conjunto de datos, revisando su edad media, género, edad media por género, nivel formativo en general, nivel formativo por género y su estado civil."
   ]
  },
  {
   "cell_type": "markdown",
   "id": "05c0c3e3",
   "metadata": {},
   "source": [
    "### Número de empleados\n",
    "\n",
    "La empresa tiene 1614 empleados"
   ]
  },
  {
   "cell_type": "code",
   "execution_count": 12,
   "id": "0e6e6075",
   "metadata": {},
   "outputs": [
    {
     "data": {
      "text/plain": [
       "array([   1,    2,    3, ..., 1612, 1613, 1614], shape=(1614,))"
      ]
     },
     "execution_count": 12,
     "metadata": {},
     "output_type": "execute_result"
    }
   ],
   "source": [
    "df['employeenumber'].unique()"
   ]
  },
  {
   "cell_type": "code",
   "execution_count": null,
   "id": "c0cc345d",
   "metadata": {},
   "outputs": [
    {
     "data": {
      "text/plain": [
       "np.int64(64)"
      ]
     },
     "execution_count": 10,
     "metadata": {},
     "output_type": "execute_result"
    }
   ],
   "source": [
    "df['employeenumber'].duplicated().sum()\n",
    "# tenemos 64 registros duplicados (más de una consulta por empleado)"
   ]
  },
  {
   "cell_type": "code",
   "execution_count": null,
   "id": "7ff22202",
   "metadata": {},
   "outputs": [],
   "source": [
    "df_sin_duplicados = df.drop_duplicates(subset='employeenumber')\n",
    "# eliminamos los duplicados por asegurarnos"
   ]
  },
  {
   "cell_type": "code",
   "execution_count": 15,
   "id": "9a8edea8",
   "metadata": {},
   "outputs": [
    {
     "data": {
      "text/plain": [
       "np.int64(0)"
      ]
     },
     "execution_count": 15,
     "metadata": {},
     "output_type": "execute_result"
    }
   ],
   "source": [
    "df_sin_duplicados.duplicated().sum()"
   ]
  },
  {
   "cell_type": "code",
   "execution_count": 19,
   "id": "0967b47a",
   "metadata": {},
   "outputs": [
    {
     "data": {
      "text/plain": [
       "array([   1,    2,    3, ..., 1612, 1613, 1614], shape=(1614,))"
      ]
     },
     "execution_count": 19,
     "metadata": {},
     "output_type": "execute_result"
    }
   ],
   "source": [
    "df_sin_duplicados['employeenumber'].unique()"
   ]
  },
  {
   "cell_type": "markdown",
   "id": "325efb5d",
   "metadata": {},
   "source": [
    "### EDAD MEDIA DE LOS EMPLEADOS\n",
    "\n",
    "La edad media de los empleados es de casi 37 años (36,92), con empleados entre los 18 años y los 60 años de máximo."
   ]
  },
  {
   "cell_type": "code",
   "execution_count": 27,
   "id": "77082981",
   "metadata": {},
   "outputs": [
    {
     "data": {
      "text/plain": [
       "count    1614.000000\n",
       "mean       36.920694\n",
       "std         9.102157\n",
       "min        18.000000\n",
       "25%        30.000000\n",
       "50%        36.000000\n",
       "75%        43.000000\n",
       "max        60.000000\n",
       "Name: age, dtype: float64"
      ]
     },
     "execution_count": 27,
     "metadata": {},
     "output_type": "execute_result"
    }
   ],
   "source": [
    "df_sin_duplicados['age'].describe()"
   ]
  },
  {
   "cell_type": "code",
   "execution_count": 39,
   "id": "6f9e1551",
   "metadata": {},
   "outputs": [
    {
     "data": {
      "text/plain": [
       "Text(0.5, 1.0, 'Histplot con el Número de empleados por edad')"
      ]
     },
     "execution_count": 39,
     "metadata": {},
     "output_type": "execute_result"
    },
    {
     "data": {
      "image/png": "[encoded data removed]",
      "text/plain": [
       "<Figure size 640x480 with 1 Axes>"
      ]
     },
     "metadata": {},
     "output_type": "display_data"
    }
   ],
   "source": [
    "sns.histplot(data=df_sin_duplicados, x='age', bins=8, color='lightseagreen')\n",
    "plt.xlabel(\"Edad\")\n",
    "plt.ylabel(\"Nº empleados\")\n",
    "plt.title('Histplot con el Número de empleados por edad', fontsize=12)"
   ]
  },
  {
   "cell_type": "markdown",
   "id": "0bdcb26e",
   "metadata": {},
   "source": [
    "### GÉNERO DE LOS EMPLEADOS\n",
    "\n",
    "El género de los empleados es mayoritariamente masculino (60,16%), con 971 hombres y 643 mujeres."
   ]
  },
  {
   "cell_type": "code",
   "execution_count": 29,
   "id": "5795f215",
   "metadata": {},
   "outputs": [
    {
     "data": {
      "text/plain": [
       "gender\n",
       "male      971\n",
       "female    643\n",
       "Name: count, dtype: int64"
      ]
     },
     "execution_count": 29,
     "metadata": {},
     "output_type": "execute_result"
    }
   ],
   "source": [
    "df_sin_duplicados['gender'].value_counts()"
   ]
  },
  {
   "cell_type": "code",
   "execution_count": 40,
   "id": "c4065de5",
   "metadata": {},
   "outputs": [
    {
     "data": {
      "text/plain": [
       "gender\n",
       "male      60.16\n",
       "female    39.84\n",
       "Name: proportion, dtype: float64"
      ]
     },
     "execution_count": 40,
     "metadata": {},
     "output_type": "execute_result"
    }
   ],
   "source": [
    "round(df_sin_duplicados['gender'].value_counts(normalize=True) * 100, 2)"
   ]
  },
  {
   "cell_type": "code",
   "execution_count": 38,
   "id": "086b7da0",
   "metadata": {},
   "outputs": [
    {
     "data": {
      "text/plain": [
       "Text(0.5, 1.0, 'Countplot con el Número de empleados por género')"
      ]
     },
     "execution_count": 38,
     "metadata": {},
     "output_type": "execute_result"
    },
    {
     "data": {
      "image/png": "[encoded data removed]",
      "text/plain": [
       "<Figure size 640x480 with 1 Axes>"
      ]
     },
     "metadata": {},
     "output_type": "display_data"
    }
   ],
   "source": [
    "sns.countplot(data=df_sin_duplicados, x='gender', color='seagreen')\n",
    "plt.xlabel(\"Género\")\n",
    "plt.ylabel(\"Nº empleados\")\n",
    "plt.title('Countplot con el Número de empleados por género', fontsize=12)"
   ]
  },
  {
   "cell_type": "markdown",
   "id": "1e9a310c",
   "metadata": {},
   "source": [
    "### EDAD MEDIA POR GÉNERO DE LOS EMPLEADOS\n",
    "\n",
    "La edad media de los empleados por género es casi la misma, con una edad media de 36,7 años los hombres y con una media de 37,26 años las mujeres."
   ]
  },
  {
   "cell_type": "code",
   "execution_count": 43,
   "id": "e210e8a0",
   "metadata": {},
   "outputs": [
    {
     "data": {
      "text/plain": [
       "gender\n",
       "female    37.259720\n",
       "male      36.696189\n",
       "Name: age, dtype: float64"
      ]
     },
     "execution_count": 43,
     "metadata": {},
     "output_type": "execute_result"
    }
   ],
   "source": [
    "df_sin_duplicados.groupby('gender')['age'].mean()"
   ]
  },
  {
   "cell_type": "code",
   "execution_count": 47,
   "id": "f246dc58",
   "metadata": {},
   "outputs": [
    {
     "data": {
      "text/html": [
       "<div>\n",
       "<style scoped>\n",
       "    .dataframe tbody tr th:only-of-type {\n",
       "        vertical-align: middle;\n",
       "    }\n",
       "\n",
       "    .dataframe tbody tr th {\n",
       "        vertical-align: top;\n",
       "    }\n",
       "\n",
       "    .dataframe thead th {\n",
       "        text-align: right;\n",
       "    }\n",
       "</style>\n",
       "<table border=\"1\" class=\"dataframe\">\n",
       "  <thead>\n",
       "    <tr style=\"text-align: right;\">\n",
       "      <th></th>\n",
       "      <th>gender</th>\n",
       "      <th>age</th>\n",
       "    </tr>\n",
       "  </thead>\n",
       "  <tbody>\n",
       "    <tr>\n",
       "      <th>0</th>\n",
       "      <td>female</td>\n",
       "      <td>37.26</td>\n",
       "    </tr>\n",
       "    <tr>\n",
       "      <th>1</th>\n",
       "      <td>male</td>\n",
       "      <td>36.70</td>\n",
       "    </tr>\n",
       "  </tbody>\n",
       "</table>\n",
       "</div>"
      ],
      "text/plain": [
       "   gender    age\n",
       "0  female  37.26\n",
       "1    male  36.70"
      ]
     },
     "execution_count": 47,
     "metadata": {},
     "output_type": "execute_result"
    }
   ],
   "source": [
    "df_género_edad = round(df_sin_duplicados.groupby('gender')['age'].mean(), 2).reset_index()\n",
    "df_género_edad"
   ]
  },
  {
   "cell_type": "code",
   "execution_count": 71,
   "id": "4150eb63",
   "metadata": {},
   "outputs": [
    {
     "data": {
      "image/png": "[encoded data removed]",
      "text/plain": [
       "<Figure size 640x480 with 1 Axes>"
      ]
     },
     "metadata": {},
     "output_type": "display_data"
    }
   ],
   "source": [
    "sns.boxplot(x='gender', y='age', data=df_sin_duplicados, color='green')\n",
    "plt.xlabel(\"Género\")\n",
    "plt.ylabel(\"Edad\")\n",
    "plt.title('Boxtplot con la Edad de los empleados por género', fontsize=12);"
   ]
  },
  {
   "cell_type": "markdown",
   "id": "c3fae146",
   "metadata": {},
   "source": [
    "### NIVEL FORMATIVO DE LOS EMPLEADOS\n",
    "\n",
    "El nivel formativo de los empleados es principalmente Desconocido (745 empleados), siguiéndole life sciences (349 empleados), medical (276 empleados), marketing (104 empleados), technical degree (69 empleados), other (59 empleados) y human resources (12 empleados)."
   ]
  },
  {
   "cell_type": "code",
   "execution_count": 70,
   "id": "b2f1fc4a",
   "metadata": {},
   "outputs": [
    {
     "data": {
      "text/plain": [
       "array(['unknown', 'life sciences', 'technical degree', 'medical', 'other',\n",
       "       'marketing', 'human resources'], dtype=object)"
      ]
     },
     "execution_count": 70,
     "metadata": {},
     "output_type": "execute_result"
    }
   ],
   "source": [
    "df_sin_duplicados['educationfield'].unique()"
   ]
  },
  {
   "cell_type": "code",
   "execution_count": 76,
   "id": "43783649",
   "metadata": {},
   "outputs": [
    {
     "data": {
      "text/plain": [
       "count        1614\n",
       "unique          7\n",
       "top       unknown\n",
       "freq          745\n",
       "Name: educationfield, dtype: object"
      ]
     },
     "execution_count": 76,
     "metadata": {},
     "output_type": "execute_result"
    }
   ],
   "source": [
    "df_sin_duplicados['educationfield'].describe()"
   ]
  },
  {
   "cell_type": "code",
   "execution_count": 75,
   "id": "e79a9edf",
   "metadata": {},
   "outputs": [
    {
     "data": {
      "text/plain": [
       "educationfield\n",
       "unknown             745\n",
       "life sciences       349\n",
       "medical             276\n",
       "marketing           104\n",
       "technical degree     69\n",
       "other                59\n",
       "human resources      12\n",
       "Name: count, dtype: int64"
      ]
     },
     "execution_count": 75,
     "metadata": {},
     "output_type": "execute_result"
    }
   ],
   "source": [
    "df_sin_duplicados['educationfield'].value_counts()"
   ]
  },
  {
   "cell_type": "code",
   "execution_count": 73,
   "id": "ee8d93f5",
   "metadata": {},
   "outputs": [
    {
     "data": {
      "text/plain": [
       "Text(0.5, 1.0, 'Countplot con el Número de empleados por nivel formativo')"
      ]
     },
     "execution_count": 73,
     "metadata": {},
     "output_type": "execute_result"
    },
    {
     "data": {
      "image/png": "[encoded data removed]",
      "text/plain": [
       "<Figure size 640x480 with 1 Axes>"
      ]
     },
     "metadata": {},
     "output_type": "display_data"
    }
   ],
   "source": [
    "sns.countplot(data=df_sin_duplicados, y='educationfield', color='turquoise')\n",
    "plt.xlabel(\"Nº empleados\")\n",
    "plt.ylabel(\"Nivel formativo\")\n",
    "plt.title('Countplot con el Número de empleados por nivel formativo', fontsize=12)"
   ]
  }
 ],
 "metadata": {
  "kernelspec": {
   "display_name": "Promo_56",
   "language": "python",
   "name": "python3"
  },
  "language_info": {
   "codemirror_mode": {
    "name": "ipython",
    "version": 3
   },
   "file_extension": ".py",
   "mimetype": "text/x-python",
   "name": "python",
   "nbconvert_exporter": "python",
   "pygments_lexer": "ipython3",
   "version": "3.12.11"
  }
 },
 "nbformat": 4,
 "nbformat_minor": 5
}
