{
 "cells": [
  {
   "cell_type": "code",
   "execution_count": 3,
   "id": "9a348a07",
   "metadata": {},
   "outputs": [],
   "source": [
    "import json\n",
    "import pandas as pd"
   ]
  },
  {
   "cell_type": "code",
   "execution_count": 4,
   "id": "b3f38b4d",
   "metadata": {},
   "outputs": [],
   "source": [
    "df_data = pd.read_csv(\"hr_raw_data.csv\", index_col=0)\n",
    "data = df_data"
   ]
  },
  {
   "cell_type": "code",
   "execution_count": 5,
   "id": "1da82d14",
   "metadata": {},
   "outputs": [
    {
     "data": {
      "text/plain": [
       "Index(['age', 'attrition', 'businesstravel', 'dailyrate', 'department',\n",
       "       'distancefromhome', 'education', 'educationfield', 'employeecount',\n",
       "       'employeenumber', 'environmentsatisfaction', 'gender', 'hourlyrate',\n",
       "       'jobinvolvement', 'joblevel', 'jobrole', 'jobsatisfaction',\n",
       "       'maritalstatus', 'monthlyincome', 'monthlyrate', 'numcompaniesworked',\n",
       "       'over18', 'overtime', 'percentsalaryhike', 'performancerating',\n",
       "       'relationshipsatisfaction', 'standardhours', 'stockoptionlevel',\n",
       "       'totalworkingyears', 'trainingtimeslastyear', 'worklifebalance',\n",
       "       'yearsatcompany', 'yearsincurrentrole', 'yearssincelastpromotion',\n",
       "       'yearswithcurrmanager', 'sameasmonthlyincome', 'datebirth', 'salary',\n",
       "       'roledepartament', 'numberchildren', 'remotework'],\n",
       "      dtype='object')"
      ]
     },
     "execution_count": 5,
     "metadata": {},
     "output_type": "execute_result"
    }
   ],
   "source": [
    "data.columns"
   ]
  },
  {
   "cell_type": "code",
   "execution_count": 5,
   "id": "440f4366",
   "metadata": {},
   "outputs": [],
   "source": [
    "columnas_deseadas = [\n",
    "    'over18',\n",
    "    'overtime',\n",
    "    'percentsalaryhike',\n",
    "    'performancerating',\n",
    "    'relationshipsatisfaction',\n",
    "    'standardhours',\n",
    "    'stockoptionlevel',\n",
    "    'totalworkingyears',\n",
    "    'trainingtimeslastyear',\n",
    "    'worklifebalance'\n",
    "]\n",
    "\n",
    "df_miscol = df_data[columnas_deseadas]"
   ]
  },
  {
   "cell_type": "code",
   "execution_count": 6,
   "id": "77aa8fd9",
   "metadata": {},
   "outputs": [
    {
     "data": {
      "text/html": [
       "<div>\n",
       "<style scoped>\n",
       "    .dataframe tbody tr th:only-of-type {\n",
       "        vertical-align: middle;\n",
       "    }\n",
       "\n",
       "    .dataframe tbody tr th {\n",
       "        vertical-align: top;\n",
       "    }\n",
       "\n",
       "    .dataframe thead th {\n",
       "        text-align: right;\n",
       "    }\n",
       "</style>\n",
       "<table border=\"1\" class=\"dataframe\">\n",
       "  <thead>\n",
       "    <tr style=\"text-align: right;\">\n",
       "      <th></th>\n",
       "      <th>over18</th>\n",
       "      <th>overtime</th>\n",
       "      <th>percentsalaryhike</th>\n",
       "      <th>performancerating</th>\n",
       "      <th>relationshipsatisfaction</th>\n",
       "      <th>standardhours</th>\n",
       "      <th>stockoptionlevel</th>\n",
       "      <th>totalworkingyears</th>\n",
       "      <th>trainingtimeslastyear</th>\n",
       "      <th>worklifebalance</th>\n",
       "    </tr>\n",
       "  </thead>\n",
       "  <tbody>\n",
       "    <tr>\n",
       "      <th>0</th>\n",
       "      <td>Y</td>\n",
       "      <td>No</td>\n",
       "      <td>13</td>\n",
       "      <td>3,0</td>\n",
       "      <td>3</td>\n",
       "      <td>Full Time</td>\n",
       "      <td>0</td>\n",
       "      <td>NaN</td>\n",
       "      <td>5</td>\n",
       "      <td>3,0</td>\n",
       "    </tr>\n",
       "    <tr>\n",
       "      <th>1</th>\n",
       "      <td>NaN</td>\n",
       "      <td>NaN</td>\n",
       "      <td>14</td>\n",
       "      <td>3,0</td>\n",
       "      <td>1</td>\n",
       "      <td>NaN</td>\n",
       "      <td>1</td>\n",
       "      <td>34,0</td>\n",
       "      <td>5</td>\n",
       "      <td>3,0</td>\n",
       "    </tr>\n",
       "    <tr>\n",
       "      <th>2</th>\n",
       "      <td>NaN</td>\n",
       "      <td>No</td>\n",
       "      <td>11</td>\n",
       "      <td>3,0</td>\n",
       "      <td>4</td>\n",
       "      <td>NaN</td>\n",
       "      <td>0</td>\n",
       "      <td>22,0</td>\n",
       "      <td>3</td>\n",
       "      <td>NaN</td>\n",
       "    </tr>\n",
       "    <tr>\n",
       "      <th>3</th>\n",
       "      <td>Y</td>\n",
       "      <td>NaN</td>\n",
       "      <td>19</td>\n",
       "      <td>3,0</td>\n",
       "      <td>2</td>\n",
       "      <td>Full Time</td>\n",
       "      <td>2</td>\n",
       "      <td>NaN</td>\n",
       "      <td>2</td>\n",
       "      <td>NaN</td>\n",
       "    </tr>\n",
       "    <tr>\n",
       "      <th>4</th>\n",
       "      <td>Y</td>\n",
       "      <td>No</td>\n",
       "      <td>12</td>\n",
       "      <td>3,0</td>\n",
       "      <td>4</td>\n",
       "      <td>NaN</td>\n",
       "      <td>1</td>\n",
       "      <td>NaN</td>\n",
       "      <td>5</td>\n",
       "      <td>3,0</td>\n",
       "    </tr>\n",
       "    <tr>\n",
       "      <th>...</th>\n",
       "      <td>...</td>\n",
       "      <td>...</td>\n",
       "      <td>...</td>\n",
       "      <td>...</td>\n",
       "      <td>...</td>\n",
       "      <td>...</td>\n",
       "      <td>...</td>\n",
       "      <td>...</td>\n",
       "      <td>...</td>\n",
       "      <td>...</td>\n",
       "    </tr>\n",
       "    <tr>\n",
       "      <th>1673</th>\n",
       "      <td>NaN</td>\n",
       "      <td>NaN</td>\n",
       "      <td>12</td>\n",
       "      <td>3,0</td>\n",
       "      <td>4</td>\n",
       "      <td>NaN</td>\n",
       "      <td>0</td>\n",
       "      <td>NaN</td>\n",
       "      <td>2</td>\n",
       "      <td>3,0</td>\n",
       "    </tr>\n",
       "    <tr>\n",
       "      <th>1674</th>\n",
       "      <td>Y</td>\n",
       "      <td>No</td>\n",
       "      <td>11</td>\n",
       "      <td>3,0</td>\n",
       "      <td>3</td>\n",
       "      <td>Full Time</td>\n",
       "      <td>1</td>\n",
       "      <td>27,0</td>\n",
       "      <td>2</td>\n",
       "      <td>3,0</td>\n",
       "    </tr>\n",
       "    <tr>\n",
       "      <th>1675</th>\n",
       "      <td>NaN</td>\n",
       "      <td>No</td>\n",
       "      <td>19</td>\n",
       "      <td>3,0</td>\n",
       "      <td>1</td>\n",
       "      <td>Part Time</td>\n",
       "      <td>0</td>\n",
       "      <td>6,0</td>\n",
       "      <td>1</td>\n",
       "      <td>3,0</td>\n",
       "    </tr>\n",
       "    <tr>\n",
       "      <th>1676</th>\n",
       "      <td>NaN</td>\n",
       "      <td>Yes</td>\n",
       "      <td>12</td>\n",
       "      <td>NaN</td>\n",
       "      <td>3</td>\n",
       "      <td>Part Time</td>\n",
       "      <td>1</td>\n",
       "      <td>NaN</td>\n",
       "      <td>4</td>\n",
       "      <td>3,0</td>\n",
       "    </tr>\n",
       "    <tr>\n",
       "      <th>1677</th>\n",
       "      <td>Y</td>\n",
       "      <td>Yes</td>\n",
       "      <td>14</td>\n",
       "      <td>3,0</td>\n",
       "      <td>4</td>\n",
       "      <td>Part Time</td>\n",
       "      <td>0</td>\n",
       "      <td>10,0</td>\n",
       "      <td>2</td>\n",
       "      <td>3,0</td>\n",
       "    </tr>\n",
       "  </tbody>\n",
       "</table>\n",
       "<p>1678 rows × 10 columns</p>\n",
       "</div>"
      ],
      "text/plain": [
       "     over18 overtime  percentsalaryhike performancerating  \\\n",
       "0         Y       No                 13               3,0   \n",
       "1       NaN      NaN                 14               3,0   \n",
       "2       NaN       No                 11               3,0   \n",
       "3         Y      NaN                 19               3,0   \n",
       "4         Y       No                 12               3,0   \n",
       "...     ...      ...                ...               ...   \n",
       "1673    NaN      NaN                 12               3,0   \n",
       "1674      Y       No                 11               3,0   \n",
       "1675    NaN       No                 19               3,0   \n",
       "1676    NaN      Yes                 12               NaN   \n",
       "1677      Y      Yes                 14               3,0   \n",
       "\n",
       "      relationshipsatisfaction standardhours  stockoptionlevel  \\\n",
       "0                            3     Full Time                 0   \n",
       "1                            1           NaN                 1   \n",
       "2                            4           NaN                 0   \n",
       "3                            2     Full Time                 2   \n",
       "4                            4           NaN                 1   \n",
       "...                        ...           ...               ...   \n",
       "1673                         4           NaN                 0   \n",
       "1674                         3     Full Time                 1   \n",
       "1675                         1     Part Time                 0   \n",
       "1676                         3     Part Time                 1   \n",
       "1677                         4     Part Time                 0   \n",
       "\n",
       "     totalworkingyears  trainingtimeslastyear worklifebalance  \n",
       "0                  NaN                      5             3,0  \n",
       "1                 34,0                      5             3,0  \n",
       "2                 22,0                      3             NaN  \n",
       "3                  NaN                      2             NaN  \n",
       "4                  NaN                      5             3,0  \n",
       "...                ...                    ...             ...  \n",
       "1673               NaN                      2             3,0  \n",
       "1674              27,0                      2             3,0  \n",
       "1675               6,0                      1             3,0  \n",
       "1676               NaN                      4             3,0  \n",
       "1677              10,0                      2             3,0  \n",
       "\n",
       "[1678 rows x 10 columns]"
      ]
     },
     "execution_count": 6,
     "metadata": {},
     "output_type": "execute_result"
    }
   ],
   "source": [
    "df_miscol"
   ]
  },
  {
   "cell_type": "code",
   "execution_count": 8,
   "id": "b7d504ed",
   "metadata": {},
   "outputs": [
    {
     "data": {
      "text/html": [
       "<div>\n",
       "<style scoped>\n",
       "    .dataframe tbody tr th:only-of-type {\n",
       "        vertical-align: middle;\n",
       "    }\n",
       "\n",
       "    .dataframe tbody tr th {\n",
       "        vertical-align: top;\n",
       "    }\n",
       "\n",
       "    .dataframe thead th {\n",
       "        text-align: right;\n",
       "    }\n",
       "</style>\n",
       "<table border=\"1\" class=\"dataframe\">\n",
       "  <thead>\n",
       "    <tr style=\"text-align: right;\">\n",
       "      <th></th>\n",
       "      <th>age</th>\n",
       "      <th>attrition</th>\n",
       "      <th>businesstravel</th>\n",
       "      <th>dailyrate</th>\n",
       "      <th>department</th>\n",
       "      <th>distancefromhome</th>\n",
       "      <th>education</th>\n",
       "      <th>educationfield</th>\n",
       "      <th>employeecount</th>\n",
       "      <th>employeenumber</th>\n",
       "      <th>...</th>\n",
       "      <th>yearsatcompany</th>\n",
       "      <th>yearsincurrentrole</th>\n",
       "      <th>yearssincelastpromotion</th>\n",
       "      <th>yearswithcurrmanager</th>\n",
       "      <th>sameasmonthlyincome</th>\n",
       "      <th>datebirth</th>\n",
       "      <th>salary</th>\n",
       "      <th>roledepartament</th>\n",
       "      <th>numberchildren</th>\n",
       "      <th>remotework</th>\n",
       "    </tr>\n",
       "  </thead>\n",
       "  <tbody>\n",
       "    <tr>\n",
       "      <th>0</th>\n",
       "      <td>False</td>\n",
       "      <td>False</td>\n",
       "      <td>True</td>\n",
       "      <td>False</td>\n",
       "      <td>True</td>\n",
       "      <td>False</td>\n",
       "      <td>False</td>\n",
       "      <td>True</td>\n",
       "      <td>False</td>\n",
       "      <td>False</td>\n",
       "      <td>...</td>\n",
       "      <td>False</td>\n",
       "      <td>True</td>\n",
       "      <td>False</td>\n",
       "      <td>False</td>\n",
       "      <td>False</td>\n",
       "      <td>False</td>\n",
       "      <td>False</td>\n",
       "      <td>True</td>\n",
       "      <td>True</td>\n",
       "      <td>False</td>\n",
       "    </tr>\n",
       "    <tr>\n",
       "      <th>1</th>\n",
       "      <td>False</td>\n",
       "      <td>False</td>\n",
       "      <td>True</td>\n",
       "      <td>False</td>\n",
       "      <td>True</td>\n",
       "      <td>False</td>\n",
       "      <td>False</td>\n",
       "      <td>False</td>\n",
       "      <td>False</td>\n",
       "      <td>False</td>\n",
       "      <td>...</td>\n",
       "      <td>False</td>\n",
       "      <td>True</td>\n",
       "      <td>False</td>\n",
       "      <td>False</td>\n",
       "      <td>True</td>\n",
       "      <td>False</td>\n",
       "      <td>False</td>\n",
       "      <td>True</td>\n",
       "      <td>True</td>\n",
       "      <td>False</td>\n",
       "    </tr>\n",
       "    <tr>\n",
       "      <th>2</th>\n",
       "      <td>False</td>\n",
       "      <td>False</td>\n",
       "      <td>False</td>\n",
       "      <td>False</td>\n",
       "      <td>False</td>\n",
       "      <td>False</td>\n",
       "      <td>False</td>\n",
       "      <td>False</td>\n",
       "      <td>False</td>\n",
       "      <td>False</td>\n",
       "      <td>...</td>\n",
       "      <td>False</td>\n",
       "      <td>True</td>\n",
       "      <td>False</td>\n",
       "      <td>False</td>\n",
       "      <td>True</td>\n",
       "      <td>False</td>\n",
       "      <td>False</td>\n",
       "      <td>False</td>\n",
       "      <td>True</td>\n",
       "      <td>False</td>\n",
       "    </tr>\n",
       "    <tr>\n",
       "      <th>3</th>\n",
       "      <td>False</td>\n",
       "      <td>False</td>\n",
       "      <td>False</td>\n",
       "      <td>False</td>\n",
       "      <td>True</td>\n",
       "      <td>False</td>\n",
       "      <td>False</td>\n",
       "      <td>False</td>\n",
       "      <td>False</td>\n",
       "      <td>False</td>\n",
       "      <td>...</td>\n",
       "      <td>False</td>\n",
       "      <td>True</td>\n",
       "      <td>False</td>\n",
       "      <td>False</td>\n",
       "      <td>False</td>\n",
       "      <td>False</td>\n",
       "      <td>False</td>\n",
       "      <td>True</td>\n",
       "      <td>True</td>\n",
       "      <td>False</td>\n",
       "    </tr>\n",
       "    <tr>\n",
       "      <th>4</th>\n",
       "      <td>False</td>\n",
       "      <td>False</td>\n",
       "      <td>True</td>\n",
       "      <td>False</td>\n",
       "      <td>True</td>\n",
       "      <td>False</td>\n",
       "      <td>False</td>\n",
       "      <td>False</td>\n",
       "      <td>False</td>\n",
       "      <td>False</td>\n",
       "      <td>...</td>\n",
       "      <td>False</td>\n",
       "      <td>True</td>\n",
       "      <td>False</td>\n",
       "      <td>False</td>\n",
       "      <td>False</td>\n",
       "      <td>False</td>\n",
       "      <td>True</td>\n",
       "      <td>True</td>\n",
       "      <td>True</td>\n",
       "      <td>False</td>\n",
       "    </tr>\n",
       "    <tr>\n",
       "      <th>...</th>\n",
       "      <td>...</td>\n",
       "      <td>...</td>\n",
       "      <td>...</td>\n",
       "      <td>...</td>\n",
       "      <td>...</td>\n",
       "      <td>...</td>\n",
       "      <td>...</td>\n",
       "      <td>...</td>\n",
       "      <td>...</td>\n",
       "      <td>...</td>\n",
       "      <td>...</td>\n",
       "      <td>...</td>\n",
       "      <td>...</td>\n",
       "      <td>...</td>\n",
       "      <td>...</td>\n",
       "      <td>...</td>\n",
       "      <td>...</td>\n",
       "      <td>...</td>\n",
       "      <td>...</td>\n",
       "      <td>...</td>\n",
       "      <td>...</td>\n",
       "    </tr>\n",
       "    <tr>\n",
       "      <th>1673</th>\n",
       "      <td>False</td>\n",
       "      <td>False</td>\n",
       "      <td>True</td>\n",
       "      <td>False</td>\n",
       "      <td>True</td>\n",
       "      <td>False</td>\n",
       "      <td>False</td>\n",
       "      <td>False</td>\n",
       "      <td>False</td>\n",
       "      <td>False</td>\n",
       "      <td>...</td>\n",
       "      <td>False</td>\n",
       "      <td>True</td>\n",
       "      <td>False</td>\n",
       "      <td>False</td>\n",
       "      <td>False</td>\n",
       "      <td>False</td>\n",
       "      <td>True</td>\n",
       "      <td>True</td>\n",
       "      <td>True</td>\n",
       "      <td>False</td>\n",
       "    </tr>\n",
       "    <tr>\n",
       "      <th>1674</th>\n",
       "      <td>False</td>\n",
       "      <td>False</td>\n",
       "      <td>True</td>\n",
       "      <td>False</td>\n",
       "      <td>True</td>\n",
       "      <td>False</td>\n",
       "      <td>False</td>\n",
       "      <td>True</td>\n",
       "      <td>False</td>\n",
       "      <td>False</td>\n",
       "      <td>...</td>\n",
       "      <td>False</td>\n",
       "      <td>True</td>\n",
       "      <td>False</td>\n",
       "      <td>False</td>\n",
       "      <td>False</td>\n",
       "      <td>False</td>\n",
       "      <td>False</td>\n",
       "      <td>True</td>\n",
       "      <td>True</td>\n",
       "      <td>False</td>\n",
       "    </tr>\n",
       "    <tr>\n",
       "      <th>1675</th>\n",
       "      <td>False</td>\n",
       "      <td>False</td>\n",
       "      <td>False</td>\n",
       "      <td>False</td>\n",
       "      <td>True</td>\n",
       "      <td>False</td>\n",
       "      <td>False</td>\n",
       "      <td>True</td>\n",
       "      <td>False</td>\n",
       "      <td>False</td>\n",
       "      <td>...</td>\n",
       "      <td>False</td>\n",
       "      <td>True</td>\n",
       "      <td>False</td>\n",
       "      <td>False</td>\n",
       "      <td>True</td>\n",
       "      <td>False</td>\n",
       "      <td>False</td>\n",
       "      <td>True</td>\n",
       "      <td>True</td>\n",
       "      <td>False</td>\n",
       "    </tr>\n",
       "    <tr>\n",
       "      <th>1676</th>\n",
       "      <td>False</td>\n",
       "      <td>False</td>\n",
       "      <td>False</td>\n",
       "      <td>False</td>\n",
       "      <td>True</td>\n",
       "      <td>False</td>\n",
       "      <td>False</td>\n",
       "      <td>False</td>\n",
       "      <td>False</td>\n",
       "      <td>False</td>\n",
       "      <td>...</td>\n",
       "      <td>False</td>\n",
       "      <td>True</td>\n",
       "      <td>False</td>\n",
       "      <td>False</td>\n",
       "      <td>False</td>\n",
       "      <td>False</td>\n",
       "      <td>False</td>\n",
       "      <td>True</td>\n",
       "      <td>True</td>\n",
       "      <td>False</td>\n",
       "    </tr>\n",
       "    <tr>\n",
       "      <th>1677</th>\n",
       "      <td>False</td>\n",
       "      <td>False</td>\n",
       "      <td>True</td>\n",
       "      <td>False</td>\n",
       "      <td>True</td>\n",
       "      <td>False</td>\n",
       "      <td>False</td>\n",
       "      <td>False</td>\n",
       "      <td>False</td>\n",
       "      <td>False</td>\n",
       "      <td>...</td>\n",
       "      <td>False</td>\n",
       "      <td>True</td>\n",
       "      <td>False</td>\n",
       "      <td>False</td>\n",
       "      <td>True</td>\n",
       "      <td>False</td>\n",
       "      <td>False</td>\n",
       "      <td>True</td>\n",
       "      <td>True</td>\n",
       "      <td>False</td>\n",
       "    </tr>\n",
       "  </tbody>\n",
       "</table>\n",
       "<p>1678 rows × 41 columns</p>\n",
       "</div>"
      ],
      "text/plain": [
       "        age  attrition  businesstravel  dailyrate  department  \\\n",
       "0     False      False            True      False        True   \n",
       "1     False      False            True      False        True   \n",
       "2     False      False           False      False       False   \n",
       "3     False      False           False      False        True   \n",
       "4     False      False            True      False        True   \n",
       "...     ...        ...             ...        ...         ...   \n",
       "1673  False      False            True      False        True   \n",
       "1674  False      False            True      False        True   \n",
       "1675  False      False           False      False        True   \n",
       "1676  False      False           False      False        True   \n",
       "1677  False      False            True      False        True   \n",
       "\n",
       "      distancefromhome  education  educationfield  employeecount  \\\n",
       "0                False      False            True          False   \n",
       "1                False      False           False          False   \n",
       "2                False      False           False          False   \n",
       "3                False      False           False          False   \n",
       "4                False      False           False          False   \n",
       "...                ...        ...             ...            ...   \n",
       "1673             False      False           False          False   \n",
       "1674             False      False            True          False   \n",
       "1675             False      False            True          False   \n",
       "1676             False      False           False          False   \n",
       "1677             False      False           False          False   \n",
       "\n",
       "      employeenumber  ...  yearsatcompany  yearsincurrentrole  \\\n",
       "0              False  ...           False                True   \n",
       "1              False  ...           False                True   \n",
       "2              False  ...           False                True   \n",
       "3              False  ...           False                True   \n",
       "4              False  ...           False                True   \n",
       "...              ...  ...             ...                 ...   \n",
       "1673           False  ...           False                True   \n",
       "1674           False  ...           False                True   \n",
       "1675           False  ...           False                True   \n",
       "1676           False  ...           False                True   \n",
       "1677           False  ...           False                True   \n",
       "\n",
       "      yearssincelastpromotion  yearswithcurrmanager  sameasmonthlyincome  \\\n",
       "0                       False                 False                False   \n",
       "1                       False                 False                 True   \n",
       "2                       False                 False                 True   \n",
       "3                       False                 False                False   \n",
       "4                       False                 False                False   \n",
       "...                       ...                   ...                  ...   \n",
       "1673                    False                 False                False   \n",
       "1674                    False                 False                False   \n",
       "1675                    False                 False                 True   \n",
       "1676                    False                 False                False   \n",
       "1677                    False                 False                 True   \n",
       "\n",
       "      datebirth  salary  roledepartament  numberchildren  remotework  \n",
       "0         False   False             True            True       False  \n",
       "1         False   False             True            True       False  \n",
       "2         False   False            False            True       False  \n",
       "3         False   False             True            True       False  \n",
       "4         False    True             True            True       False  \n",
       "...         ...     ...              ...             ...         ...  \n",
       "1673      False    True             True            True       False  \n",
       "1674      False   False             True            True       False  \n",
       "1675      False   False             True            True       False  \n",
       "1676      False   False             True            True       False  \n",
       "1677      False   False             True            True       False  \n",
       "\n",
       "[1678 rows x 41 columns]"
      ]
     },
     "execution_count": 8,
     "metadata": {},
     "output_type": "execute_result"
    }
   ],
   "source": [
    "df_data.isnull()"
   ]
  },
  {
   "cell_type": "code",
   "execution_count": 9,
   "id": "908583db",
   "metadata": {},
   "outputs": [
    {
     "data": {
      "text/plain": [
       "age                            0\n",
       "attrition                      0\n",
       "businesstravel               801\n",
       "dailyrate                      0\n",
       "department                  1366\n",
       "distancefromhome               0\n",
       "education                      0\n",
       "educationfield               774\n",
       "employeecount                  0\n",
       "employeenumber                 0\n",
       "environmentsatisfaction        0\n",
       "gender                         0\n",
       "hourlyrate                  1267\n",
       "jobinvolvement                 0\n",
       "joblevel                       0\n",
       "jobrole                        0\n",
       "jobsatisfaction                0\n",
       "maritalstatus                675\n",
       "monthlyincome                489\n",
       "monthlyrate                    0\n",
       "numcompaniesworked             0\n",
       "over18                       938\n",
       "overtime                     696\n",
       "percentsalaryhike              0\n",
       "performancerating            200\n",
       "relationshipsatisfaction       0\n",
       "standardhours                351\n",
       "stockoptionlevel               0\n",
       "totalworkingyears            549\n",
       "trainingtimeslastyear          0\n",
       "worklifebalance              114\n",
       "yearsatcompany                 0\n",
       "yearsincurrentrole          1643\n",
       "yearssincelastpromotion        0\n",
       "yearswithcurrmanager           0\n",
       "sameasmonthlyincome          489\n",
       "datebirth                      0\n",
       "salary                       285\n",
       "roledepartament             1366\n",
       "numberchildren              1678\n",
       "remotework                     0\n",
       "dtype: int64"
      ]
     },
     "execution_count": 9,
     "metadata": {},
     "output_type": "execute_result"
    }
   ],
   "source": [
    "df_data.isnull().sum()"
   ]
  },
  {
   "cell_type": "code",
   "execution_count": 10,
   "id": "2e8c11f3",
   "metadata": {},
   "outputs": [
    {
     "name": "stdout",
     "output_type": "stream",
     "text": [
      "<class 'pandas.core.frame.DataFrame'>\n",
      "Index: 1678 entries, 0 to 1677\n",
      "Data columns (total 41 columns):\n",
      " #   Column                    Non-Null Count  Dtype  \n",
      "---  ------                    --------------  -----  \n",
      " 0   age                       1678 non-null   object \n",
      " 1   attrition                 1678 non-null   object \n",
      " 2   businesstravel            877 non-null    object \n",
      " 3   dailyrate                 1678 non-null   float64\n",
      " 4   department                312 non-null    object \n",
      " 5   distancefromhome          1678 non-null   int64  \n",
      " 6   education                 1678 non-null   int64  \n",
      " 7   educationfield            904 non-null    object \n",
      " 8   employeecount             1678 non-null   int64  \n",
      " 9   employeenumber            1678 non-null   int64  \n",
      " 10  environmentsatisfaction   1678 non-null   int64  \n",
      " 11  gender                    1678 non-null   int64  \n",
      " 12  hourlyrate                411 non-null    float64\n",
      " 13  jobinvolvement            1678 non-null   int64  \n",
      " 14  joblevel                  1678 non-null   int64  \n",
      " 15  jobrole                   1678 non-null   object \n",
      " 16  jobsatisfaction           1678 non-null   int64  \n",
      " 17  maritalstatus             1003 non-null   object \n",
      " 18  monthlyincome             1189 non-null   object \n",
      " 19  monthlyrate               1678 non-null   object \n",
      " 20  numcompaniesworked        1678 non-null   int64  \n",
      " 21  over18                    740 non-null    object \n",
      " 22  overtime                  982 non-null    object \n",
      " 23  percentsalaryhike         1678 non-null   int64  \n",
      " 24  performancerating         1478 non-null   object \n",
      " 25  relationshipsatisfaction  1678 non-null   int64  \n",
      " 26  standardhours             1327 non-null   object \n",
      " 27  stockoptionlevel          1678 non-null   int64  \n",
      " 28  totalworkingyears         1129 non-null   object \n",
      " 29  trainingtimeslastyear     1678 non-null   int64  \n",
      " 30  worklifebalance           1564 non-null   object \n",
      " 31  yearsatcompany            1678 non-null   int64  \n",
      " 32  yearsincurrentrole        35 non-null     object \n",
      " 33  yearssincelastpromotion   1678 non-null   int64  \n",
      " 34  yearswithcurrmanager      1678 non-null   int64  \n",
      " 35  sameasmonthlyincome       1189 non-null   object \n",
      " 36  datebirth                 1678 non-null   int64  \n",
      " 37  salary                    1393 non-null   object \n",
      " 38  roledepartament           312 non-null    object \n",
      " 39  numberchildren            0 non-null      float64\n",
      " 40  remotework                1678 non-null   object \n",
      "dtypes: float64(3), int64(18), object(20)\n",
      "memory usage: 550.6+ KB\n"
     ]
    }
   ],
   "source": [
    "data.info()"
   ]
  },
  {
   "cell_type": "code",
   "execution_count": 11,
   "id": "7b347f2b",
   "metadata": {},
   "outputs": [
    {
     "name": "stdout",
     "output_type": "stream",
     "text": [
      "['51' '52' '42' '47' '46' '48' '59' '41' '56' '38' '55' '40' '58' '35'\n",
      " '45' '33' '36' '34' 'forty-seven' '53' '43' '60' '32' '37' '49' '39' '50'\n",
      " '44' '30' 'fifty-eight' '29' '31' '54' '57' '27' 'thirty-six' '28' '26'\n",
      " 'fifty-five' '25' 'fifty-two' 'thirty-one' '24' 'thirty' '23' '22' '21'\n",
      " '20' 'twenty-six' '19' 'thirty-seven' '18' 'thirty-two' 'twenty-four']\n"
     ]
    }
   ],
   "source": [
    "print(df_data['age'].unique())"
   ]
  },
  {
   "cell_type": "code",
   "execution_count": 12,
   "id": "2114430f",
   "metadata": {},
   "outputs": [
    {
     "name": "stdout",
     "output_type": "stream",
     "text": [
      "['Y' nan]\n"
     ]
    }
   ],
   "source": [
    "print(df_data['over18'].unique())"
   ]
  },
  {
   "cell_type": "code",
   "execution_count": 13,
   "id": "6da20ec6",
   "metadata": {},
   "outputs": [
    {
     "data": {
      "text/plain": [
       "array(['No', nan, 'Yes'], dtype=object)"
      ]
     },
     "execution_count": 13,
     "metadata": {},
     "output_type": "execute_result"
    }
   ],
   "source": [
    "data['overtime'].unique()"
   ]
  },
  {
   "cell_type": "code",
   "execution_count": 14,
   "id": "5d032fef",
   "metadata": {},
   "outputs": [
    {
     "data": {
      "text/plain": [
       "array([13, 14, 11, 19, 12, 25, 16, 17, 22, 23, 20, 15, 21, 24, 18],\n",
       "      dtype=int64)"
      ]
     },
     "execution_count": 14,
     "metadata": {},
     "output_type": "execute_result"
    }
   ],
   "source": [
    "data['percentsalaryhike'].unique()"
   ]
  },
  {
   "cell_type": "code",
   "execution_count": 15,
   "id": "219e432d",
   "metadata": {},
   "outputs": [
    {
     "data": {
      "text/plain": [
       "array(['3,0', '4,0', nan], dtype=object)"
      ]
     },
     "execution_count": 15,
     "metadata": {},
     "output_type": "execute_result"
    }
   ],
   "source": [
    "data['performancerating'].unique()"
   ]
  },
  {
   "cell_type": "code",
   "execution_count": 16,
   "id": "e5e57b84",
   "metadata": {},
   "outputs": [
    {
     "data": {
      "text/plain": [
       "array([3, 1, 4, 2], dtype=int64)"
      ]
     },
     "execution_count": 16,
     "metadata": {},
     "output_type": "execute_result"
    }
   ],
   "source": [
    "data['relationshipsatisfaction'].unique()"
   ]
  },
  {
   "cell_type": "code",
   "execution_count": 17,
   "id": "a995d3cc",
   "metadata": {},
   "outputs": [
    {
     "data": {
      "text/plain": [
       "array(['Full Time', nan, 'Part Time'], dtype=object)"
      ]
     },
     "execution_count": 17,
     "metadata": {},
     "output_type": "execute_result"
    }
   ],
   "source": [
    "data['standardhours'].unique()"
   ]
  },
  {
   "cell_type": "code",
   "execution_count": 18,
   "id": "2dab9de3",
   "metadata": {},
   "outputs": [
    {
     "data": {
      "text/plain": [
       "array([nan, '34,0', '22,0', '28,0', '20,0', '21,0', '33,0', '40,0',\n",
       "       '18,0', '25,0', '15,0', '17,0', '26,0', '16,0', '24,0', '14,0',\n",
       "       '23,0', '27,0', '19,0', '11,0', '38,0', '37,0', '13,0', '12,0',\n",
       "       '29,0', '10,0', '36,0', '35,0', '9,0', '31,0', '32,0', '8,0',\n",
       "       '7,0', '30,0', '6,0', '5,0', '4,0', '3,0', '2,0', '1,0', '0,0'],\n",
       "      dtype=object)"
      ]
     },
     "execution_count": 18,
     "metadata": {},
     "output_type": "execute_result"
    }
   ],
   "source": [
    "data['totalworkingyears'].unique()"
   ]
  },
  {
   "cell_type": "code",
   "execution_count": 19,
   "id": "d2a68804",
   "metadata": {},
   "outputs": [],
   "source": [
    "nan_indices = data[data[\"totalworkingyears\"].isna()].index"
   ]
  },
  {
   "cell_type": "markdown",
   "id": "cb20e87f",
   "metadata": {},
   "source": [
    "Estudiando columna Overtime"
   ]
  },
  {
   "cell_type": "code",
   "execution_count": 20,
   "id": "6faad801",
   "metadata": {},
   "outputs": [],
   "source": [
    "NaN_OT = data[data[\"overtime\"].isna()]"
   ]
  },
  {
   "cell_type": "code",
   "execution_count": 21,
   "id": "6569184a",
   "metadata": {},
   "outputs": [
    {
     "data": {
      "text/html": [
       "<div>\n",
       "<style scoped>\n",
       "    .dataframe tbody tr th:only-of-type {\n",
       "        vertical-align: middle;\n",
       "    }\n",
       "\n",
       "    .dataframe tbody tr th {\n",
       "        vertical-align: top;\n",
       "    }\n",
       "\n",
       "    .dataframe thead th {\n",
       "        text-align: right;\n",
       "    }\n",
       "</style>\n",
       "<table border=\"1\" class=\"dataframe\">\n",
       "  <thead>\n",
       "    <tr style=\"text-align: right;\">\n",
       "      <th></th>\n",
       "      <th>employeenumber</th>\n",
       "      <th>jobrole</th>\n",
       "      <th>department</th>\n",
       "      <th>monthlyincome</th>\n",
       "      <th>yearsatcompany</th>\n",
       "      <th>overtime</th>\n",
       "    </tr>\n",
       "  </thead>\n",
       "  <tbody>\n",
       "    <tr>\n",
       "      <th>1</th>\n",
       "      <td>2</td>\n",
       "      <td>ManAGeR</td>\n",
       "      <td>NaN</td>\n",
       "      <td>NaN</td>\n",
       "      <td>33</td>\n",
       "      <td>NaN</td>\n",
       "    </tr>\n",
       "    <tr>\n",
       "      <th>3</th>\n",
       "      <td>4</td>\n",
       "      <td>ReseArCH DIrECtOr</td>\n",
       "      <td>NaN</td>\n",
       "      <td>14307,50$</td>\n",
       "      <td>20</td>\n",
       "      <td>NaN</td>\n",
       "    </tr>\n",
       "    <tr>\n",
       "      <th>6</th>\n",
       "      <td>7</td>\n",
       "      <td>Sales ExeCutIVe</td>\n",
       "      <td>NaN</td>\n",
       "      <td>8339,32$</td>\n",
       "      <td>21</td>\n",
       "      <td>NaN</td>\n",
       "    </tr>\n",
       "    <tr>\n",
       "      <th>17</th>\n",
       "      <td>18</td>\n",
       "      <td>MAnaGER</td>\n",
       "      <td>NaN</td>\n",
       "      <td>12783,92$</td>\n",
       "      <td>26</td>\n",
       "      <td>NaN</td>\n",
       "    </tr>\n",
       "    <tr>\n",
       "      <th>18</th>\n",
       "      <td>19</td>\n",
       "      <td>REseArcH sciENtiST</td>\n",
       "      <td>NaN</td>\n",
       "      <td>4492,84$</td>\n",
       "      <td>16</td>\n",
       "      <td>NaN</td>\n",
       "    </tr>\n",
       "    <tr>\n",
       "      <th>...</th>\n",
       "      <td>...</td>\n",
       "      <td>...</td>\n",
       "      <td>...</td>\n",
       "      <td>...</td>\n",
       "      <td>...</td>\n",
       "      <td>...</td>\n",
       "    </tr>\n",
       "    <tr>\n",
       "      <th>1667</th>\n",
       "      <td>1268</td>\n",
       "      <td>rESEArcH SCiEntIst</td>\n",
       "      <td>Research &amp; Development</td>\n",
       "      <td>4492,84$</td>\n",
       "      <td>1</td>\n",
       "      <td>NaN</td>\n",
       "    </tr>\n",
       "    <tr>\n",
       "      <th>1669</th>\n",
       "      <td>977</td>\n",
       "      <td>rEseaRcH scIEnTiST</td>\n",
       "      <td>NaN</td>\n",
       "      <td>2876,67$</td>\n",
       "      <td>3</td>\n",
       "      <td>NaN</td>\n",
       "    </tr>\n",
       "    <tr>\n",
       "      <th>1670</th>\n",
       "      <td>1342</td>\n",
       "      <td>rEsEARCh ScieNTist</td>\n",
       "      <td>NaN</td>\n",
       "      <td>1882,50$</td>\n",
       "      <td>0</td>\n",
       "      <td>NaN</td>\n",
       "    </tr>\n",
       "    <tr>\n",
       "      <th>1671</th>\n",
       "      <td>1608</td>\n",
       "      <td>HEaltHCarE REPreSENtAtIve</td>\n",
       "      <td>NaN</td>\n",
       "      <td>NaN</td>\n",
       "      <td>9</td>\n",
       "      <td>NaN</td>\n",
       "    </tr>\n",
       "    <tr>\n",
       "      <th>1673</th>\n",
       "      <td>824</td>\n",
       "      <td>rESEaRcH SciEnTiST</td>\n",
       "      <td>NaN</td>\n",
       "      <td>3949,17$</td>\n",
       "      <td>3</td>\n",
       "      <td>NaN</td>\n",
       "    </tr>\n",
       "  </tbody>\n",
       "</table>\n",
       "<p>696 rows × 6 columns</p>\n",
       "</div>"
      ],
      "text/plain": [
       "      employeenumber                      jobrole                department  \\\n",
       "1                  2                     ManAGeR                        NaN   \n",
       "3                  4           ReseArCH DIrECtOr                        NaN   \n",
       "6                  7             Sales ExeCutIVe                        NaN   \n",
       "17                18                     MAnaGER                        NaN   \n",
       "18                19          REseArcH sciENtiST                        NaN   \n",
       "...              ...                          ...                       ...   \n",
       "1667            1268          rESEArcH SCiEntIst    Research & Development    \n",
       "1669             977          rEseaRcH scIEnTiST                        NaN   \n",
       "1670            1342          rEsEARCh ScieNTist                        NaN   \n",
       "1671            1608   HEaltHCarE REPreSENtAtIve                        NaN   \n",
       "1673             824          rESEaRcH SciEnTiST                        NaN   \n",
       "\n",
       "     monthlyincome  yearsatcompany overtime  \n",
       "1              NaN              33      NaN  \n",
       "3        14307,50$              20      NaN  \n",
       "6         8339,32$              21      NaN  \n",
       "17       12783,92$              26      NaN  \n",
       "18        4492,84$              16      NaN  \n",
       "...            ...             ...      ...  \n",
       "1667      4492,84$               1      NaN  \n",
       "1669      2876,67$               3      NaN  \n",
       "1670      1882,50$               0      NaN  \n",
       "1671           NaN               9      NaN  \n",
       "1673      3949,17$               3      NaN  \n",
       "\n",
       "[696 rows x 6 columns]"
      ]
     },
     "execution_count": 21,
     "metadata": {},
     "output_type": "execute_result"
    }
   ],
   "source": [
    "NaN_OT[[\"employeenumber\", \"jobrole\", \"department\", \"monthlyincome\", \"yearsatcompany\", \"overtime\"]]"
   ]
  },
  {
   "cell_type": "code",
   "execution_count": 22,
   "id": "cfe633fe",
   "metadata": {},
   "outputs": [
    {
     "data": {
      "text/plain": [
       "department\n",
       "Research & Development     90\n",
       "Sales                      42\n",
       "Human Resources             4\n",
       "Name: count, dtype: int64"
      ]
     },
     "execution_count": 22,
     "metadata": {},
     "output_type": "execute_result"
    }
   ],
   "source": [
    "NaN_OT[\"jobrole\"].value_counts()\n",
    "NaN_OT[\"department\"].value_counts()"
   ]
  },
  {
   "cell_type": "code",
   "execution_count": 23,
   "id": "037c9117",
   "metadata": {},
   "outputs": [
    {
     "data": {
      "text/plain": [
       "696"
      ]
     },
     "execution_count": 23,
     "metadata": {},
     "output_type": "execute_result"
    }
   ],
   "source": [
    "data['overtime'].isna().sum()"
   ]
  },
  {
   "cell_type": "code",
   "execution_count": 24,
   "id": "b700ebfe",
   "metadata": {},
   "outputs": [
    {
     "data": {
      "text/plain": [
       "performancerating\n",
       "3,0    1257\n",
       "4,0     221\n",
       "Name: count, dtype: int64"
      ]
     },
     "execution_count": 24,
     "metadata": {},
     "output_type": "execute_result"
    }
   ],
   "source": [
    "data['performancerating'].value_counts()\n"
   ]
  },
  {
   "cell_type": "code",
   "execution_count": 12,
   "id": "114aaa16",
   "metadata": {},
   "outputs": [
    {
     "name": "stderr",
     "output_type": "stream",
     "text": [
      "C:\\Users\\PC\\AppData\\Local\\Temp\\ipykernel_9804\\96786770.py:3: SettingWithCopyWarning: \n",
      "A value is trying to be set on a copy of a slice from a DataFrame.\n",
      "Try using .loc[row_indexer,col_indexer] = value instead\n",
      "\n",
      "See the caveats in the documentation: https://pandas.pydata.org/pandas-docs/stable/user_guide/indexing.html#returning-a-view-versus-a-copy\n",
      "  df_miscol['over18'] = df_miscol['over18'].fillna('Y')\n"
     ]
    }
   ],
   "source": [
    "#Over18 cambio NaN por Y pero se puede quitar esta columna:\n",
    "\n",
    "df_miscol['over18'] = df_miscol['over18'].fillna('Y')"
   ]
  },
  {
   "cell_type": "code",
   "execution_count": 8,
   "id": "ff4c93d1",
   "metadata": {},
   "outputs": [
    {
     "name": "stderr",
     "output_type": "stream",
     "text": [
      "C:\\Users\\PC\\AppData\\Local\\Temp\\ipykernel_9804\\3389886655.py:3: SettingWithCopyWarning: \n",
      "A value is trying to be set on a copy of a slice from a DataFrame.\n",
      "Try using .loc[row_indexer,col_indexer] = value instead\n",
      "\n",
      "See the caveats in the documentation: https://pandas.pydata.org/pandas-docs/stable/user_guide/indexing.html#returning-a-view-versus-a-copy\n",
      "  df_miscol[\"worklifebalance\"] = df_miscol[\"worklifebalance\"].str.replace(\",\", \".\")\n"
     ]
    }
   ],
   "source": [
    "#cambiar la , por el .\n",
    "\n",
    "df_miscol[\"worklifebalance\"] = df_miscol[\"worklifebalance\"].str.replace(\",\", \".\")"
   ]
  },
  {
   "cell_type": "code",
   "execution_count": 9,
   "id": "81accaab",
   "metadata": {},
   "outputs": [
    {
     "name": "stderr",
     "output_type": "stream",
     "text": [
      "C:\\Users\\PC\\AppData\\Local\\Temp\\ipykernel_9804\\1630643654.py:1: SettingWithCopyWarning: \n",
      "A value is trying to be set on a copy of a slice from a DataFrame.\n",
      "Try using .loc[row_indexer,col_indexer] = value instead\n",
      "\n",
      "See the caveats in the documentation: https://pandas.pydata.org/pandas-docs/stable/user_guide/indexing.html#returning-a-view-versus-a-copy\n",
      "  df_miscol[\"totalworkingyears\"] = df_miscol[\"totalworkingyears\"].str.replace(\",\", \".\")\n"
     ]
    }
   ],
   "source": [
    "df_miscol[\"totalworkingyears\"] = df_miscol[\"totalworkingyears\"].str.replace(\",\", \".\")"
   ]
  },
  {
   "cell_type": "code",
   "execution_count": 10,
   "id": "7f892f16",
   "metadata": {},
   "outputs": [
    {
     "name": "stderr",
     "output_type": "stream",
     "text": [
      "C:\\Users\\PC\\AppData\\Local\\Temp\\ipykernel_9804\\1075808933.py:1: SettingWithCopyWarning: \n",
      "A value is trying to be set on a copy of a slice from a DataFrame.\n",
      "Try using .loc[row_indexer,col_indexer] = value instead\n",
      "\n",
      "See the caveats in the documentation: https://pandas.pydata.org/pandas-docs/stable/user_guide/indexing.html#returning-a-view-versus-a-copy\n",
      "  df_miscol[\"performancerating\"] = df_miscol[\"performancerating\"].str.replace(\",\", \".\")\n"
     ]
    }
   ],
   "source": [
    "df_miscol[\"performancerating\"] = df_miscol[\"performancerating\"].str.replace(\",\", \".\")"
   ]
  },
  {
   "cell_type": "code",
   "execution_count": 29,
   "id": "58e23f13",
   "metadata": {},
   "outputs": [
    {
     "data": {
      "text/plain": [
       "performancerating\n",
       "3,0    13.978520\n",
       "4,0    21.923077\n",
       "Name: percentsalaryhike, dtype: float64"
      ]
     },
     "execution_count": 29,
     "metadata": {},
     "output_type": "execute_result"
    }
   ],
   "source": [
    "data.groupby(\"performancerating\")[\"percentsalaryhike\"].mean().sort_values()"
   ]
  },
  {
   "cell_type": "code",
   "execution_count": 30,
   "id": "e197104f",
   "metadata": {},
   "outputs": [
    {
     "data": {
      "text/plain": [
       "department\n",
       "Human Resources             2\n",
       "Research & Development     37\n",
       "Sales                       6\n",
       "dtype: int64"
      ]
     },
     "execution_count": 30,
     "metadata": {},
     "output_type": "execute_result"
    }
   ],
   "source": [
    "data[data['performancerating'].isna()].groupby(\"department\").size()"
   ]
  },
  {
   "cell_type": "code",
   "execution_count": 31,
   "id": "ce91fdf7",
   "metadata": {},
   "outputs": [
    {
     "data": {
      "text/plain": [
       "array(['Y'], dtype=object)"
      ]
     },
     "execution_count": 31,
     "metadata": {},
     "output_type": "execute_result"
    }
   ],
   "source": [
    "data['over18']. unique()"
   ]
  },
  {
   "cell_type": "markdown",
   "id": "b7ced919",
   "metadata": {},
   "source": [
    "CAMBIOS/Notas:\n",
    "\n",
    "- Over18: Cambio NaN por Y (se puede quitar esta columna)\n",
    "\n",
    "- Overtime. Valores 268 Yes, 714 No, 696 NaN. (Cambiar NaN por valor medio)\n",
    "\n",
    "- percentsalaryhike: Valores (11, 12, 13, 14, 15, 16, 17, 18, 19, 20, 21, 22, 23, 24, 25) - Mucha desigualdad en incremento de salario. - No cambios necesarios.\n",
    "\n",
    "- performancerating: 3,0 (1257), 4,0 (221), NaN (200). Cambiar los NaN por 3,0 o 4,0. - Averiguar escala. No se está haciendo una correcta evaluación del desempeño. (, cambiadas por .)\n",
    "\n",
    "- relationshipsatisfaction: Valores (1 (318), 2 (350), 3 (527), 4 (483)). 318 empleados figuran en el número 1 - fomentar actividades/eventos de empresa - No cambios necesario \n",
    "\n",
    "- standardhours: Valores (Full Time' (400),  'Part Time' (927), NaN (351)). Averiguar 351 NaN (o calcular valor medio)\n",
    "\n",
    "- stockoptionlevel: Valores (0 (719), 1 (689), 2 (177), 3 (93)) - No cambios necesario\n",
    "\n",
    "- totalworkingyears: Valores (Floats, NaN) .- averiguar los NaN\t549 NaN / Check si conservamos columna\n",
    "\n",
    "- trainingtimeslastyear: Valores (0 (63), 1 (81), 2 (625), 3 (557), 4 (143), 5 (137), 6 (72)) - Aquí podemos averiguar que 63 empleados no recibieron ningún training en el último año, mientras que 72 recibieron 6.(Checkear relación por departamentos).-  No cambios necesario.\n",
    "\n",
    "- worklifebalance: Valores (1.0 (82), 2.0 (374), 3.0 (946), 4.0 (162), NaN (114)) .- Averiguar los NaN\t82 empleados figuran en el 1.0; la mayoria en el 3.0 .- (, cambiadas por .)"
   ]
  },
  {
   "cell_type": "code",
   "execution_count": 13,
   "id": "36cabffc",
   "metadata": {},
   "outputs": [],
   "source": [
    "df_miscol.to_csv('columnas21-30.csv', index=False)"
   ]
  }
 ],
 "metadata": {
  "kernelspec": {
   "display_name": "base",
   "language": "python",
   "name": "python3"
  },
  "language_info": {
   "codemirror_mode": {
    "name": "ipython",
    "version": 3
   },
   "file_extension": ".py",
   "mimetype": "text/x-python",
   "name": "python",
   "nbconvert_exporter": "python",
   "pygments_lexer": "ipython3",
   "version": "3.12.7"
  }
 },
 "nbformat": 4,
 "nbformat_minor": 5
}
