{
 "cells": [
  {
   "cell_type": "code",
   "execution_count": 1,
   "id": "81737dcf",
   "metadata": {},
   "outputs": [],
   "source": [
    "import pandas as pd\n",
    "import numpy as np\n",
    "from sklearn.impute import SimpleImputer\n",
    "from sklearn.experimental import enable_iterative_imputer\n",
    "from sklearn.impute import IterativeImputer\n",
    "from sklearn.impute import KNNImputer\n",
    "import seaborn as sns\n",
    "import matplotlib.pyplot as plt\n",
    "pd.set_option('display.max_rows', None)\n"
   ]
  },
  {
   "cell_type": "code",
   "execution_count": 2,
   "id": "5836c046",
   "metadata": {},
   "outputs": [
    {
     "data": {
      "text/plain": [
       "Index(['age', 'attrition', 'businesstravel', 'dailyrate', 'department',\n",
       "       'education', 'educationfield', 'employeecount', 'employeenumber',\n",
       "       'distancefromhome(miles)', 'environmentsatisfaction', 'gender',\n",
       "       'hourlyrate', 'jobinvolvement', 'joblevel', 'jobrole',\n",
       "       'jobsatisfaction', 'maritalstatus', 'monthlyincome', 'monthlyrate',\n",
       "       'numcompaniesworked', 'over18', 'overtime', 'percentsalaryhike',\n",
       "       'performancerating', 'relationshipsatisfaction', 'standardhours',\n",
       "       'stockoptionlevel', 'totalworkingyears', 'trainingtimeslastyear',\n",
       "       'worklifebalance', 'yearsatcompany', 'yearsincurrentrole',\n",
       "       'yearssincelastpromotion', 'yearswithcurrmanager',\n",
       "       'sameasmonthlyincome', 'datebirth', 'salary', 'roledepartament',\n",
       "       'numberchildren', 'remotework'],\n",
       "      dtype='object')"
      ]
     },
     "execution_count": 2,
     "metadata": {},
     "output_type": "execute_result"
    }
   ],
   "source": [
    "csv_completo = pd.read_csv('csv_completo.csv')\n",
    "csv_completo.head()\n",
    "csv_completo.columns\n"
   ]
  },
  {
   "cell_type": "markdown",
   "id": "0994ae2d",
   "metadata": {},
   "source": [
    "# empezamos con la gestión de nulos de las columnas de la 1 a la 10:"
   ]
  },
  {
   "cell_type": "code",
   "execution_count": null,
   "id": "c9699cbd",
   "metadata": {},
   "outputs": [
    {
     "data": {
      "text/plain": [
       "businesstravel     department            \n",
       "non-travel         research & development     47\n",
       "                   sales                      34\n",
       "                   human resources             2\n",
       "travel_frequently  research & development    101\n",
       "                   sales                      50\n",
       "                   human resources             8\n",
       "travel_rarely      research & development    374\n",
       "                   sales                     167\n",
       "                   human resources            31\n",
       "Name: count, dtype: int64"
      ]
     },
     "execution_count": 18,
     "metadata": {},
     "output_type": "execute_result"
    }
   ],
   "source": [
    "## columna 'businesstravel':\n",
    "# veo si el departamento o el role tiene algo que ver:\n",
    "csv_completo[['businesstravel', 'department', 'jobrole']]\n",
    "csv_completo.groupby('businesstravel')['department'].value_counts() # no da informacion importante"
   ]
  },
  {
   "cell_type": "code",
   "execution_count": null,
   "id": "76c513ef",
   "metadata": {},
   "outputs": [
    {
     "data": {
      "text/plain": [
       "businesstravel     remotework\n",
       "non-travel         yes            59\n",
       "                   no             34\n",
       "travel_frequently  yes            98\n",
       "                   no             70\n",
       "travel_rarely      yes           388\n",
       "                   no            228\n",
       "Name: count, dtype: int64"
      ]
     },
     "execution_count": 24,
     "metadata": {},
     "output_type": "execute_result"
    }
   ],
   "source": [
    "csv_completo.groupby('businesstravel')['distancefromhome(miles)'].value_counts()# tampoco\n",
    "csv_completo.groupby('businesstravel')['jobinvolvement'].value_counts()# tampoco\n",
    "csv_completo.groupby('businesstravel')['joblevel'].value_counts()# tampoco\n",
    "csv_completo.groupby('businesstravel')['performancerating'].value_counts()# tampoco\n",
    "csv_completo.groupby('businesstravel')['yearsincurrentrole'].value_counts() # nada\n",
    "csv_completo.groupby('businesstravel')['remotework'].value_counts()# muy igualado\n",
    "# asi que en principio no puedo relacionarlo con ninguna columna y rellenarlo con la mediana seria inventarselo asi que sera unkown\n"
   ]
  },
  {
   "cell_type": "code",
   "execution_count": 23,
   "id": "71ef2ad2",
   "metadata": {},
   "outputs": [
    {
     "data": {
      "text/plain": [
       "businesstravel\n",
       "travel_rarely        1417\n",
       "travel_frequently     168\n",
       "non-travel             93\n",
       "Name: count, dtype: int64"
      ]
     },
     "execution_count": 23,
     "metadata": {},
     "output_type": "execute_result"
    }
   ],
   "source": [
    "csv_completo['businesstravel'].value_counts() # decido imputar los nulos por la moda que en este caso es travel_rarely"
   ]
  },
  {
   "cell_type": "code",
   "execution_count": 5,
   "id": "b2ead38c",
   "metadata": {},
   "outputs": [],
   "source": [
    "csv_completo['businesstravel'].fillna(csv_completo['businesstravel'].mode()[0], inplace=True)"
   ]
  },
  {
   "cell_type": "code",
   "execution_count": 17,
   "id": "79f4ccce",
   "metadata": {},
   "outputs": [],
   "source": [
    "\n",
    "## columna 'department':\n",
    "\n",
    "\n",
    "departamentos = {'sales executive': 'sales', 'research scientist': 'research & development', \n",
    "                 'laboratory technician': 'research & development', 'manufacturing director': 'research & development', \n",
    "                 'healthcare representative': 'research & development', \n",
    "                 'sales representative': 'sales', 'research director': 'research & development',\n",
    "                 'human resources': 'human resources'} # diccionario para rellenar 'deparment' en base a 'jobrole'\n",
    "def department(jobrole):\n",
    "    return departamentos.get(jobrole, None) # funcion para agregar los departamentos o ignorar\n",
    "\n",
    "csv_completo['department'] = csv_completo['jobrole'].apply(department)"
   ]
  },
  {
   "cell_type": "code",
   "execution_count": null,
   "id": "98f9cd03",
   "metadata": {},
   "outputs": [],
   "source": [
    "csv_completo['department'] = csv_completo['department'].fillna('Executive Team') #los nan faltantes son de manager asi que los añado en una nueva categoria como parte del equipo ejecutivo"
   ]
  },
  {
   "cell_type": "code",
   "execution_count": null,
   "id": "88c3cbe0",
   "metadata": {},
   "outputs": [],
   "source": [
    "csv_completo[['department','jobrole','roledepartament']]"
   ]
  },
  {
   "cell_type": "code",
   "execution_count": 21,
   "id": "934b0e6a",
   "metadata": {},
   "outputs": [
    {
     "data": {
      "text/plain": [
       "1678"
      ]
     },
     "execution_count": 21,
     "metadata": {},
     "output_type": "execute_result"
    }
   ],
   "source": [
    "csv_completo['department'].value_counts().sum()"
   ]
  },
  {
   "cell_type": "code",
   "execution_count": 22,
   "id": "a165bb49",
   "metadata": {},
   "outputs": [
    {
     "data": {
      "text/plain": [
       "1678"
      ]
     },
     "execution_count": 22,
     "metadata": {},
     "output_type": "execute_result"
    }
   ],
   "source": [
    "csv_completo['jobrole'].value_counts().sum()"
   ]
  },
  {
   "cell_type": "code",
   "execution_count": 25,
   "id": "6715cec2",
   "metadata": {},
   "outputs": [
    {
     "data": {
      "text/plain": [
       "0"
      ]
     },
     "execution_count": 25,
     "metadata": {},
     "output_type": "execute_result"
    }
   ],
   "source": [
    "csv_completo['distancefromhome(miles)'].isna().sum()"
   ]
  },
  {
   "cell_type": "markdown",
   "id": "7c9a1071",
   "metadata": {},
   "source": [
    "la columna de educationfield con 774 nan la completo con 'unknown'"
   ]
  },
  {
   "cell_type": "code",
   "execution_count": 26,
   "id": "8ebac895",
   "metadata": {},
   "outputs": [],
   "source": [
    "csv_completo['educationfield'] = csv_completo['educationfield'].fillna(\"unknown\")"
   ]
  },
  {
   "cell_type": "code",
   "execution_count": 27,
   "id": "ecb40887",
   "metadata": {},
   "outputs": [
    {
     "data": {
      "text/plain": [
       "educationfield\n",
       "unknown             774\n",
       "life sciences       367\n",
       "medical             286\n",
       "marketing           106\n",
       "technical degree     70\n",
       "other                63\n",
       "human resources      12\n",
       "Name: count, dtype: int64"
      ]
     },
     "execution_count": 27,
     "metadata": {},
     "output_type": "execute_result"
    }
   ],
   "source": [
    "csv_completo['educationfield'].value_counts()"
   ]
  },
  {
   "cell_type": "markdown",
   "id": "0acb63ec",
   "metadata": {},
   "source": [
    "se puede eliminar la columna roledepartament"
   ]
  }
 ],
 "metadata": {
  "kernelspec": {
   "display_name": "base",
   "language": "python",
   "name": "python3"
  },
  "language_info": {
   "codemirror_mode": {
    "name": "ipython",
    "version": 3
   },
   "file_extension": ".py",
   "mimetype": "text/x-python",
   "name": "python",
   "nbconvert_exporter": "python",
   "pygments_lexer": "ipython3",
   "version": "3.12.7"
  }
 },
 "nbformat": 4,
 "nbformat_minor": 5
}
