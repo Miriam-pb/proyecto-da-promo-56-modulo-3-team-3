{
 "cells": [
  {
   "cell_type": "markdown",
   "id": "4572a389",
   "metadata": {},
   "source": [
    "#### INFORME DE IMPUTACIÓN DE NULOS POR COLUMNA \n",
    "\n",
    "De momento incluídas (21-30)"
   ]
  },
  {
   "cell_type": "markdown",
   "id": "afce06ff",
   "metadata": {},
   "source": [
    "#### COLUMNA OVER 18: Indica si el empleado tiene más de 18 años (y).\n",
    "\n",
    "- Índice 21\n",
    "- Nulos modificados por 'y', ya que al comparar con la columna \"age\" comprobamos que todos los empleados son Over18."
   ]
  },
  {
   "cell_type": "code",
   "execution_count": null,
   "id": "61d07aac",
   "metadata": {},
   "outputs": [],
   "source": [
    "df['over18'] = df['over18'].fillna('y')"
   ]
  },
  {
   "cell_type": "markdown",
   "id": "fefba19e",
   "metadata": {},
   "source": [
    "#### COLUMNA OVERTIME: Indica si el empleado trabaja horas extras (yes, no).\n",
    "\n",
    "- Índice 22\n",
    "- 696 valores nulos -> Imputación por moda (valor más frecuente ('No')): "
   ]
  },
  {
   "cell_type": "code",
   "execution_count": null,
   "id": "e81c42dc",
   "metadata": {},
   "outputs": [],
   "source": [
    "df['overtime'] = df['overtime'].fillna('no')"
   ]
  },
  {
   "cell_type": "markdown",
   "id": "57ba813f",
   "metadata": {},
   "source": [
    "#### COLUMNA PERFORMANCE RATING: Evaluación de desempeño en una escala numérica (1, 2, 3, 4).\n",
    "\n",
    "- Índice 24\n",
    "- 200 valores nulos\n",
    "- Se trata de una escala ordinal (1-4), pero solo tenemos valores 3.0 y 4.0. Imputación valores nulos por \"unknown\":\n"
   ]
  },
  {
   "cell_type": "code",
   "execution_count": null,
   "id": "e0a5b9bf",
   "metadata": {},
   "outputs": [],
   "source": [
    "df['performancerating'] = df['performancerating'].fillna(\"unknown\")"
   ]
  },
  {
   "cell_type": "markdown",
   "id": "9435f726",
   "metadata": {},
   "source": [
    "#### COLUMNA STANDARD HOURS: Clasificación de jornada (full time, part time).\n",
    "\n",
    "- Índice 26\n",
    "- 351 valores nulos\n",
    "- Imputación valores nulos por \"fulltime\" (anteriormente fulltime no se registraba):"
   ]
  },
  {
   "cell_type": "code",
   "execution_count": null,
   "id": "6af62326",
   "metadata": {},
   "outputs": [],
   "source": [
    "df['standardhours'].fillna('fulltime', inplace=True)"
   ]
  },
  {
   "cell_type": "markdown",
   "id": "e9df8dfd",
   "metadata": {},
   "source": [
    "#### COLUMNA TOTAL WORKING YEARS: Años totales de experiencia laboral.\n",
    "\n",
    "- Índice 28\n",
    "- 549 valores nulos\n",
    "- Imputación por la media:"
   ]
  },
  {
   "cell_type": "code",
   "execution_count": null,
   "id": "daea01a7",
   "metadata": {},
   "outputs": [],
   "source": [
    "from sklearn.impute import SimpleImputer\n",
    "\n",
    "imputer = SimpleImputer(strategy='mean') \n",
    "df['totalworkingyears'] = imputer.fit_transform(df[['totalworkingyears']])\n",
    "df['totalworkingyears']=df['totalworkingyears'].round(2)"
   ]
  },
  {
   "cell_type": "markdown",
   "id": "de935e0e",
   "metadata": {},
   "source": [
    "#### COLUMNA WORK LIFE BALANCE: Nivel de balance entre vida personal y laboral (1, 2, 3, 4).\n",
    "\n",
    "- Índice 30\n",
    "- 114 valores nulos\n",
    "- Imputación por moda (valor más frecuente: 3)"
   ]
  },
  {
   "cell_type": "code",
   "execution_count": null,
   "id": "9bc640c0",
   "metadata": {},
   "outputs": [],
   "source": [
    "df['worklifebalance'].fillna(df['worklifebalance'].mode()[0], inplace=True)"
   ]
  },
  {
   "cell_type": "markdown",
   "id": "a5038568",
   "metadata": {},
   "source": [
    "Columnas excluídas en mi informe de nulos, no NaN:\n",
    "\n",
    "- PercentSalaryHike\n",
    "- RelationshipSatisfaction\n",
    "- StockOptionLevel\n",
    "- TrainingTimesLastYear\n"
   ]
  }
 ],
 "metadata": {
  "kernelspec": {
   "display_name": "base",
   "language": "python",
   "name": "python3"
  },
  "language_info": {
   "codemirror_mode": {
    "name": "ipython",
    "version": 3
   },
   "file_extension": ".py",
   "mimetype": "text/x-python",
   "name": "python",
   "nbconvert_exporter": "python",
   "pygments_lexer": "ipython3",
   "version": "3.12.7"
  }
 },
 "nbformat": 4,
 "nbformat_minor": 5
}
