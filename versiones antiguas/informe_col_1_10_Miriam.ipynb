{
 "cells": [
  {
   "cell_type": "markdown",
   "id": "a58138e8",
   "metadata": {},
   "source": [
    "En primer lugar hago las importaciones, en este caso solamente panda"
   ]
  },
  {
   "cell_type": "code",
   "execution_count": null,
   "id": "ecdb501b",
   "metadata": {},
   "outputs": [],
   "source": [
    "import pandas as pd\n",
    "pd.set_option('display.max_rows', None) # configuración para ver todas las filas del csv"
   ]
  },
  {
   "cell_type": "code",
   "execution_count": null,
   "id": "a2a02b50",
   "metadata": {},
   "outputs": [],
   "source": [
    "# leo el csv original\n",
    "# datos = pd.read_csv(\"raw_data.csv\", index_col=0)"
   ]
  },
  {
   "cell_type": "code",
   "execution_count": null,
   "id": "7167aaa7",
   "metadata": {},
   "outputs": [],
   "source": [
    "# lo convierto en un csv de 10 columnas\n",
    "# datos = data.iloc[0:,:10:]\n",
    "# datos.to_csv('columnas_1_10.csv', index=True)"
   ]
  },
  {
   "cell_type": "markdown",
   "id": "7aa2bf50",
   "metadata": {},
   "source": [
    "#Age: Edad del empleado: tipo objeto, no int, no se ven NaN pero tengo que seguir explorando, en la fila 31 aparece escrita la edad: forty-seven y hay mas asi\n",
    "\n",
    "\n",
    "#Attrition: Indica si el empleado dejó la empresa (Yes/No): tipo objeto, en principio no hay datos raros y todo es yes o no y no faltan datos\n",
    "\n",
    "\n",
    "#BusinessTravel: Frecuencia de viajes laborales (e.g., travel_rarely): tipo , aparecen muchisimos NaN en el csv esta vacio no hay ningun valor, el resto esta expresado normal\n",
    "\n",
    "\n",
    "#DailyRate: Tarifa diaria estimada para clientes, calculada en base al salario: tipo , son decimales demasiado largos, se deberia hacer un round\n",
    "\n",
    "\n",
    "#Department: Departamento en el que trabaja el empleado: muchos null, demasiados, y aparecen research development y sales, rrhh unicamente\n",
    "\n",
    "\n",
    "#Distancefromhome: distancia en millas o kilometro desde el hogar al trabajo: tipo , hay algunos valores negativos, supongo que habra que quitar el - porque los valores estaran bien y especificar millas o km\n",
    "\n",
    "\n",
    "#education: nivel educativo del empleado en escala numerica: tipo , son numeros pequeños, no hay nulos en principio y no se que significa xd\n",
    "\n",
    "\n",
    "#educationfield: campo de estudio academico de empleado: tipo , muchos nulos y algun 'otro'\n",
    "\n",
    "\n",
    "#employeecount: : tipo , en principio todo bien, comprobar si hay nulos\n",
    "\n",
    "\n",
    "#employeenumber: en principio todo bien, cambiar tipo quiza haya algun duplicado \"employeenumber\": Entendemos que cada fila es un empleado por lo que es necesario modificar 64 valores que son duplicados (Tenemos empleados entre 1-1614, los demás son los 64 duplicados). Todos son int"
   ]
  },
  {
   "cell_type": "code",
   "execution_count": null,
   "id": "e6ab0071",
   "metadata": {},
   "outputs": [],
   "source": [
    "# cambiamos los valores por numeros: \n",
    "# df_10_columnas['age'] = df_10_columnas['age'].str.replace('forty-seven', '47')\n",
    "# df_10_columnas['age'] = df_10_columnas['age'].str.replace('fifty-eight', '58')\n",
    "# df_10_columnas['age'] = df_10_columnas['age'].str.replace('thirty-six', '36')\n",
    "# df_10_columnas['age'] = df_10_columnas['age'].str.replace('fifty-five', '55')\n",
    "# df_10_columnas['age'] = df_10_columnas['age'].str.replace('fifty-two', '52')\n",
    "# df_10_columnas['age'] = df_10_columnas['age'].str.replace('thirty-one', '31')\n",
    "# df_10_columnas['age'] = df_10_columnas['age'].str.replace('thirty', '30')\n",
    "# df_10_columnas['age'] = df_10_columnas['age'].str.replace('twenty-six', '26')\n",
    "# df_10_columnas['age'] = df_10_columnas['age'].str.replace('thirty-seven', '37')\n",
    "# df_10_columnas['age'] = df_10_columnas['age'].str.replace('thirty-two', '32')\n",
    "# df_10_columnas['age'] = df_10_columnas['age'].str.replace('twenty-four', '24')\n",
    "# df_10_columnas['age'] = df_10_columnas['age'].str.replace('30-seven', '37')\n",
    "# df_10_columnas['age'] = df_10_columnas['age'].str.replace('30-two', '32')\n",
    "\n",
    "# por ultimo cambiamos el tipo:\n",
    "# df_10_columnas['age'] = df_10_columnas['age'].astype(int)\n",
    "\n",
    "# comprobar los unicos\n",
    "# df_10_columnas['age'].unique()"
   ]
  },
  {
   "cell_type": "code",
   "execution_count": null,
   "id": "a90f3e12",
   "metadata": {},
   "outputs": [],
   "source": [
    "# Attrition: Indica si el empleado dejó la empresa (Yes/No): tipo objeto, en principio no hay datos raros y todo es yes o no y no faltan datos\n",
    "# se deja asi\n",
    "# df_10_columnas['attrition'].unique()\n",
    "# df_10_columnas['attrition'].value_counts()\n",
    "# df_10_columnas['attrition'].value_counts().sum()  # comprobadisimo"
   ]
  },
  {
   "cell_type": "code",
   "execution_count": null,
   "id": "0fa49e26",
   "metadata": {},
   "outputs": [],
   "source": [
    "#BusinessTravel: Frecuencia de viajes laborales (e.g., travel_rarely): tipo , aparecen muchisimos NaN en el csv esta vacio no hay ningun valor, el resto esta expresado normal\n",
    "# df_10_columnas['businesstravel'].unique()\n",
    "# df_10_columnas['businesstravel'].value_counts() \n",
    "# travel_rarely 616, travel_frequently 168, non-travel 93, NaN 801 "
   ]
  },
  {
   "cell_type": "code",
   "execution_count": null,
   "id": "a41814b8",
   "metadata": {},
   "outputs": [],
   "source": [
    "# DailyRate: Tarifa diaria estimada para clientes, calculada en base al salario: tipo , son decimales demasiado largos, se deberia hacer un round\n",
    "# df_10_columnas['dailyrate'] = round(df_10_columnas['dailyrate'], 2)\n",
    "# df_10_columnas['dailyrate'].unique() # lo dejo redondeado a 2 y ahora compruebo si hay algun nulo\n",
    "# df_10_columnas.info() \n",
    "# 1678 non-null y es float asi que chachi"
   ]
  },
  {
   "cell_type": "code",
   "execution_count": null,
   "id": "d4ca1251",
   "metadata": {},
   "outputs": [],
   "source": [
    "# Department: Departamento en el que trabaja el empleado: muchos null, demasiados, y aparecen research development y sales, rrhh unicamente\n",
    "# df_10_columnas['department'].unique()\n",
    "# df_10_columnas['department'].value_counts() \n",
    "# research 203, sales 93, rrhh 16 y NaN 1366 # raro que no esten registrados los departamentos de tantos empleados"
   ]
  },
  {
   "cell_type": "code",
   "execution_count": null,
   "id": "9767e15d",
   "metadata": {},
   "outputs": [],
   "source": [
    "#Distancefromhome: distancia en millas o kilometro desde el hogar al trabajo: tipo , hay algunos valores negativos, supongo que habra que quitar el - porque los valores estaran bien y especificar millas o km\n",
    "# df_10_columnas['distancefromhome(miles)'] = df_10_columnas['distancefromhome'].astype(str) # especifico en miles por ser del sistema metrico de EEUU de donde proviene la empresa y lo convierto en str porque si no no me deja modificarlo para quitarle el -\n",
    "# df_10_columnas['distancefromhome(miles)'] = df_10_columnas['distancefromhome(miles)'].str.replace('-','') # le quito el -\n",
    "# df_10_columnas['distancefromhome(miles)'] = df_10_columnas['distancefromhome(miles)'].astype(int) #lo vuelvo a int\n",
    "# df_10_columnas = df_10_columnas.drop('distancefromhome', axis=1) # borramos la anterior sin el nombre cambiado"
   ]
  },
  {
   "cell_type": "code",
   "execution_count": null,
   "id": "12a36f15",
   "metadata": {},
   "outputs": [],
   "source": [
    "# education: nivel educativo del empleado en escala numerica: tipo , son numeros pequeños, no hay nulos en principio y no se que significa xd\n",
    "# df_10_columnas['education'].unique() # no hay Nan\n",
    "# entiendo que habra que relacionar la educacion de cada uno con el sueldo y demas\n",
    "# df_10_columnas['education'].value_counts() \n",
    "# 1: 186 empleados, 2: 322, 3: 649, 4: 461, 5:60 # comprobar si la escala es desc o asc"
   ]
  },
  {
   "cell_type": "code",
   "execution_count": null,
   "id": "c7fde74e",
   "metadata": {},
   "outputs": [],
   "source": [
    "# educationfield: campo de estudio academico de empleado: tipo , muchos nulos y algun 'otro'\n",
    "# df_10_columnas['educationfield'].unique() # puede estar directamente relacionado con la education y sueldo y demas, comprobar que los nan de que nivel de education son\n",
    "# df_10_columnas['educationfield'].value_counts() \n",
    "# Life Sciences 367, Medical 286, Marketing 106, Technical Degree 70, Other 63, Human Resources 12, NaN 774\n"
   ]
  },
  {
   "cell_type": "code",
   "execution_count": null,
   "id": "7bbf15a4",
   "metadata": {},
   "outputs": [],
   "source": [
    "# \"employeenumber\": Entendemos que cada fila es un empleado por lo que es necesario modificar 64 valores que son duplicados (Tenemos empleados entre 1-1614, los demás son los 64 duplicados). Todos son int\n",
    "# df_10_columnas['employeenumber'].unique() # hasta 1614 a no ser que se salten numeros\n",
    "# df_10_columnas['employeenumber'].value_counts()\n",
    "# df_10_columnas['employeenumber'].duplicated().sum() \n",
    "# 64 duplicados"
   ]
  },
  {
   "cell_type": "markdown",
   "id": "726bfb7e",
   "metadata": {},
   "source": [
    "Lista_numeros_repetidos\n",
    "300     ,\n",
    "159     ,\n",
    "271     ,\n",
    "1158    ,\n",
    "191     ,\n",
    "1060    ,\n",
    "1245   ,\n",
    "1243    ,\n",
    "1567    ,\n",
    "1568    ,\n",
    "1569    ,\n",
    "644     ,\n",
    "864     ,\n",
    "958     ,\n",
    "1532    ,\n",
    "1056    ,\n",
    "1087   ,\n",
    "61      ,\n",
    "878     ,\n",
    "1235    ,\n",
    "293     ,\n",
    "168     ,\n",
    "1342   ,\n",
    "969     ,\n",
    "1268   ,\n",
    "672     ,\n",
    "663    ,\n",
    "977    ,\n",
    "564    ,\n",
    "76      ,\n",
    "178     ,\n",
    "369    ,\n",
    "755     ,\n",
    "352     ,\n",
    "1525    ,\n",
    "1349    ,\n",
    "108     ,\n",
    "1339    ,\n",
    "203    ,\n",
    "1393    ,\n",
    "824     ,\n",
    "1030    ,\n",
    "532     ,\n",
    "1608   ,\n",
    "9       ,\n",
    "828    ,\n",
    "1402    ,\n",
    "1212    ,\n",
    "932     ,\n",
    "528    ,\n",
    "1499    ,\n",
    "1477    ,\n",
    "526     ,\n",
    "1324    ,\n",
    "1048    ,\n",
    "1326    ,\n",
    "304     ,\n",
    "853     ,\n",
    "401     ,\n",
    "112    ,\n",
    "1370    ,\n",
    "633     ,\n",
    "1474    ,\n",
    "1179    ,"
   ]
  },
  {
   "cell_type": "markdown",
   "id": "436ff4c2",
   "metadata": {},
   "source": [
    "Se repiten los datos porque hay varias entradas del mismo empleado, no podemos eliminar los duplicados ni darle id nuevos a las filas ya que puede ser informacion anonima de la empresa, asi que podemos solicitar a la empresa recoger los datos por fecha y asi si se repite el di nos podemos quedar con la ultima encuesta de satisfaccion, tambien podemos tener en cuenta o estudiar como ha cambiado la situacion del empleado respecto a su sueldo, el tiempo que lleva etc de los las diferentes entradas"
   ]
  },
  {
   "cell_type": "code",
   "execution_count": null,
   "id": "05737ace",
   "metadata": {},
   "outputs": [],
   "source": [
    "# cambiar todo a minúsculas y quito espacios:\n",
    "# df_10_columnas['department'] = df_10_columnas['department'].str.lower().str.strip()\n",
    "# df_10_columnas['educationfield'] = df_10_columnas['educationfield'].str.lower()"
   ]
  },
  {
   "cell_type": "code",
   "execution_count": null,
   "id": "dd2468c7",
   "metadata": {},
   "outputs": [],
   "source": [
    "# df_10_columnas = df_10_columnas.sort_values(by='employeenumber') # este codigo ordena por el numero de empleado, interesante cuando ya lo hayamos unido todos los csv, no antes"
   ]
  }
 ],
 "metadata": {
  "kernelspec": {
   "display_name": "base",
   "language": "python",
   "name": "python3"
  },
  "language_info": {
   "codemirror_mode": {
    "name": "ipython",
    "version": 3
   },
   "file_extension": ".py",
   "mimetype": "text/x-python",
   "name": "python",
   "nbconvert_exporter": "python",
   "pygments_lexer": "ipython3",
   "version": "3.12.7"
  }
 },
 "nbformat": 4,
 "nbformat_minor": 5
}
